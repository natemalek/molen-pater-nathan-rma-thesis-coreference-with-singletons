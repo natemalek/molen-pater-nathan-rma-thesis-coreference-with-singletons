{
 "cells": [
  {
   "cell_type": "code",
   "execution_count": 1,
   "metadata": {},
   "outputs": [],
   "source": [
    "import sys\n",
    "if '..' not in sys.path:\n",
    "    sys.path.append('..')"
   ]
  },
  {
   "cell_type": "code",
   "execution_count": null,
   "metadata": {},
   "outputs": [],
   "source": [
    "%matplotlib inline\n",
    "import matplotlib.pyplot as plt\n",
    "import seaborn as sns"
   ]
  },
  {
   "cell_type": "code",
   "execution_count": 2,
   "metadata": {},
   "outputs": [],
   "source": [
    "from cort.core.corpora import Corpus\n",
    "import os\n",
    "from docopt import docopt\n",
    "import sys\n",
    "import re\n",
    "from collections import defaultdict\n",
    "from utils import map_values\n",
    "import codecs\n",
    "\n",
    "\n",
    "def read_dataset(inp_dir):\n",
    "    mentions, tokens, names = defaultdict(list), defaultdict(list), defaultdict(list)\n",
    "    for fname in os.listdir(inp_dir):\n",
    "        if fname.endswith('_gold_conll'):\n",
    "            genre = infer_genre(fname)\n",
    "            path = os.path.join(inp_dir, fname)\n",
    "            try:\n",
    "                with codecs.open(path, 'r', 'utf-8') as f:\n",
    "                    corpus = Corpus.from_file('', f)\n",
    "            except KeyError:\n",
    "                # https://github.com/dmcc/PyStanfordDependencies/issues/24\n",
    "                sys.stderr.write(\"Ignored due to parsing error: %s\\n\" %path)\n",
    "            for doc in corpus:\n",
    "                if not doc.annotated_mentions:\n",
    "                    sys.stderr.write(\"Document doesn't contain any mention: %s\\n\" %doc.identifier)\n",
    "                else:\n",
    "                    my_mentions, my_tokens, my_names = read_document(doc)\n",
    "                    mentions[genre].extend(my_mentions)\n",
    "                    tokens[genre].extend(my_tokens)\n",
    "                    names[genre].extend(my_names)\n",
    "    mentions['all'] = [n for list_ in mentions.values() for n in list_]\n",
    "    tokens['all'] = [n for list_ in tokens.values() for n in list_]\n",
    "    names['all'] = [n for list_ in names.values() for n in list_]\n",
    "    return mentions, tokens, names\n",
    "\n",
    "\n",
    "def infer_genre(fname):\n",
    "    return re.match(r'(\\w{2})_', fname).group(1)\n",
    "\n",
    "\n",
    "def read_document(doc):\n",
    "    mentions = [m for m in doc.annotated_mentions]\n",
    "    tokens = [doc.tokens[i]\n",
    "              for m in mentions\n",
    "              for i in range(m.span.begin, m.span.end+1)]\n",
    "    names = [' '.join(doc.tokens[i] \n",
    "                       for i in range(m.span.begin, m.span.end+1)\n",
    "                       if doc.pos[i] in ['NNP', 'NNPS'])\n",
    "              for m in mentions]\n",
    "    names = [n for n in names if n != '']\n",
    "    return mentions, tokens, names"
   ]
  },
  {
   "cell_type": "code",
   "execution_count": 3,
   "metadata": {},
   "outputs": [
    {
     "name": "stderr",
     "output_type": "stream",
     "text": [
      "Document doesn't contain any mention: (bn/voa/00/voa_0043); part 000\n",
      "Document doesn't contain any mention: (nw/wsj/10/wsj_1088); part 000\n",
      "Document doesn't contain any mention: (nw/wsj/13/wsj_1384); part 000\n",
      "Document doesn't contain any mention: (bc/cnn/00/cnn_0001); part 009\n",
      "Document doesn't contain any mention: (nw/xinhua/02/chtb_0205); part 000\n",
      "Ignored due to parsing error: ../data/conll-2012-flat/train/tc_ch_0005.v4_gold_conll\n",
      "Document doesn't contain any mention: (bn/voa/00/voa_0017); part 000\n",
      "Document doesn't contain any mention: (bn/abc/00/abc_0024); part 000\n",
      "Document doesn't contain any mention: (bn/abc/00/abc_0054); part 000\n",
      "Document doesn't contain any mention: (nw/xinhua/01/chtb_0175); part 000\n",
      "Document doesn't contain any mention: (nw/wsj/13/wsj_1342); part 000\n",
      "Document doesn't contain any mention: (nw/wsj/14/wsj_1408); part 000\n",
      "Document doesn't contain any mention: (bn/pri/00/pri_0097); part 000\n",
      "Document doesn't contain any mention: (bn/voa/00/voa_0065); part 000\n",
      "Document doesn't contain any mention: (nw/xinhua/01/chtb_0195); part 000\n",
      "Ignored due to parsing error: ../data/conll-2012-flat/train/tc_ch_0024.v4_gold_conll\n",
      "Document doesn't contain any mention: (nw/wsj/10/wsj_1067); part 000\n",
      "Document doesn't contain any mention: (bn/abc/00/abc_0008); part 000\n",
      "Document doesn't contain any mention: (bn/voa/01/voa_0145); part 000\n",
      "Document doesn't contain any mention: (nw/wsj/21/wsj_2122); part 000\n",
      "Document doesn't contain any mention: (bn/voa/00/voa_0006); part 000\n",
      "Document doesn't contain any mention: (bn/cnn/01/cnn_0143); part 000\n",
      "Ignored due to parsing error: ../data/conll-2012-flat/train/bn_cnn_0432.v4_gold_conll\n",
      "Document doesn't contain any mention: (bn/voa/01/voa_0158); part 000\n",
      "Document doesn't contain any mention: (bn/voa/00/voa_0045); part 000\n",
      "Ignored due to parsing error: ../data/conll-2012-flat/train/tc_ch_0004.v4_gold_conll\n",
      "Document doesn't contain any mention: (nw/wsj/14/wsj_1406); part 000\n",
      "Document doesn't contain any mention: (bn/voa/02/voa_0223); part 000\n",
      "Document doesn't contain any mention: (bn/nbc/00/nbc_0038); part 000\n",
      "Document doesn't contain any mention: (nw/wsj/14/wsj_1486); part 000\n",
      "Ignored due to parsing error: ../data/conll-2012-flat/train/bc_msnbc_0001.v4_gold_conll\n",
      "Document doesn't contain any mention: (bn/abc/00/abc_0012); part 000\n"
     ]
    }
   ],
   "source": [
    "inp_dir = '../data/conll-2012-flat'\n",
    "_, train_tokens, train_names = read_dataset(os.path.join(inp_dir, 'train'))"
   ]
  },
  {
   "cell_type": "code",
   "execution_count": 4,
   "metadata": {},
   "outputs": [
    {
     "name": "stderr",
     "output_type": "stream",
     "text": [
      "Document doesn't contain any mention: (bn/cnn/02/cnn_0240); part 000\n"
     ]
    }
   ],
   "source": [
    "dev_mentions, dev_tokens, dev_names = read_dataset(os.path.join(inp_dir, 'dev'))"
   ]
  },
  {
   "cell_type": "code",
   "execution_count": 5,
   "metadata": {},
   "outputs": [],
   "source": [
    "num_dev_mentions = map_values(dev_mentions, len)"
   ]
  },
  {
   "cell_type": "code",
   "execution_count": 6,
   "metadata": {},
   "outputs": [
    {
     "data": {
      "text/plain": [
       "{'bc': 3393,\n",
       " 'bn': 2830,\n",
       " 'pt': 3082,\n",
       " 'nw': 4987,\n",
       " 'mz': 1402,\n",
       " 'wb': 1792,\n",
       " 'tc': 1669,\n",
       " 'all': 19155}"
      ]
     },
     "execution_count": 6,
     "metadata": {},
     "output_type": "execute_result"
    }
   ],
   "source": [
    "num_dev_mentions"
   ]
  },
  {
   "cell_type": "code",
   "execution_count": 7,
   "metadata": {},
   "outputs": [],
   "source": [
    "import numpy as np\n",
    "import pandas as pd\n",
    "\n",
    "def measure_coverage(train, dev, num_dev_mentions, type_):\n",
    "    data = []\n",
    "    unique_train = map_values(train, set)\n",
    "    unique_dev = map_values(dev, set)\n",
    "    for genre in train:\n",
    "        num_covered = sum(1 for n in dev[genre] if n in unique_train[genre])\n",
    "        num_unique_covered = len(unique_dev.get(genre, set())\n",
    "                                      .intersection(unique_train[genre]))\n",
    "        data.append({\n",
    "            'type': type_,\n",
    "            'genre': genre,\n",
    "            'num_train': len(train[genre]),\n",
    "            'num_dev': len(dev[genre]),\n",
    "            'num_unique_train': len(unique_train[genre]),\n",
    "            'num_unique_dev': len(unique_dev.get(genre, set())),\n",
    "            'num_covered': num_covered,\n",
    "            'num_unique_covered': num_unique_covered,\n",
    "            'proportion_covered': np.float64(num_covered) / len(dev[genre]),\n",
    "            'proportion_unique_covered': np.float64(num_unique_covered) / len(unique_dev[genre]),\n",
    "            'num_dev_mentions': num_dev_mentions[genre]\n",
    "        })\n",
    "    return data"
   ]
  },
  {
   "cell_type": "markdown",
   "metadata": {},
   "source": [
    "# Compare coverage of names and common tokens"
   ]
  },
  {
   "cell_type": "code",
   "execution_count": 8,
   "metadata": {},
   "outputs": [],
   "source": [
    "data = (measure_coverage(train_tokens, dev_tokens, num_dev_mentions, 'tokens') +\n",
    "        measure_coverage(train_names, dev_names, num_dev_mentions, 'names'))\n",
    "df = pd.DataFrame(data)"
   ]
  },
  {
   "cell_type": "code",
   "execution_count": 9,
   "metadata": {},
   "outputs": [
    {
     "data": {
      "text/html": [
       "<div>\n",
       "<style scoped>\n",
       "    .dataframe tbody tr th:only-of-type {\n",
       "        vertical-align: middle;\n",
       "    }\n",
       "\n",
       "    .dataframe tbody tr th {\n",
       "        vertical-align: top;\n",
       "    }\n",
       "\n",
       "    .dataframe thead th {\n",
       "        text-align: right;\n",
       "    }\n",
       "</style>\n",
       "<table border=\"1\" class=\"dataframe\">\n",
       "  <thead>\n",
       "    <tr style=\"text-align: right;\">\n",
       "      <th></th>\n",
       "      <th>genre</th>\n",
       "      <th>num_covered</th>\n",
       "      <th>num_dev</th>\n",
       "      <th>num_dev_mentions</th>\n",
       "      <th>num_train</th>\n",
       "      <th>num_unique_covered</th>\n",
       "      <th>num_unique_dev</th>\n",
       "      <th>num_unique_train</th>\n",
       "      <th>proportion_covered</th>\n",
       "      <th>proportion_unique_covered</th>\n",
       "      <th>type</th>\n",
       "    </tr>\n",
       "  </thead>\n",
       "  <tbody>\n",
       "    <tr>\n",
       "      <th>0</th>\n",
       "      <td>pt</td>\n",
       "      <td>5199</td>\n",
       "      <td>5304</td>\n",
       "      <td>3082</td>\n",
       "      <td>72138</td>\n",
       "      <td>523</td>\n",
       "      <td>586</td>\n",
       "      <td>2233</td>\n",
       "      <td>0.980204</td>\n",
       "      <td>0.892491</td>\n",
       "      <td>tokens</td>\n",
       "    </tr>\n",
       "    <tr>\n",
       "      <th>1</th>\n",
       "      <td>nw</td>\n",
       "      <td>14082</td>\n",
       "      <td>15736</td>\n",
       "      <td>4987</td>\n",
       "      <td>108694</td>\n",
       "      <td>2247</td>\n",
       "      <td>3167</td>\n",
       "      <td>11195</td>\n",
       "      <td>0.894891</td>\n",
       "      <td>0.709504</td>\n",
       "      <td>tokens</td>\n",
       "    </tr>\n",
       "    <tr>\n",
       "      <th>2</th>\n",
       "      <td>bn</td>\n",
       "      <td>6446</td>\n",
       "      <td>7151</td>\n",
       "      <td>2830</td>\n",
       "      <td>57748</td>\n",
       "      <td>1179</td>\n",
       "      <td>1610</td>\n",
       "      <td>6391</td>\n",
       "      <td>0.901412</td>\n",
       "      <td>0.732298</td>\n",
       "      <td>tokens</td>\n",
       "    </tr>\n",
       "    <tr>\n",
       "      <th>3</th>\n",
       "      <td>mz</td>\n",
       "      <td>2871</td>\n",
       "      <td>3547</td>\n",
       "      <td>1402</td>\n",
       "      <td>33878</td>\n",
       "      <td>527</td>\n",
       "      <td>860</td>\n",
       "      <td>4453</td>\n",
       "      <td>0.809416</td>\n",
       "      <td>0.612791</td>\n",
       "      <td>tokens</td>\n",
       "    </tr>\n",
       "    <tr>\n",
       "      <th>4</th>\n",
       "      <td>bc</td>\n",
       "      <td>5585</td>\n",
       "      <td>7147</td>\n",
       "      <td>3393</td>\n",
       "      <td>34897</td>\n",
       "      <td>777</td>\n",
       "      <td>1401</td>\n",
       "      <td>3716</td>\n",
       "      <td>0.781447</td>\n",
       "      <td>0.554604</td>\n",
       "      <td>tokens</td>\n",
       "    </tr>\n",
       "    <tr>\n",
       "      <th>5</th>\n",
       "      <td>tc</td>\n",
       "      <td>1902</td>\n",
       "      <td>2168</td>\n",
       "      <td>1669</td>\n",
       "      <td>15298</td>\n",
       "      <td>200</td>\n",
       "      <td>353</td>\n",
       "      <td>1669</td>\n",
       "      <td>0.877306</td>\n",
       "      <td>0.566572</td>\n",
       "      <td>tokens</td>\n",
       "    </tr>\n",
       "    <tr>\n",
       "      <th>6</th>\n",
       "      <td>wb</td>\n",
       "      <td>3511</td>\n",
       "      <td>4344</td>\n",
       "      <td>1792</td>\n",
       "      <td>29759</td>\n",
       "      <td>603</td>\n",
       "      <td>1123</td>\n",
       "      <td>4502</td>\n",
       "      <td>0.808241</td>\n",
       "      <td>0.536955</td>\n",
       "      <td>tokens</td>\n",
       "    </tr>\n",
       "    <tr>\n",
       "      <th>7</th>\n",
       "      <td>all</td>\n",
       "      <td>42303</td>\n",
       "      <td>45397</td>\n",
       "      <td>19155</td>\n",
       "      <td>352412</td>\n",
       "      <td>4576</td>\n",
       "      <td>6185</td>\n",
       "      <td>19845</td>\n",
       "      <td>0.931846</td>\n",
       "      <td>0.739854</td>\n",
       "      <td>tokens</td>\n",
       "    </tr>\n",
       "    <tr>\n",
       "      <th>8</th>\n",
       "      <td>pt</td>\n",
       "      <td>583</td>\n",
       "      <td>612</td>\n",
       "      <td>3082</td>\n",
       "      <td>9635</td>\n",
       "      <td>66</td>\n",
       "      <td>83</td>\n",
       "      <td>642</td>\n",
       "      <td>0.952614</td>\n",
       "      <td>0.795181</td>\n",
       "      <td>names</td>\n",
       "    </tr>\n",
       "    <tr>\n",
       "      <th>9</th>\n",
       "      <td>nw</td>\n",
       "      <td>1150</td>\n",
       "      <td>2268</td>\n",
       "      <td>4987</td>\n",
       "      <td>15780</td>\n",
       "      <td>244</td>\n",
       "      <td>930</td>\n",
       "      <td>5232</td>\n",
       "      <td>0.507055</td>\n",
       "      <td>0.262366</td>\n",
       "      <td>names</td>\n",
       "    </tr>\n",
       "    <tr>\n",
       "      <th>10</th>\n",
       "      <td>bn</td>\n",
       "      <td>767</td>\n",
       "      <td>1151</td>\n",
       "      <td>2830</td>\n",
       "      <td>8790</td>\n",
       "      <td>195</td>\n",
       "      <td>449</td>\n",
       "      <td>2517</td>\n",
       "      <td>0.666377</td>\n",
       "      <td>0.434298</td>\n",
       "      <td>names</td>\n",
       "    </tr>\n",
       "    <tr>\n",
       "      <th>11</th>\n",
       "      <td>mz</td>\n",
       "      <td>354</td>\n",
       "      <td>653</td>\n",
       "      <td>1402</td>\n",
       "      <td>5417</td>\n",
       "      <td>43</td>\n",
       "      <td>178</td>\n",
       "      <td>1241</td>\n",
       "      <td>0.542113</td>\n",
       "      <td>0.241573</td>\n",
       "      <td>names</td>\n",
       "    </tr>\n",
       "    <tr>\n",
       "      <th>12</th>\n",
       "      <td>bc</td>\n",
       "      <td>168</td>\n",
       "      <td>762</td>\n",
       "      <td>3393</td>\n",
       "      <td>4380</td>\n",
       "      <td>49</td>\n",
       "      <td>300</td>\n",
       "      <td>1210</td>\n",
       "      <td>0.220472</td>\n",
       "      <td>0.163333</td>\n",
       "      <td>names</td>\n",
       "    </tr>\n",
       "    <tr>\n",
       "      <th>13</th>\n",
       "      <td>tc</td>\n",
       "      <td>18</td>\n",
       "      <td>137</td>\n",
       "      <td>1669</td>\n",
       "      <td>1047</td>\n",
       "      <td>11</td>\n",
       "      <td>84</td>\n",
       "      <td>452</td>\n",
       "      <td>0.131387</td>\n",
       "      <td>0.130952</td>\n",
       "      <td>names</td>\n",
       "    </tr>\n",
       "    <tr>\n",
       "      <th>14</th>\n",
       "      <td>wb</td>\n",
       "      <td>270</td>\n",
       "      <td>507</td>\n",
       "      <td>1792</td>\n",
       "      <td>3492</td>\n",
       "      <td>47</td>\n",
       "      <td>194</td>\n",
       "      <td>1075</td>\n",
       "      <td>0.532544</td>\n",
       "      <td>0.242268</td>\n",
       "      <td>names</td>\n",
       "    </tr>\n",
       "    <tr>\n",
       "      <th>15</th>\n",
       "      <td>all</td>\n",
       "      <td>3718</td>\n",
       "      <td>6090</td>\n",
       "      <td>19155</td>\n",
       "      <td>48541</td>\n",
       "      <td>674</td>\n",
       "      <td>2090</td>\n",
       "      <td>11440</td>\n",
       "      <td>0.610509</td>\n",
       "      <td>0.322488</td>\n",
       "      <td>names</td>\n",
       "    </tr>\n",
       "  </tbody>\n",
       "</table>\n",
       "</div>"
      ],
      "text/plain": [
       "   genre  num_covered  num_dev  num_dev_mentions  num_train  \\\n",
       "0     pt         5199     5304              3082      72138   \n",
       "1     nw        14082    15736              4987     108694   \n",
       "2     bn         6446     7151              2830      57748   \n",
       "3     mz         2871     3547              1402      33878   \n",
       "4     bc         5585     7147              3393      34897   \n",
       "5     tc         1902     2168              1669      15298   \n",
       "6     wb         3511     4344              1792      29759   \n",
       "7    all        42303    45397             19155     352412   \n",
       "8     pt          583      612              3082       9635   \n",
       "9     nw         1150     2268              4987      15780   \n",
       "10    bn          767     1151              2830       8790   \n",
       "11    mz          354      653              1402       5417   \n",
       "12    bc          168      762              3393       4380   \n",
       "13    tc           18      137              1669       1047   \n",
       "14    wb          270      507              1792       3492   \n",
       "15   all         3718     6090             19155      48541   \n",
       "\n",
       "    num_unique_covered  num_unique_dev  num_unique_train  proportion_covered  \\\n",
       "0                  523             586              2233            0.980204   \n",
       "1                 2247            3167             11195            0.894891   \n",
       "2                 1179            1610              6391            0.901412   \n",
       "3                  527             860              4453            0.809416   \n",
       "4                  777            1401              3716            0.781447   \n",
       "5                  200             353              1669            0.877306   \n",
       "6                  603            1123              4502            0.808241   \n",
       "7                 4576            6185             19845            0.931846   \n",
       "8                   66              83               642            0.952614   \n",
       "9                  244             930              5232            0.507055   \n",
       "10                 195             449              2517            0.666377   \n",
       "11                  43             178              1241            0.542113   \n",
       "12                  49             300              1210            0.220472   \n",
       "13                  11              84               452            0.131387   \n",
       "14                  47             194              1075            0.532544   \n",
       "15                 674            2090             11440            0.610509   \n",
       "\n",
       "    proportion_unique_covered    type  \n",
       "0                    0.892491  tokens  \n",
       "1                    0.709504  tokens  \n",
       "2                    0.732298  tokens  \n",
       "3                    0.612791  tokens  \n",
       "4                    0.554604  tokens  \n",
       "5                    0.566572  tokens  \n",
       "6                    0.536955  tokens  \n",
       "7                    0.739854  tokens  \n",
       "8                    0.795181   names  \n",
       "9                    0.262366   names  \n",
       "10                   0.434298   names  \n",
       "11                   0.241573   names  \n",
       "12                   0.163333   names  \n",
       "13                   0.130952   names  \n",
       "14                   0.242268   names  \n",
       "15                   0.322488   names  "
      ]
     },
     "execution_count": 9,
     "metadata": {},
     "output_type": "execute_result"
    }
   ],
   "source": [
    "df"
   ]
  },
  {
   "cell_type": "code",
   "execution_count": 26,
   "metadata": {},
   "outputs": [],
   "source": [
    "readable_genres = {\n",
    "    'all': 'all genres',\n",
    "    'bc': 'broadcast conv.',\n",
    "    'bn': 'broadcast news',\n",
    "    'mz': 'magazine',\n",
    "    'nw': 'newswire',\n",
    "    'pt': 'bible',\n",
    "    'tc': 'telephone',\n",
    "    'wb': 'websites'\n",
    "}\n",
    "\n",
    "def format_results(df):\n",
    "    df['readable_genres'] = df['genre'].apply(readable_genres.__getitem__)\n",
    "    return (df[['proportion_covered', 'readable_genres', 'num_dev_mentions', 'type']]\n",
    "               .rename(columns={'proportion_covered': 'coverage', 'readable_genres': 'genre'})\n",
    "               .sort_values('num_dev_mentions', ascending=False))"
   ]
  },
  {
   "cell_type": "code",
   "execution_count": 28,
   "metadata": {},
   "outputs": [],
   "source": [
    "df_formatted = format_results(df)"
   ]
  },
  {
   "cell_type": "code",
   "execution_count": 29,
   "metadata": {},
   "outputs": [
    {
     "data": {
      "image/png": "[encoded data removed]",
      "text/plain": [
       "<Figure size 432x288 with 1 Axes>"
      ]
     },
     "metadata": {},
     "output_type": "display_data"
    }
   ],
   "source": [
    "sns.set_palette('cubehelix', n_colors=2)\n",
    "plt.xticks(rotation=45)\n",
    "ax = sns.barplot(x='genre', y='coverage', hue='type', data=df_formatted)\n",
    "_ = ax.legend(loc='center left', bbox_to_anchor=(1, 0.5))"
   ]
  },
  {
   "cell_type": "code",
   "execution_count": 17,
   "metadata": {},
   "outputs": [],
   "source": [
    "ax.get_figure().savefig('../output/genre_token_coverage.pdf')"
   ]
  },
  {
   "cell_type": "markdown",
   "metadata": {},
   "source": [
    "# Plot coverage of names in dev and test sets"
   ]
  },
  {
   "cell_type": "code",
   "execution_count": 20,
   "metadata": {},
   "outputs": [
    {
     "name": "stderr",
     "output_type": "stream",
     "text": [
      "Document doesn't contain any mention: (bc/cnn/00/cnn_0008); part 008\n",
      "Document doesn't contain any mention: (nw/wsj/23/wsj_2390); part 000\n"
     ]
    }
   ],
   "source": [
    "test_mentions, test_tokens, test_names = read_dataset(os.path.join(inp_dir, 'test-key'))"
   ]
  },
  {
   "cell_type": "code",
   "execution_count": 21,
   "metadata": {},
   "outputs": [
    {
     "data": {
      "text/plain": [
       "dict_keys(['pt', 'bn', 'nw', 'mz', 'bc', 'wb', 'tc', 'all'])"
      ]
     },
     "execution_count": 21,
     "metadata": {},
     "output_type": "execute_result"
    }
   ],
   "source": [
    "test_tokens.keys()"
   ]
  },
  {
   "cell_type": "code",
   "execution_count": 31,
   "metadata": {},
   "outputs": [],
   "source": [
    "data2 = (measure_coverage(train_names, dev_names, num_dev_mentions, 'dev') +\n",
    "         measure_coverage(train_names, test_names, num_dev_mentions, 'test'))\n",
    "df2 = pd.DataFrame(data2)\n",
    "df_formatted2 = format_results(df2)"
   ]
  },
  {
   "cell_type": "code",
   "execution_count": 33,
   "metadata": {},
   "outputs": [
    {
     "data": {
      "image/png": "[encoded data removed]",
      "text/plain": [
       "<Figure size 432x288 with 1 Axes>"
      ]
     },
     "metadata": {},
     "output_type": "display_data"
    }
   ],
   "source": [
    "sns.set_palette('cubehelix', n_colors=2)\n",
    "plt.xticks(rotation=60)\n",
    "ax2 = sns.barplot(x='genre', y='coverage', hue='type', data=df_formatted2)\n",
    "_ = ax2.legend(loc='center left', bbox_to_anchor=(1, 0.5))"
   ]
  },
  {
   "cell_type": "code",
   "execution_count": 34,
   "metadata": {},
   "outputs": [],
   "source": [
    "ax2.get_figure().savefig('../output/genre_name_coverage.pdf')"
   ]
  },
  {
   "cell_type": "code",
   "execution_count": null,
   "metadata": {},
   "outputs": [],
   "source": []
  }
 ],
 "metadata": {
  "kernelspec": {
   "display_name": "Python 3",
   "language": "python",
   "name": "python3"
  },
  "language_info": {
   "codemirror_mode": {
    "name": "ipython",
    "version": 3
   },
   "file_extension": ".py",
   "mimetype": "text/x-python",
   "name": "python",
   "nbconvert_exporter": "python",
   "pygments_lexer": "ipython3",
   "version": "3.7.4"
  }
 },
 "nbformat": 4,
 "nbformat_minor": 2
}
