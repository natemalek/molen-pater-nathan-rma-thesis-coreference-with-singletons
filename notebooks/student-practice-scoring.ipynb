{
 "cells": [
  {
   "cell_type": "code",
   "execution_count": 1,
   "metadata": {},
   "outputs": [],
   "source": [
    "path = '../data/annotations/Student2-practice.csv'"
   ]
  },
  {
   "cell_type": "code",
   "execution_count": 2,
   "metadata": {},
   "outputs": [],
   "source": [
    "import pandas as pd\n",
    "import json"
   ]
  },
  {
   "cell_type": "code",
   "execution_count": 5,
   "metadata": {},
   "outputs": [
    {
     "data": {
      "text/html": [
       "<div>\n",
       "<style scoped>\n",
       "    .dataframe tbody tr th:only-of-type {\n",
       "        vertical-align: middle;\n",
       "    }\n",
       "\n",
       "    .dataframe tbody tr th {\n",
       "        vertical-align: top;\n",
       "    }\n",
       "\n",
       "    .dataframe thead th {\n",
       "        text-align: right;\n",
       "    }\n",
       "</style>\n",
       "<table border=\"1\" class=\"dataframe\">\n",
       "  <thead>\n",
       "    <tr style=\"text-align: right;\">\n",
       "      <th></th>\n",
       "      <th>Timestamp</th>\n",
       "      <th>Username</th>\n",
       "      <th>Total score</th>\n",
       "      <th>Document</th>\n",
       "      <th>Document [Score]</th>\n",
       "      <th>Document [Feedback]</th>\n",
       "      <th>Annotations</th>\n",
       "      <th>Annotations [Score]</th>\n",
       "      <th>Annotations [Feedback]</th>\n",
       "    </tr>\n",
       "  </thead>\n",
       "  <tbody>\n",
       "    <tr>\n",
       "      <th>0</th>\n",
       "      <td>2019/03/21 10:54:16 pm CET</td>\n",
       "      <td>a.aponyi@student.vu.nl</td>\n",
       "      <td>0.00 / 0</td>\n",
       "      <td>student2-practice-question-000.html</td>\n",
       "      <td>-- / 0</td>\n",
       "      <td>NaN</td>\n",
       "      <td>[{\"name\":\"doc\",\"value\":\"(bc/msnbc/00/msnbc_000...</td>\n",
       "      <td>-- / 0</td>\n",
       "      <td>NaN</td>\n",
       "    </tr>\n",
       "  </tbody>\n",
       "</table>\n",
       "</div>"
      ],
      "text/plain": [
       "                    Timestamp                Username Total score  \\\n",
       "0  2019/03/21 10:54:16 pm CET  a.aponyi@student.vu.nl    0.00 / 0   \n",
       "\n",
       "                              Document Document [Score]  Document [Feedback]  \\\n",
       "0  student2-practice-question-000.html           -- / 0                  NaN   \n",
       "\n",
       "                                         Annotations Annotations [Score]  \\\n",
       "0  [{\"name\":\"doc\",\"value\":\"(bc/msnbc/00/msnbc_000...              -- / 0   \n",
       "\n",
       "   Annotations [Feedback]  \n",
       "0                     NaN  "
      ]
     },
     "execution_count": 5,
     "metadata": {},
     "output_type": "execute_result"
    }
   ],
   "source": [
    "df = pd.read_csv(path)\n",
    "df"
   ]
  },
  {
   "cell_type": "code",
   "execution_count": 11,
   "metadata": {},
   "outputs": [
    {
     "data": {
      "text/html": [
       "<div>\n",
       "<style scoped>\n",
       "    .dataframe tbody tr th:only-of-type {\n",
       "        vertical-align: middle;\n",
       "    }\n",
       "\n",
       "    .dataframe tbody tr th {\n",
       "        vertical-align: top;\n",
       "    }\n",
       "\n",
       "    .dataframe thead th {\n",
       "        text-align: right;\n",
       "    }\n",
       "</style>\n",
       "<table border=\"1\" class=\"dataframe\">\n",
       "  <thead>\n",
       "    <tr style=\"text-align: right;\">\n",
       "      <th></th>\n",
       "      <th>doc</th>\n",
       "      <th>conll_file</th>\n",
       "      <th>sent_begin</th>\n",
       "      <th>sent_end</th>\n",
       "      <th>chains</th>\n",
       "      <th>blanks</th>\n",
       "      <th>events</th>\n",
       "      <th>problems</th>\n",
       "      <th>assignmentId</th>\n",
       "      <th>workerId</th>\n",
       "      <th>hitId</th>\n",
       "    </tr>\n",
       "  </thead>\n",
       "  <tbody>\n",
       "    <tr>\n",
       "      <th>0</th>\n",
       "      <td>(bc/msnbc/00/msnbc_0000); part 004</td>\n",
       "      <td>output/conll-2012-transformed.v2/orig/dev/bc_m...</td>\n",
       "      <td>0</td>\n",
       "      <td>38</td>\n",
       "      <td></td>\n",
       "      <td></td>\n",
       "      <td>18530:display_instructions;55780:close_instruc...</td>\n",
       "      <td>I'm uncertain whether \"Joran Van Sloot\" is the...</td>\n",
       "      <td></td>\n",
       "      <td></td>\n",
       "      <td></td>\n",
       "    </tr>\n",
       "  </tbody>\n",
       "</table>\n",
       "</div>"
      ],
      "text/plain": [
       "                                  doc  \\\n",
       "0  (bc/msnbc/00/msnbc_0000); part 004   \n",
       "\n",
       "                                          conll_file sent_begin sent_end  \\\n",
       "0  output/conll-2012-transformed.v2/orig/dev/bc_m...          0       38   \n",
       "\n",
       "  chains blanks                                             events  \\\n",
       "0                18530:display_instructions;55780:close_instruc...   \n",
       "\n",
       "                                            problems assignmentId workerId  \\\n",
       "0  I'm uncertain whether \"Joran Van Sloot\" is the...                         \n",
       "\n",
       "  hitId  \n",
       "0        "
      ]
     },
     "execution_count": 11,
     "metadata": {},
     "output_type": "execute_result"
    }
   ],
   "source": [
    "def unpack_json(json_str):\n",
    "    json_obj = json.loads(json_str)    \n",
    "    data = {item['name']: item['value'] for item in json_obj}\n",
    "    return pd.Series(data)\n",
    "    \n",
    "anns = df.Annotations.apply(unpack_json)\n",
    "anns"
   ]
  },
  {
   "cell_type": "code",
   "execution_count": 12,
   "metadata": {},
   "outputs": [
    {
     "data": {
      "text/plain": [
       "''"
      ]
     },
     "execution_count": 12,
     "metadata": {},
     "output_type": "execute_result"
    }
   ],
   "source": [
    "anns.chains.iloc[0]"
   ]
  },
  {
   "cell_type": "code",
   "execution_count": 10,
   "metadata": {},
   "outputs": [
    {
     "data": {
      "text/plain": [
       "[{'name': 'doc', 'value': '(bc/msnbc/00/msnbc_0000); part 004'},\n",
       " {'name': 'conll_file',\n",
       "  'value': 'output/conll-2012-transformed.v2/orig/dev/bc_msnbc_00_msnbc_0000___part_004.m_auto_conll'},\n",
       " {'name': 'sent_begin', 'value': '0'},\n",
       " {'name': 'sent_end', 'value': '38'},\n",
       " {'name': 'chains',\n",
       "  'value': 'mention_20_20=mention_34_34=mention_61_61=mention_13_13=mention_87_87=mention_107_107=mention_122_122=mention_148_148=mention_152_152=mention_199_199=mention_217_217=mention_357_358,mention_36_37=mention_42_42=mention_72_73=mention_93_94=mention_100_100=mention_109_109=mention_126_126=mention_134_134=mention_150_150=mention_197_197,mention_50_52=mention_162_163=mention_166_166=mention_188_188,mention_59_59=mention_276_277=mention_294_294,mention_137_138=mention_197_198,mention_209_210=mention_241_241=mention_245_245=mention_248_248=mention_269_269=mention_291_291=mention_354_355,mention_223_223=mention_230_230=mention_236_236,mention_310_312=mention_316_316,mention_354_358=mention_362_362,mention_364_364=mention_370_370'},\n",
       " {'name': 'blanks', 'value': ''},\n",
       " {'name': 'events',\n",
       "  'value': '18530:display_instructions;55780:close_instructions;57744:start_grouping;57745:add_singleton(mention_13_13);89245:save_grouping;94079:start_grouping;94079:add_singleton(mention_20_20);105771:add_mention_to_chain(mention_34_34, mention_20_20);110949:save_grouping;113072:start_grouping;113073:add_singleton(mention_36_37);114867:add_mention_to_chain(mention_42_42, mention_36_37);117313:save_grouping;119261:start_grouping;119262:add_singleton(mention_50_52);120291:save_grouping;124589:confidence:5;148856:start_grouping;148857:add_singleton(mention_59_59);160876:save_grouping;177865:start_grouping;177865:add_singleton(mention_61_61);180114:add_chain_to_chain(mention_61_61,mention_20_20=mention_34_34);197077:add_chain_to_chain(mention_13_13,mention_20_20=mention_34_34=mention_61_61);200320:save_grouping;210498:start_grouping;210498:add_singleton(mention_72_73);211760:add_chain_to_chain(mention_72_73,mention_36_37=mention_42_42);228910:add_mention_to_chain(mention_93_94, mention_36_37=mention_42_42=mention_72_73);230723:save_grouping;234581:start_grouping;234581:add_singleton(mention_87_87);236783:add_chain_to_chain(mention_87_87,mention_20_20=mention_34_34=mention_61_61=mention_13_13);241083:save_grouping;250138:start_grouping;250139:add_singleton(mention_100_100);252122:add_chain_to_chain(mention_100_100,mention_36_37=mention_42_42=mention_72_73=mention_93_94);257061:add_mention_to_chain(mention_109_109, mention_36_37=mention_42_42=mention_72_73=mention_93_94=mention_100_100);261292:save_grouping;263506:start_grouping;263506:add_singleton(mention_107_107);264641:add_chain_to_chain(mention_107_107,mention_20_20=mention_34_34=mention_61_61=mention_13_13=mention_87_87);271926:add_mention_to_chain(mention_122_122, mention_20_20=mention_34_34=mention_61_61=mention_13_13=mention_87_87=mention_107_107);273579:save_grouping;280359:start_grouping;280359:add_singleton(mention_126_126);282041:add_chain_to_chain(mention_126_126,mention_36_37=mention_42_42=mention_72_73=mention_93_94=mention_100_100=mention_109_109);292345:save_grouping;293579:start_grouping;293579:add_singleton(mention_134_134);295284:add_chain_to_chain(mention_134_134,mention_36_37=mention_42_42=mention_72_73=mention_93_94=mention_100_100=mention_109_109=mention_126_126);296766:save_grouping;305806:start_grouping;305807:add_singleton(mention_137_138);306512:save_grouping;311192:start_grouping;311193:add_singleton(mention_148_148);312410:add_chain_to_chain(mention_148_148,mention_20_20=mention_34_34=mention_61_61=mention_13_13=mention_87_87=mention_107_107=mention_122_122);313672:save_grouping;314635:start_grouping;314635:add_singleton(mention_150_150);315017:clicked_on_singleton(mention_150_150);321961:add_chain_to_chain(mention_150_150,mention_36_37=mention_42_42=mention_72_73=mention_93_94=mention_100_100=mention_109_109=mention_126_126=mention_134_134);326294:save_grouping;332522:start_grouping;332522:add_singleton(mention_152_152);334796:add_chain_to_chain(mention_152_152,mention_20_20=mention_34_34=mention_61_61=mention_13_13=mention_87_87=mention_107_107=mention_122_122=mention_148_148);336570:save_grouping;345460:start_grouping;345460:add_singleton(mention_162_163);346440:add_chain_to_chain(mention_162_163,mention_50_52);346911:save_grouping;349154:start_grouping;349154:add_singleton(mention_166_166);352144:add_chain_to_chain(mention_166_166,mention_50_52=mention_162_163);353298:save_grouping;357946:start_grouping;357946:add_singleton(mention_188_188);359123:add_chain_to_chain(mention_188_188,mention_50_52=mention_162_163=mention_166_166);361925:save_grouping;366302:confidence:5;375080:start_grouping;375080:add_singleton(mention_199_199);376462:add_chain_to_chain(mention_199_199,mention_20_20=mention_34_34=mention_61_61=mention_13_13=mention_87_87=mention_107_107=mention_122_122=mention_148_148=mention_152_152);377335:save_grouping;386158:start_grouping;386158:add_singleton(mention_197_197);387041:clicked_on_singleton(mention_197_197);389336:clicked_on_singleton(mention_197_197);396079:add_chain_to_chain(mention_197_197,mention_36_37=mention_42_42=mention_72_73=mention_93_94=mention_100_100=mention_109_109=mention_126_126=mention_134_134=mention_150_150);400035:save_grouping;401670:start_grouping;401670:add_singleton(mention_197_198);404341:add_chain_to_chain(mention_197_198,mention_137_138);408250:save_grouping;417829:start_grouping;417829:add_singleton(mention_209_210);421865:save_grouping;424972:start_grouping;424973:add_singleton(mention_217_217);426498:add_chain_to_chain(mention_217_217,mention_20_20=mention_34_34=mention_61_61=mention_13_13=mention_87_87=mention_107_107=mention_122_122=mention_148_148=mention_152_152=mention_199_199);427595:save_grouping;440236:start_grouping;440236:add_singleton(mention_223_223);442078:save_grouping;451526:start_grouping;451527:add_singleton(mention_230_230);452560:add_chain_to_chain(mention_230_230,mention_223_223);463839:add_mention_to_chain(mention_236_236, mention_223_223=mention_230_230);464503:save_grouping;466340:start_grouping;466340:add_singleton(mention_241_241);469167:add_chain_to_chain(mention_241_241,mention_209_210);477732:add_mention_to_chain(mention_245_245, mention_209_210=mention_241_241);479437:remove_mention(mention_241_241, mention_209_210=mention_241_241=mention_245_245);481551:add_mention_to_chain(mention_241_241, mention_209_210=mention_245_245);483315:remove_mention(mention_245_245, mention_209_210=mention_245_245=mention_241_241);488313:add_mention_to_chain(mention_245_245, mention_209_210=mention_241_241);490967:add_mention_to_chain(mention_248_248, mention_209_210=mention_241_241=mention_245_245);501646:add_mention_to_chain(mention_269_269, mention_209_210=mention_241_241=mention_245_245=mention_248_248);504802:save_grouping;510673:start_grouping;510673:add_singleton(mention_276_277);512938:add_chain_to_chain(mention_276_277,mention_59_59);513267:save_grouping;520427:start_grouping;520427:add_singleton(mention_291_291);522341:add_chain_to_chain(mention_291_291,mention_209_210=mention_241_241=mention_245_245=mention_248_248=mention_269_269);523526:save_grouping;532638:start_grouping;532638:add_singleton(mention_294_294);533528:add_chain_to_chain(mention_294_294,mention_59_59=mention_276_277);536836:save_grouping;550296:start_grouping;550296:add_singleton(mention_310_312);552236:add_mention_to_chain(mention_316_316, mention_310_312);553309:save_grouping;575991:start_grouping;575991:add_singleton(mention_354_355);580028:add_chain_to_chain(mention_354_355,mention_209_210=mention_241_241=mention_245_245=mention_248_248=mention_269_269=mention_291_291);584299:save_grouping;588117:confidence:5;590428:start_grouping;590428:add_singleton(mention_357_358);592847:add_chain_to_chain(mention_357_358,mention_20_20=mention_34_34=mention_61_61=mention_13_13=mention_87_87=mention_107_107=mention_122_122=mention_148_148=mention_152_152=mention_199_199=mention_217_217);594432:save_grouping;597374:start_grouping;597374:add_singleton(mention_354_358);599779:save_grouping;602711:start_grouping;602711:add_singleton(mention_362_362);605764:add_chain_to_chain(mention_362_362,mention_354_358);609203:save_grouping;614698:start_grouping;614699:add_singleton(mention_364_364);615773:save_grouping;621816:start_grouping;621817:add_singleton(mention_370_370);623488:add_chain_to_chain(mention_370_370,mention_364_364);625650:save_grouping;1350689:display_instructions;1371652:close_instructions;1470551:submit'},\n",
       " {'name': 'problems',\n",
       "  'value': 'I\\'m uncertain whether \"Joran Van Sloot\" is the name of the witness being talked about, but since I couldn\\'t figure it out, I added it and the pronoun referring to it to a new group.'},\n",
       " {'name': 'assignmentId', 'value': ''},\n",
       " {'name': 'workerId', 'value': ''},\n",
       " {'name': 'hitId', 'value': ''},\n",
       " {'name': 'chains', 'value': ''}]"
      ]
     },
     "execution_count": 10,
     "metadata": {},
     "output_type": "execute_result"
    }
   ],
   "source": [
    "obj = json.loads(df.Annotations.iloc[0])\n",
    "obj"
   ]
  },
  {
   "cell_type": "code",
   "execution_count": null,
   "metadata": {},
   "outputs": [],
   "source": []
  }
 ],
 "metadata": {
  "kernelspec": {
   "display_name": "Python 3",
   "language": "python",
   "name": "python3"
  },
  "language_info": {
   "codemirror_mode": {
    "name": "ipython",
    "version": 3
   },
   "file_extension": ".py",
   "mimetype": "text/x-python",
   "name": "python",
   "nbconvert_exporter": "python",
   "pygments_lexer": "ipython3",
   "version": "3.6.2"
  }
 },
 "nbformat": 4,
 "nbformat_minor": 2
}
