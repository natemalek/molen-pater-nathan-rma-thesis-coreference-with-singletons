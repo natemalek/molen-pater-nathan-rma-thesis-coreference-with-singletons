{
 "cells": [
  {
   "cell_type": "code",
   "execution_count": 1,
   "metadata": {},
   "outputs": [],
   "source": [
    "import os\n",
    "if 'mturk' not in os.getcwd():\n",
    "    os.chdir('../mturk/')"
   ]
  },
  {
   "cell_type": "code",
   "execution_count": 19,
   "metadata": {},
   "outputs": [],
   "source": [
    "from mturktools import open_mturk_connection, search_hits_by_title, adhoc_fix\n",
    "from pyhocon import ConfigFactory\n",
    "from tqdm import tqdm\n",
    "from collections import Counter\n",
    "import pandas as pd"
   ]
  },
  {
   "cell_type": "code",
   "execution_count": 3,
   "metadata": {},
   "outputs": [],
   "source": [
    "os.environ['mturk_input_dir'] = '' # the conf files need it but we aren't going to use it"
   ]
  },
  {
   "cell_type": "code",
   "execution_count": 4,
   "metadata": {},
   "outputs": [],
   "source": [
    "def disable_all_hits(conf_path):\n",
    "    conf = ConfigFactory.parse_file(conf_path)\n",
    "    conn = open_mturk_connection(conf)\n",
    "    hit_title = conf.get_string('title')\n",
    "    for hit in tqdm(search_hits_by_title(conn, hit_title), desc=\"Disabling\", unit=\"HIT\"):\n",
    "        conn.disable_hit(hit.HITId)\n",
    "    conn.close()    "
   ]
  },
  {
   "cell_type": "code",
   "execution_count": 5,
   "metadata": {},
   "outputs": [],
   "source": [
    "def show_progress(conf_path):\n",
    "    conf = ConfigFactory.parse_file(conf_path)\n",
    "    conn = open_mturk_connection(conf)\n",
    "    hit_title = conf.get_string('title')\n",
    "    hit_count, progress = 0, 0\n",
    "\n",
    "    for h in tqdm(search_hits_by_title(conn, hit_title), desc=\"Downloading\", unit=\"HIT\"):\n",
    "        assgs = conn.get_assignments(h.HITId)\n",
    "        progress += len(assgs) / float(h.MaxAssignments)\n",
    "        hit_count += 1\n",
    "\n",
    "    print(\"Completed %.1f of %d HITs\" %(progress, hit_count))\n",
    "    conn.close()    "
   ]
  },
  {
   "cell_type": "code",
   "execution_count": 6,
   "metadata": {},
   "outputs": [
    {
     "name": "stderr",
     "output_type": "stream",
     "text": [
      "Downloading: 28HIT [00:13,  2.15HIT/s]"
     ]
    },
    {
     "name": "stdout",
     "output_type": "stream",
     "text": [
      "Completed 13.0 of 28 HITs\n"
     ]
    },
    {
     "name": "stderr",
     "output_type": "stream",
     "text": [
      "\n"
     ]
    }
   ],
   "source": [
    "show_progress('configs/cltl-2019-01-23-unmasked.conf')"
   ]
  },
  {
   "cell_type": "code",
   "execution_count": 7,
   "metadata": {},
   "outputs": [
    {
     "name": "stderr",
     "output_type": "stream",
     "text": [
      "Downloading: 96HIT [00:33,  2.86HIT/s]"
     ]
    },
    {
     "name": "stdout",
     "output_type": "stream",
     "text": [
      "Completed 30.0 of 96 HITs\n"
     ]
    },
    {
     "name": "stderr",
     "output_type": "stream",
     "text": [
      "\n"
     ]
    }
   ],
   "source": [
    "show_progress('configs/cltl-2019-01-23-masked.conf')"
   ]
  },
  {
   "cell_type": "markdown",
   "metadata": {},
   "source": [
    "## Check when people submitted"
   ]
  },
  {
   "cell_type": "code",
   "execution_count": 7,
   "metadata": {},
   "outputs": [],
   "source": [
    "conf = ConfigFactory.parse_file('configs/cltl-2019-01-23-unmasked.conf')\n",
    "conn = open_mturk_connection(conf)\n",
    "hit_title = conf.get_string('title')"
   ]
  },
  {
   "cell_type": "code",
   "execution_count": 26,
   "metadata": {},
   "outputs": [],
   "source": [
    "hits = [h for h in search_hits_by_title(conn, hit_title)]"
   ]
  },
  {
   "cell_type": "code",
   "execution_count": 12,
   "metadata": {},
   "outputs": [],
   "source": [
    "hit2assgs = {h.HITId: conn.get_assignments(h.HITId) for h in hits}\n",
    "submit_times = [assg.SubmitTime for assgs in hit2assgs.values() for assg in assgs]"
   ]
  },
  {
   "cell_type": "code",
   "execution_count": 30,
   "metadata": {},
   "outputs": [
    {
     "data": {
      "text/plain": [
       "Counter({'2019-01-23': 12, '2019-02-21': 1})"
      ]
     },
     "execution_count": 30,
     "metadata": {},
     "output_type": "execute_result"
    }
   ],
   "source": [
    "Counter(t[:10] for t in submit_times)"
   ]
  },
  {
   "cell_type": "code",
   "execution_count": 16,
   "metadata": {},
   "outputs": [
    {
     "data": {
      "text/plain": [
       "Counter({'A19NP6Q2D7YHSV': 3,\n",
       "         'A3V5LQ8PYCTKQB': 2,\n",
       "         'A1WF8OS5DR3JRB': 3,\n",
       "         'A2ZSJQ8UYSJ8LX': 1,\n",
       "         'A1I8TJRTQ5NI2I': 3,\n",
       "         'A12H2L507TPSUE': 1})"
      ]
     },
     "execution_count": 16,
     "metadata": {},
     "output_type": "execute_result"
    }
   ],
   "source": [
    "Counter(assg.WorkerId for assgs in hit2assgs.values() for assg in assgs)"
   ]
  },
  {
   "cell_type": "code",
   "execution_count": 23,
   "metadata": {},
   "outputs": [
    {
     "data": {
      "text/html": [
       "<div>\n",
       "<style scoped>\n",
       "    .dataframe tbody tr th:only-of-type {\n",
       "        vertical-align: middle;\n",
       "    }\n",
       "\n",
       "    .dataframe tbody tr th {\n",
       "        vertical-align: top;\n",
       "    }\n",
       "\n",
       "    .dataframe thead th {\n",
       "        text-align: right;\n",
       "    }\n",
       "</style>\n",
       "<table border=\"1\" class=\"dataframe\">\n",
       "  <thead>\n",
       "    <tr style=\"text-align: right;\">\n",
       "      <th></th>\n",
       "      <th>auto_or_gold</th>\n",
       "      <th>dataset</th>\n",
       "      <th>f1_bcub</th>\n",
       "      <th>f1_ceafe</th>\n",
       "      <th>f1_conll</th>\n",
       "      <th>f1_muc</th>\n",
       "      <th>worker</th>\n",
       "      <th>mention_p</th>\n",
       "      <th>mention_r</th>\n",
       "      <th>system</th>\n",
       "    </tr>\n",
       "  </thead>\n",
       "  <tbody>\n",
       "    <tr>\n",
       "      <th>0</th>\n",
       "      <td>NaN</td>\n",
       "      <td>dev</td>\n",
       "      <td>84.52</td>\n",
       "      <td>69.40</td>\n",
       "      <td>81.433333</td>\n",
       "      <td>90.38</td>\n",
       "      <td>A12H2L507TPSUE</td>\n",
       "      <td>100</td>\n",
       "      <td>100</td>\n",
       "      <td>human</td>\n",
       "    </tr>\n",
       "    <tr>\n",
       "      <th>1</th>\n",
       "      <td>NaN</td>\n",
       "      <td>dev</td>\n",
       "      <td>90.66</td>\n",
       "      <td>81.24</td>\n",
       "      <td>88.423333</td>\n",
       "      <td>93.37</td>\n",
       "      <td>A19NP6Q2D7YHSV</td>\n",
       "      <td>100</td>\n",
       "      <td>100</td>\n",
       "      <td>human</td>\n",
       "    </tr>\n",
       "    <tr>\n",
       "      <th>2</th>\n",
       "      <td>NaN</td>\n",
       "      <td>dev</td>\n",
       "      <td>92.99</td>\n",
       "      <td>89.03</td>\n",
       "      <td>93.133333</td>\n",
       "      <td>97.38</td>\n",
       "      <td>A1I8TJRTQ5NI2I</td>\n",
       "      <td>100</td>\n",
       "      <td>100</td>\n",
       "      <td>human</td>\n",
       "    </tr>\n",
       "    <tr>\n",
       "      <th>3</th>\n",
       "      <td>NaN</td>\n",
       "      <td>dev</td>\n",
       "      <td>87.13</td>\n",
       "      <td>77.67</td>\n",
       "      <td>85.763333</td>\n",
       "      <td>92.49</td>\n",
       "      <td>A1WF8OS5DR3JRB</td>\n",
       "      <td>100</td>\n",
       "      <td>100</td>\n",
       "      <td>human</td>\n",
       "    </tr>\n",
       "    <tr>\n",
       "      <th>4</th>\n",
       "      <td>NaN</td>\n",
       "      <td>dev</td>\n",
       "      <td>91.75</td>\n",
       "      <td>82.13</td>\n",
       "      <td>88.590000</td>\n",
       "      <td>91.89</td>\n",
       "      <td>A2ZSJQ8UYSJ8LX</td>\n",
       "      <td>100</td>\n",
       "      <td>100</td>\n",
       "      <td>human</td>\n",
       "    </tr>\n",
       "    <tr>\n",
       "      <th>5</th>\n",
       "      <td>NaN</td>\n",
       "      <td>dev</td>\n",
       "      <td>96.98</td>\n",
       "      <td>92.95</td>\n",
       "      <td>95.493333</td>\n",
       "      <td>96.55</td>\n",
       "      <td>A3V5LQ8PYCTKQB</td>\n",
       "      <td>100</td>\n",
       "      <td>100</td>\n",
       "      <td>human</td>\n",
       "    </tr>\n",
       "  </tbody>\n",
       "</table>\n",
       "</div>"
      ],
      "text/plain": [
       "   auto_or_gold dataset  f1_bcub  f1_ceafe   f1_conll  f1_muc          worker  \\\n",
       "0           NaN     dev    84.52     69.40  81.433333   90.38  A12H2L507TPSUE   \n",
       "1           NaN     dev    90.66     81.24  88.423333   93.37  A19NP6Q2D7YHSV   \n",
       "2           NaN     dev    92.99     89.03  93.133333   97.38  A1I8TJRTQ5NI2I   \n",
       "3           NaN     dev    87.13     77.67  85.763333   92.49  A1WF8OS5DR3JRB   \n",
       "4           NaN     dev    91.75     82.13  88.590000   91.89  A2ZSJQ8UYSJ8LX   \n",
       "5           NaN     dev    96.98     92.95  95.493333   96.55  A3V5LQ8PYCTKQB   \n",
       "\n",
       "   mention_p  mention_r system  \n",
       "0        100        100  human  \n",
       "1        100        100  human  \n",
       "2        100        100  human  \n",
       "3        100        100  human  \n",
       "4        100        100  human  \n",
       "5        100        100  human  "
      ]
     },
     "execution_count": 23,
     "metadata": {},
     "output_type": "execute_result"
    }
   ],
   "source": [
    "df = pd.read_csv('../output/mturk/student-assistants-results.csv')\n",
    "df = df.rename(columns={'manipulation': 'worker'})\n",
    "df"
   ]
  },
  {
   "cell_type": "code",
   "execution_count": 27,
   "metadata": {},
   "outputs": [],
   "source": [
    "def get_conll_file(assg):\n",
    "    (answers,) = assg.answers # for some reason it's wrapped in a singleton list\n",
    "    answers = dict((qfa.qid, qfa.fields[0]) for qfa in answers)\n",
    "    return answers['conll_file']"
   ]
  },
  {
   "cell_type": "code",
   "execution_count": 31,
   "metadata": {},
   "outputs": [],
   "source": [
    "submission_df = pd.DataFrame(\n",
    "    [{'date': assg.SubmitTime[:10], \n",
    "      'conll_file': get_conll_file(assg).replace('output/conll-2012-transformed.v2/', '')} \n",
    "     for assgs in hit2assgs.values() for assg in assgs])"
   ]
  },
  {
   "cell_type": "code",
   "execution_count": 32,
   "metadata": {},
   "outputs": [
    {
     "data": {
      "text/html": [
       "<div>\n",
       "<style scoped>\n",
       "    .dataframe tbody tr th:only-of-type {\n",
       "        vertical-align: middle;\n",
       "    }\n",
       "\n",
       "    .dataframe tbody tr th {\n",
       "        vertical-align: top;\n",
       "    }\n",
       "\n",
       "    .dataframe thead th {\n",
       "        text-align: right;\n",
       "    }\n",
       "</style>\n",
       "<table border=\"1\" class=\"dataframe\">\n",
       "  <thead>\n",
       "    <tr style=\"text-align: right;\">\n",
       "      <th></th>\n",
       "      <th>conll_file</th>\n",
       "      <th>date</th>\n",
       "    </tr>\n",
       "  </thead>\n",
       "  <tbody>\n",
       "    <tr>\n",
       "      <th>0</th>\n",
       "      <td>orig/dev/bn_cnn_02_cnn_0200___part_000.m_auto_...</td>\n",
       "      <td>2019-01-23</td>\n",
       "    </tr>\n",
       "    <tr>\n",
       "      <th>1</th>\n",
       "      <td>orig/dev/bn_voa_00_voa_0090___part_000.m_auto_...</td>\n",
       "      <td>2019-01-23</td>\n",
       "    </tr>\n",
       "    <tr>\n",
       "      <th>2</th>\n",
       "      <td>orig/dev/pt_nt_40_nt_4020___part_001.m_auto_conll</td>\n",
       "      <td>2019-01-23</td>\n",
       "    </tr>\n",
       "    <tr>\n",
       "      <th>3</th>\n",
       "      <td>orig/dev/mz_sinorama_10_ectb_1020___part_001.m...</td>\n",
       "      <td>2019-01-23</td>\n",
       "    </tr>\n",
       "    <tr>\n",
       "      <th>4</th>\n",
       "      <td>orig/dev/wb_eng_00_eng_0010___part_004.m_auto_...</td>\n",
       "      <td>2019-01-23</td>\n",
       "    </tr>\n",
       "    <tr>\n",
       "      <th>5</th>\n",
       "      <td>orig/dev/mz_sinorama_10_ectb_1050___part_004.m...</td>\n",
       "      <td>2019-01-23</td>\n",
       "    </tr>\n",
       "    <tr>\n",
       "      <th>6</th>\n",
       "      <td>orig/dev/tc_ch_00_ch_0030___part_001.m_auto_conll</td>\n",
       "      <td>2019-01-23</td>\n",
       "    </tr>\n",
       "    <tr>\n",
       "      <th>7</th>\n",
       "      <td>orig/dev/pt_nt_58_nt_5810___part_000.m_auto_conll</td>\n",
       "      <td>2019-01-23</td>\n",
       "    </tr>\n",
       "    <tr>\n",
       "      <th>8</th>\n",
       "      <td>orig/dev/nw_xinhua_01_chtb_0160___part_000.m_a...</td>\n",
       "      <td>2019-01-23</td>\n",
       "    </tr>\n",
       "    <tr>\n",
       "      <th>9</th>\n",
       "      <td>orig/dev/bc_cctv_00_cctv_0000___part_011.m_aut...</td>\n",
       "      <td>2019-01-23</td>\n",
       "    </tr>\n",
       "    <tr>\n",
       "      <th>10</th>\n",
       "      <td>orig/dev/nw_wsj_24_wsj_2413___part_000.m_auto_...</td>\n",
       "      <td>2019-01-23</td>\n",
       "    </tr>\n",
       "    <tr>\n",
       "      <th>11</th>\n",
       "      <td>orig/dev/bc_msnbc_00_msnbc_0000___part_004.m_a...</td>\n",
       "      <td>2019-01-23</td>\n",
       "    </tr>\n",
       "    <tr>\n",
       "      <th>12</th>\n",
       "      <td>orig/dev/wb_a2e_00_a2e_0020___part_001.m_auto_...</td>\n",
       "      <td>2019-02-21</td>\n",
       "    </tr>\n",
       "  </tbody>\n",
       "</table>\n",
       "</div>"
      ],
      "text/plain": [
       "                                           conll_file        date\n",
       "0   orig/dev/bn_cnn_02_cnn_0200___part_000.m_auto_...  2019-01-23\n",
       "1   orig/dev/bn_voa_00_voa_0090___part_000.m_auto_...  2019-01-23\n",
       "2   orig/dev/pt_nt_40_nt_4020___part_001.m_auto_conll  2019-01-23\n",
       "3   orig/dev/mz_sinorama_10_ectb_1020___part_001.m...  2019-01-23\n",
       "4   orig/dev/wb_eng_00_eng_0010___part_004.m_auto_...  2019-01-23\n",
       "5   orig/dev/mz_sinorama_10_ectb_1050___part_004.m...  2019-01-23\n",
       "6   orig/dev/tc_ch_00_ch_0030___part_001.m_auto_conll  2019-01-23\n",
       "7   orig/dev/pt_nt_58_nt_5810___part_000.m_auto_conll  2019-01-23\n",
       "8   orig/dev/nw_xinhua_01_chtb_0160___part_000.m_a...  2019-01-23\n",
       "9   orig/dev/bc_cctv_00_cctv_0000___part_011.m_aut...  2019-01-23\n",
       "10  orig/dev/nw_wsj_24_wsj_2413___part_000.m_auto_...  2019-01-23\n",
       "11  orig/dev/bc_msnbc_00_msnbc_0000___part_004.m_a...  2019-01-23\n",
       "12  orig/dev/wb_a2e_00_a2e_0020___part_001.m_auto_...  2019-02-21"
      ]
     },
     "execution_count": 32,
     "metadata": {},
     "output_type": "execute_result"
    }
   ],
   "source": [
    "submission_df"
   ]
  },
  {
   "cell_type": "code",
   "execution_count": null,
   "metadata": {},
   "outputs": [],
   "source": []
  }
 ],
 "metadata": {
  "kernelspec": {
   "display_name": "Python 3",
   "language": "python",
   "name": "python3"
  },
  "language_info": {
   "codemirror_mode": {
    "name": "ipython",
    "version": 3
   },
   "file_extension": ".py",
   "mimetype": "text/x-python",
   "name": "python",
   "nbconvert_exporter": "python",
   "pygments_lexer": "ipython3",
   "version": "3.7.3"
  }
 },
 "nbformat": 4,
 "nbformat_minor": 2
}
