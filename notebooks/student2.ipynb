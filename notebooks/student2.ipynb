{
 "cells": [
  {
   "cell_type": "code",
   "execution_count": 1,
   "metadata": {},
   "outputs": [],
   "source": [
    "import sys\n",
    "if '..' not in sys.path:\n",
    "    sys.path.append('..')"
   ]
  },
  {
   "cell_type": "code",
   "execution_count": 9,
   "metadata": {},
   "outputs": [],
   "source": [
    "import pandas as pd\n",
    "from mturk.gformtools import visualize\n",
    "from mturk.gformtools import unpack_json\n",
    "%matplotlib inline\n",
    "import seaborn as sns"
   ]
  },
  {
   "cell_type": "markdown",
   "metadata": {},
   "source": [
    "## Look at the practice documents"
   ]
  },
  {
   "cell_type": "code",
   "execution_count": 9,
   "metadata": {},
   "outputs": [],
   "source": [
    "results_path = '../output/mturk/student2-practice-results/results.csv'"
   ]
  },
  {
   "cell_type": "code",
   "execution_count": 26,
   "metadata": {},
   "outputs": [
    {
     "data": {
      "text/html": [
       "<div>\n",
       "<style scoped>\n",
       "    .dataframe tbody tr th:only-of-type {\n",
       "        vertical-align: middle;\n",
       "    }\n",
       "\n",
       "    .dataframe tbody tr th {\n",
       "        vertical-align: top;\n",
       "    }\n",
       "\n",
       "    .dataframe thead th {\n",
       "        text-align: right;\n",
       "    }\n",
       "</style>\n",
       "<table border=\"1\" class=\"dataframe\">\n",
       "  <thead>\n",
       "    <tr style=\"text-align: right;\">\n",
       "      <th></th>\n",
       "      <th>Timestamp</th>\n",
       "      <th>Document</th>\n",
       "      <th>f1_conll</th>\n",
       "    </tr>\n",
       "  </thead>\n",
       "  <tbody>\n",
       "    <tr>\n",
       "      <th>0</th>\n",
       "      <td>2019/03/22 12:27:22 am EET</td>\n",
       "      <td>student2-practice-question-000.html</td>\n",
       "      <td>100.000000</td>\n",
       "    </tr>\n",
       "    <tr>\n",
       "      <th>1</th>\n",
       "      <td>2019/03/26 2:11:30 am EET</td>\n",
       "      <td>student2-practice-question-001.html</td>\n",
       "      <td>100.000000</td>\n",
       "    </tr>\n",
       "    <tr>\n",
       "      <th>2</th>\n",
       "      <td>2019/03/26 2:11:39 am EET</td>\n",
       "      <td>student2-practice-question-002.html</td>\n",
       "      <td>100.000000</td>\n",
       "    </tr>\n",
       "    <tr>\n",
       "      <th>3</th>\n",
       "      <td>2019/03/26 2:11:51 am EET</td>\n",
       "      <td>student2-practice-question-003.html</td>\n",
       "      <td>87.340000</td>\n",
       "    </tr>\n",
       "    <tr>\n",
       "      <th>4</th>\n",
       "      <td>2019/03/26 2:12:01 am EET</td>\n",
       "      <td>student2-practice-question-004.html</td>\n",
       "      <td>96.733333</td>\n",
       "    </tr>\n",
       "    <tr>\n",
       "      <th>5</th>\n",
       "      <td>2019/03/26 2:12:11 am EET</td>\n",
       "      <td>student2-practice-question-005.html</td>\n",
       "      <td>88.813333</td>\n",
       "    </tr>\n",
       "    <tr>\n",
       "      <th>6</th>\n",
       "      <td>2019/03/26 2:12:20 am EET</td>\n",
       "      <td>student2-practice-question-006.html</td>\n",
       "      <td>100.000000</td>\n",
       "    </tr>\n",
       "    <tr>\n",
       "      <th>7</th>\n",
       "      <td>2019/03/26 2:12:31 am EET</td>\n",
       "      <td>student2-practice-question-007.html</td>\n",
       "      <td>98.066667</td>\n",
       "    </tr>\n",
       "    <tr>\n",
       "      <th>8</th>\n",
       "      <td>2019/04/01 10:09:32 am EET</td>\n",
       "      <td>student2-practice-question-010.html</td>\n",
       "      <td>88.116667</td>\n",
       "    </tr>\n",
       "    <tr>\n",
       "      <th>9</th>\n",
       "      <td>2019/04/01 10:13:30 am EET</td>\n",
       "      <td>student2-practice-question-008.html</td>\n",
       "      <td>NaN</td>\n",
       "    </tr>\n",
       "    <tr>\n",
       "      <th>10</th>\n",
       "      <td>2019/04/01 10:13:37 am EET</td>\n",
       "      <td>student2-practice-question-009.html</td>\n",
       "      <td>NaN</td>\n",
       "    </tr>\n",
       "    <tr>\n",
       "      <th>11</th>\n",
       "      <td>2019/04/01 10:21:30 am EET</td>\n",
       "      <td>student2-practice-question-011.html</td>\n",
       "      <td>88.476667</td>\n",
       "    </tr>\n",
       "    <tr>\n",
       "      <th>12</th>\n",
       "      <td>2019/04/01 10:55:14 am EET</td>\n",
       "      <td>student2-practice-question-012.html</td>\n",
       "      <td>97.860000</td>\n",
       "    </tr>\n",
       "    <tr>\n",
       "      <th>13</th>\n",
       "      <td>2019/04/01 11:02:53 am EET</td>\n",
       "      <td>student2-practice-question-013.html</td>\n",
       "      <td>94.503333</td>\n",
       "    </tr>\n",
       "    <tr>\n",
       "      <th>14</th>\n",
       "      <td>2019/04/01 11:29:05 am EET</td>\n",
       "      <td>student2-practice-question-008.html</td>\n",
       "      <td>96.890000</td>\n",
       "    </tr>\n",
       "    <tr>\n",
       "      <th>15</th>\n",
       "      <td>2019/04/01 11:29:40 am EET</td>\n",
       "      <td>student2-practice-question-009.html</td>\n",
       "      <td>94.563333</td>\n",
       "    </tr>\n",
       "  </tbody>\n",
       "</table>\n",
       "</div>"
      ],
      "text/plain": [
       "                     Timestamp                             Document  \\\n",
       "0   2019/03/22 12:27:22 am EET  student2-practice-question-000.html   \n",
       "1    2019/03/26 2:11:30 am EET  student2-practice-question-001.html   \n",
       "2    2019/03/26 2:11:39 am EET  student2-practice-question-002.html   \n",
       "3    2019/03/26 2:11:51 am EET  student2-practice-question-003.html   \n",
       "4    2019/03/26 2:12:01 am EET  student2-practice-question-004.html   \n",
       "5    2019/03/26 2:12:11 am EET  student2-practice-question-005.html   \n",
       "6    2019/03/26 2:12:20 am EET  student2-practice-question-006.html   \n",
       "7    2019/03/26 2:12:31 am EET  student2-practice-question-007.html   \n",
       "8   2019/04/01 10:09:32 am EET  student2-practice-question-010.html   \n",
       "9   2019/04/01 10:13:30 am EET  student2-practice-question-008.html   \n",
       "10  2019/04/01 10:13:37 am EET  student2-practice-question-009.html   \n",
       "11  2019/04/01 10:21:30 am EET  student2-practice-question-011.html   \n",
       "12  2019/04/01 10:55:14 am EET  student2-practice-question-012.html   \n",
       "13  2019/04/01 11:02:53 am EET  student2-practice-question-013.html   \n",
       "14  2019/04/01 11:29:05 am EET  student2-practice-question-008.html   \n",
       "15  2019/04/01 11:29:40 am EET  student2-practice-question-009.html   \n",
       "\n",
       "      f1_conll  \n",
       "0   100.000000  \n",
       "1   100.000000  \n",
       "2   100.000000  \n",
       "3    87.340000  \n",
       "4    96.733333  \n",
       "5    88.813333  \n",
       "6   100.000000  \n",
       "7    98.066667  \n",
       "8    88.116667  \n",
       "9          NaN  \n",
       "10         NaN  \n",
       "11   88.476667  \n",
       "12   97.860000  \n",
       "13   94.503333  \n",
       "14   96.890000  \n",
       "15   94.563333  "
      ]
     },
     "execution_count": 26,
     "metadata": {},
     "output_type": "execute_result"
    }
   ],
   "source": [
    "df = pd.read_csv(results_path)\n",
    "df[['Timestamp', 'Document', 'f1_conll']]"
   ]
  },
  {
   "cell_type": "code",
   "execution_count": 29,
   "metadata": {},
   "outputs": [
    {
     "name": "stdout",
     "output_type": "stream",
     "text": [
      "Writing /Users/cumeo/Projects/spinoza/ulm-4/EvEn/notebooks/temp/output/error_analysis.html\n"
     ]
    }
   ],
   "source": [
    "ann_path = '../output/mturk/student2-practice-results/student2-practice-question-003.html.ann_conll'\n",
    "gold_path = '../output/mturk/student2-practice-results/student2-practice-question-003.html.gold_conll'\n",
    "visualize(gold_path, ann_path)"
   ]
  },
  {
   "cell_type": "markdown",
   "metadata": {},
   "source": [
    "^^^ The results seem low because document 3 is shorter than usual. There's only one recall error."
   ]
  },
  {
   "cell_type": "code",
   "execution_count": 33,
   "metadata": {},
   "outputs": [
    {
     "name": "stdout",
     "output_type": "stream",
     "text": [
      "Writing /Users/cumeo/Projects/spinoza/ulm-4/EvEn/notebooks/temp/output/error_analysis.html\n"
     ]
    }
   ],
   "source": [
    "ann_path = '../output/mturk/student2-practice-results/student2-practice-question-005.html.ann_conll'\n",
    "gold_path = '../output/mturk/student2-practice-results/student2-practice-question-005.html.gold_conll'\n",
    "visualize(gold_path, ann_path)"
   ]
  },
  {
   "cell_type": "markdown",
   "metadata": {},
   "source": [
    "^^^ Two recall errors happened in quotations which require complex inference. One case of possessive that I think the gold standard gets it wrong."
   ]
  },
  {
   "cell_type": "code",
   "execution_count": 34,
   "metadata": {},
   "outputs": [
    {
     "name": "stdout",
     "output_type": "stream",
     "text": [
      "Writing /Users/cumeo/Projects/spinoza/ulm-4/EvEn/notebooks/temp/output/error_analysis.html\n"
     ]
    }
   ],
   "source": [
    "ann_path = '../output/mturk/student2-practice-results/student2-practice-question-010.html.ann_conll'\n",
    "gold_path = '../output/mturk/student2-practice-results/student2-practice-question-010.html.gold_conll'\n",
    "visualize(gold_path, ann_path)"
   ]
  },
  {
   "cell_type": "markdown",
   "metadata": {},
   "source": [
    "^^^ There're 6 recall errors in this telephone conversation.\n",
    "\n",
    "- Gold standard is wrong: \"A: \\[you\\]\\_1 said people are not / A: the red meat is suffering \\[I\\]\\_1 guess\"\n",
    "- Gold standard is wrong: \"B: \\[I\\]\\_1 know \\[...\\] A: and \\[I\\]\\_1 know I can see the attitude %ah well\"\n",
    "- Gold standard is wrong: \"\\[they\\]\\_1 take \\[the\\]\\_1 good and the bad all the\". It's just wrong.\n",
    "- Gold standard is wrong: \"and \\[it\\] 's about getting help with housing and food stamps and everything\". \"It\" is linked with \"they\" some sentences prior but it should have been generic \"it\".\n",
    "- Gold standard is wrong: \"I said oh \\[I\\]\\_1 'm sorry / she says \\[I\\]\\_1 really thought United States that you do n't die you know\". The two marked \"I\" shouldn't have been linked together.\n",
    "- Missed one link at the end of the document"
   ]
  },
  {
   "cell_type": "code",
   "execution_count": 35,
   "metadata": {},
   "outputs": [
    {
     "name": "stdout",
     "output_type": "stream",
     "text": [
      "Writing /Users/cumeo/Projects/spinoza/ulm-4/EvEn/notebooks/temp/output/error_analysis.html\n"
     ]
    }
   ],
   "source": [
    "ann_path = '../output/mturk/student2-practice-results/student2-practice-question-011.html.ann_conll'\n",
    "gold_path = '../output/mturk/student2-practice-results/student2-practice-question-011.html.gold_conll'\n",
    "visualize(gold_path, ann_path)"
   ]
  },
  {
   "cell_type": "markdown",
   "metadata": {},
   "source": [
    "^^^ 3 recall errors, 2 from gold standard, 1 very hard case.\n",
    "\n",
    "- Gold standard seems wrong: \"We enjoy \\[it\\] . [...] \\[It\\]'s a nice place\" --> the first \"it\" should be generic\n",
    "- 2 other mistakes"
   ]
  },
  {
   "cell_type": "markdown",
   "metadata": {},
   "source": [
    "## Look at annotation speed\n",
    "\n",
    "We'll search for any abnormally long event by computing quantile-99 and then we'll measure the average time needed to complete one document."
   ]
  },
  {
   "cell_type": "code",
   "execution_count": 4,
   "metadata": {},
   "outputs": [
    {
     "name": "stderr",
     "output_type": "stream",
     "text": [
      "Failed to parse the string: 'https://docs.google.com/document/d/1pRE_bobMDHpj3SCggvX_o_Jo0QCHzQqvTBu7uCUi8oE/edit?usp=sharing...'\n",
      "Traceback (most recent call last):\n",
      "  File \"../mturk/gformtools.py\", line 12, in unpack_json\n",
      "    json_obj = json.loads(json_str)\n",
      "  File \"/usr/local/Cellar/python3/3.6.2/Frameworks/Python.framework/Versions/3.6/lib/python3.6/json/__init__.py\", line 354, in loads\n",
      "    return _default_decoder.decode(s)\n",
      "  File \"/usr/local/Cellar/python3/3.6.2/Frameworks/Python.framework/Versions/3.6/lib/python3.6/json/decoder.py\", line 339, in decode\n",
      "    obj, end = self.raw_decode(s, idx=_w(s, 0).end())\n",
      "  File \"/usr/local/Cellar/python3/3.6.2/Frameworks/Python.framework/Versions/3.6/lib/python3.6/json/decoder.py\", line 357, in raw_decode\n",
      "    raise JSONDecodeError(\"Expecting value\", s, err.value) from None\n",
      "json.decoder.JSONDecodeError: Expecting value: line 1 column 1 (char 0)\n",
      "Failed to parse the string: 'https://docs.google.com/document/d/1ECavjpp-Z65hu9ymT8QajUfypDiiXbOfeOugAqLXkFY/edit?usp=sharing...'\n",
      "Traceback (most recent call last):\n",
      "  File \"../mturk/gformtools.py\", line 12, in unpack_json\n",
      "    json_obj = json.loads(json_str)\n",
      "  File \"/usr/local/Cellar/python3/3.6.2/Frameworks/Python.framework/Versions/3.6/lib/python3.6/json/__init__.py\", line 354, in loads\n",
      "    return _default_decoder.decode(s)\n",
      "  File \"/usr/local/Cellar/python3/3.6.2/Frameworks/Python.framework/Versions/3.6/lib/python3.6/json/decoder.py\", line 339, in decode\n",
      "    obj, end = self.raw_decode(s, idx=_w(s, 0).end())\n",
      "  File \"/usr/local/Cellar/python3/3.6.2/Frameworks/Python.framework/Versions/3.6/lib/python3.6/json/decoder.py\", line 357, in raw_decode\n",
      "    raise JSONDecodeError(\"Expecting value\", s, err.value) from None\n",
      "json.decoder.JSONDecodeError: Expecting value: line 1 column 1 (char 0)\n"
     ]
    }
   ],
   "source": [
    "anns_path = '../data/annotations/Student2-practice.csv'\n",
    "anns1 = pd.read_csv(anns_path)\n",
    "anns2 = anns1.Annotations.apply(unpack_json)\n",
    "anns = pd.concat([anns1, anns2], axis=1)"
   ]
  },
  {
   "cell_type": "code",
   "execution_count": 7,
   "metadata": {},
   "outputs": [],
   "source": [
    "event_durations_data = []\n",
    "for _, row in anns.iterrows():\n",
    "    if isinstance(row['events'], str):\n",
    "        event_start_timestamps = [0] + [int(evt.split(':')[0]) for evt in row['events'].split(';')]\n",
    "        event_durations = [end-start for start, end in zip(event_start_timestamps[:-1], event_start_timestamps[1:])]\n",
    "        event_durations_data.extend({'workerId': row['workerId'], \n",
    "                                     'conll_file': row['conll_file'],\n",
    "                                     'event_duration_sec': d / 1000} \n",
    "                                    for d in event_durations if d > 0)"
   ]
  },
  {
   "cell_type": "code",
   "execution_count": 10,
   "metadata": {},
   "outputs": [
    {
     "data": {
      "image/png": "[encoded data removed]",
      "text/plain": [
       "<Figure size 432x288 with 1 Axes>"
      ]
     },
     "metadata": {},
     "output_type": "display_data"
    }
   ],
   "source": [
    "event_durations = pd.DataFrame(event_durations_data)\n",
    "_ = sns.boxplot(event_durations.event_duration_sec)"
   ]
  },
  {
   "cell_type": "code",
   "execution_count": 12,
   "metadata": {},
   "outputs": [
    {
     "name": "stdout",
     "output_type": "stream",
     "text": [
      "Quantile 99 = 60.9 sec\n"
     ]
    }
   ],
   "source": [
    "q99 = event_durations.event_duration_sec.quantile(0.99)\n",
    "print('Quantile-99 = %.1f sec' %q99)"
   ]
  },
  {
   "cell_type": "code",
   "execution_count": 13,
   "metadata": {},
   "outputs": [],
   "source": [
    "doc_completion_time = event_durations.groupby(['conll_file']).sum()\n",
    "doc_completion_time['doc_completion_min'] = doc_completion_time['event_duration_sec'] / 60\n",
    "doc_completion_time = doc_completion_time.drop(columns='event_duration_sec')"
   ]
  },
  {
   "cell_type": "code",
   "execution_count": 14,
   "metadata": {},
   "outputs": [
    {
     "data": {
      "image/png": "[encoded data removed]",
      "text/plain": [
       "<Figure size 432x288 with 1 Axes>"
      ]
     },
     "metadata": {},
     "output_type": "display_data"
    }
   ],
   "source": [
    "_ = sns.distplot(doc_completion_time)"
   ]
  },
  {
   "cell_type": "code",
   "execution_count": 15,
   "metadata": {},
   "outputs": [
    {
     "data": {
      "text/plain": [
       "doc_completion_min    13.052943\n",
       "dtype: float64"
      ]
     },
     "execution_count": 15,
     "metadata": {},
     "output_type": "execute_result"
    }
   ],
   "source": [
    "doc_completion_time.mean()"
   ]
  },
  {
   "cell_type": "code",
   "execution_count": null,
   "metadata": {},
   "outputs": [],
   "source": []
  }
 ],
 "metadata": {
  "kernelspec": {
   "display_name": "Python 3",
   "language": "python",
   "name": "python3"
  },
  "language_info": {
   "codemirror_mode": {
    "name": "ipython",
    "version": 3
   },
   "file_extension": ".py",
   "mimetype": "text/x-python",
   "name": "python",
   "nbconvert_exporter": "python",
   "pygments_lexer": "ipython3",
   "version": "3.6.2"
  }
 },
 "nbformat": 4,
 "nbformat_minor": 2
}
