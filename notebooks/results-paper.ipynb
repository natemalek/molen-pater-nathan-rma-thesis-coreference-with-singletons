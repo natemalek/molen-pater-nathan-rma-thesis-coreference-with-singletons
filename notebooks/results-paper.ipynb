{
 "cells": [
  {
   "cell_type": "code",
   "execution_count": 1,
   "metadata": {},
   "outputs": [],
   "source": [
    "import sys\n",
    "if '..' not in sys.path:\n",
    "    sys.path.append('..')"
   ]
  },
  {
   "cell_type": "code",
   "execution_count": 2,
   "metadata": {},
   "outputs": [],
   "source": [
    "%matplotlib inline\n",
    "from tqdm import tqdm\n",
    "import seaborn as sns\n",
    "from collections import Counter, OrderedDict\n",
    "import os\n",
    "import re\n",
    "import pandas as pd\n",
    "import matplotlib.pyplot as plt\n",
    "import numpy as np\n",
    "import string\n",
    "from nltk.tokenize import word_tokenize\n",
    "import itertools\n",
    "from scipy import stats"
   ]
  },
  {
   "cell_type": "code",
   "execution_count": 3,
   "metadata": {},
   "outputs": [],
   "source": [
    "transformation_name_map1 = OrderedDict([\n",
    "    ('orig', 'Original'), ('nonmen_100', '- context'), \n",
    "    ('men_100', '- mentions')\n",
    "])\n",
    "system_name_map = OrderedDict([\n",
    "    ('head-match', 'Head-Match'), ('sieve', 'Sieve'), \n",
    "    ('cort-pair', 'Cort-MP'), ('cort-latent', 'Cort-MR'), ('cort-tree', 'Cort-EM'), \n",
    "    ('deep-coref', 'Deep-Coref'), ('e2e', 'E2E')\n",
    "])\n",
    "human_name_map = OrderedDict([\n",
    "    ('student1', 'annotator1'), ('student2', 'annotator2'), \n",
    "    ('student3', 'annotator3'), ('all', 'all-annotators')\n",
    "])\n",
    "full_name_map_except_random = OrderedDict(list(system_name_map.items()) +\n",
    "                                          list(human_name_map.items()))\n",
    "full_name_map = OrderedDict(list(full_name_map_except_random.items()) +\n",
    "                            [('random', 'random')])"
   ]
  },
  {
   "cell_type": "code",
   "execution_count": 4,
   "metadata": {},
   "outputs": [],
   "source": [
    "systems = system_name_map.values()\n",
    "humans = human_name_map.values()"
   ]
  },
  {
   "cell_type": "markdown",
   "metadata": {},
   "source": [
    "## Read in results"
   ]
  },
  {
   "cell_type": "code",
   "execution_count": 5,
   "metadata": {},
   "outputs": [],
   "source": [
    "paths = OrderedDict([\n",
    "    ('baselines', '../output/baselines-results.csv'),\n",
    "    ('sieve', '../output/stanford-sieve-results.csv'),\n",
    "    ('cort', '../output/cort/results.csv'),\n",
    "    ('deep-coref', '../output/deep-coref/results.csv'),\n",
    "    ('e2e', '../output/e2e/results.csv'),\n",
    "    ('students', '../output/mturk/students-results.csv')\n",
    "])"
   ]
  },
  {
   "cell_type": "code",
   "execution_count": 6,
   "metadata": {},
   "outputs": [],
   "source": [
    "import pandas as pd\n",
    "dfs = [pd.read_csv(path) for _, path in paths.items()]\n",
    "all_results = pd.concat(dfs, sort=False)"
   ]
  },
  {
   "cell_type": "code",
   "execution_count": 7,
   "metadata": {},
   "outputs": [],
   "source": [
    "all_results.dataset = all_results.dataset.str.replace('dev_test', 'dev+test')"
   ]
  },
  {
   "cell_type": "code",
   "execution_count": 8,
   "metadata": {},
   "outputs": [],
   "source": [
    "all_results['system'] = all_results.system.str.replace('random-antecedent', 'random')"
   ]
  },
  {
   "cell_type": "code",
   "execution_count": 9,
   "metadata": {},
   "outputs": [
    {
     "data": {
      "text/plain": [
       "Index(['auto_or_gold', 'dataset', 'f1_bcub', 'f1_ceafe', 'f1_conll', 'f1_muc',\n",
       "       'manipulation', 'mention_p', 'mention_r', 'sample', 'system', 'f1_b3',\n",
       "       'f1_lea', 'train_manipulation'],\n",
       "      dtype='object')"
      ]
     },
     "execution_count": 9,
     "metadata": {},
     "output_type": "execute_result"
    }
   ],
   "source": [
    "all_results.columns"
   ]
  },
  {
   "cell_type": "code",
   "execution_count": 10,
   "metadata": {},
   "outputs": [
    {
     "data": {
      "text/html": [
       "<div>\n",
       "<style scoped>\n",
       "    .dataframe tbody tr th:only-of-type {\n",
       "        vertical-align: middle;\n",
       "    }\n",
       "\n",
       "    .dataframe tbody tr th {\n",
       "        vertical-align: top;\n",
       "    }\n",
       "\n",
       "    .dataframe thead th {\n",
       "        text-align: right;\n",
       "    }\n",
       "</style>\n",
       "<table border=\"1\" class=\"dataframe\">\n",
       "  <thead>\n",
       "    <tr style=\"text-align: right;\">\n",
       "      <th></th>\n",
       "      <th>auto_or_gold</th>\n",
       "      <th>dataset</th>\n",
       "      <th>f1_bcub</th>\n",
       "      <th>f1_ceafe</th>\n",
       "      <th>f1_conll</th>\n",
       "      <th>f1_muc</th>\n",
       "      <th>manipulation</th>\n",
       "      <th>mention_p</th>\n",
       "      <th>mention_r</th>\n",
       "      <th>sample</th>\n",
       "      <th>system</th>\n",
       "      <th>f1_b3</th>\n",
       "      <th>f1_lea</th>\n",
       "      <th>train_manipulation</th>\n",
       "    </tr>\n",
       "  </thead>\n",
       "  <tbody>\n",
       "  </tbody>\n",
       "</table>\n",
       "</div>"
      ],
      "text/plain": [
       "Empty DataFrame\n",
       "Columns: [auto_or_gold, dataset, f1_bcub, f1_ceafe, f1_conll, f1_muc, manipulation, mention_p, mention_r, sample, system, f1_b3, f1_lea, train_manipulation]\n",
       "Index: []"
      ]
     },
     "execution_count": 10,
     "metadata": {},
     "output_type": "execute_result"
    }
   ],
   "source": [
    "all_results[all_results.train_manipulation.notnull() & \n",
    "            (all_results.train_manipulation != all_results.manipulation)]"
   ]
  },
  {
   "cell_type": "markdown",
   "metadata": {},
   "source": [
    "### Random baseline"
   ]
  },
  {
   "cell_type": "code",
   "execution_count": 11,
   "metadata": {},
   "outputs": [
    {
     "data": {
      "text/plain": [
       "count    375.000000\n",
       "mean      37.142827\n",
       "std        0.432830\n",
       "min       35.726667\n",
       "25%       36.876667\n",
       "50%       37.103333\n",
       "75%       37.471667\n",
       "max       38.086667\n",
       "Name: f1_conll, dtype: float64"
      ]
     },
     "execution_count": 11,
     "metadata": {},
     "output_type": "execute_result"
    }
   ],
   "source": [
    "random_baseline_results = all_results[(all_results.system == 'random') &\n",
    "                              (all_results.dataset == 'dev+test')].f1_conll\n",
    "random_baseline_results.describe()"
   ]
  },
  {
   "cell_type": "code",
   "execution_count": 12,
   "metadata": {},
   "outputs": [
    {
     "data": {
      "text/plain": [
       "37.14282666666664"
      ]
     },
     "execution_count": 12,
     "metadata": {},
     "output_type": "execute_result"
    }
   ],
   "source": [
    "random_baseline = random_baseline_results.mean()\n",
    "random_baseline"
   ]
  },
  {
   "cell_type": "markdown",
   "metadata": {},
   "source": [
    "### Formatting"
   ]
  },
  {
   "cell_type": "code",
   "execution_count": 13,
   "metadata": {},
   "outputs": [],
   "source": [
    "all_results = all_results[all_results.system.isin(full_name_map)]\n",
    "all_results['system'] = all_results.system.map(full_name_map.__getitem__)"
   ]
  },
  {
   "cell_type": "code",
   "execution_count": 14,
   "metadata": {},
   "outputs": [],
   "source": [
    "all_results_except_random = all_results[all_results.system != 'random']"
   ]
  },
  {
   "cell_type": "markdown",
   "metadata": {},
   "source": [
    "# Check the results"
   ]
  },
  {
   "cell_type": "markdown",
   "metadata": {},
   "source": [
    "### Checking that we have some variation across samples"
   ]
  },
  {
   "cell_type": "code",
   "execution_count": 15,
   "metadata": {},
   "outputs": [],
   "source": [
    "head_match_results = all_results[all_results.system == 'Head-Match']"
   ]
  },
  {
   "cell_type": "code",
   "execution_count": 16,
   "metadata": {},
   "outputs": [
    {
     "data": {
      "text/html": [
       "<div>\n",
       "<style scoped>\n",
       "    .dataframe tbody tr th:only-of-type {\n",
       "        vertical-align: middle;\n",
       "    }\n",
       "\n",
       "    .dataframe tbody tr th {\n",
       "        vertical-align: top;\n",
       "    }\n",
       "\n",
       "    .dataframe thead th {\n",
       "        text-align: right;\n",
       "    }\n",
       "</style>\n",
       "<table border=\"1\" class=\"dataframe\">\n",
       "  <thead>\n",
       "    <tr style=\"text-align: right;\">\n",
       "      <th>manipulation</th>\n",
       "      <th>men_100</th>\n",
       "      <th>men_20</th>\n",
       "      <th>men_40</th>\n",
       "      <th>men_60</th>\n",
       "      <th>men_80</th>\n",
       "      <th>no-external</th>\n",
       "      <th>no-internal</th>\n",
       "      <th>no-match</th>\n",
       "      <th>no-name</th>\n",
       "      <th>nonmen_100</th>\n",
       "      <th>nonmen_20</th>\n",
       "      <th>nonmen_40</th>\n",
       "      <th>nonmen_60</th>\n",
       "      <th>nonmen_80</th>\n",
       "      <th>orig</th>\n",
       "    </tr>\n",
       "  </thead>\n",
       "  <tbody>\n",
       "    <tr>\n",
       "      <th>count</th>\n",
       "      <td>25.000000</td>\n",
       "      <td>25.000000</td>\n",
       "      <td>25.000000</td>\n",
       "      <td>25.000000</td>\n",
       "      <td>25.000000</td>\n",
       "      <td>25.000000</td>\n",
       "      <td>25.000000</td>\n",
       "      <td>25.000000</td>\n",
       "      <td>25.000000</td>\n",
       "      <td>25.000000</td>\n",
       "      <td>25.000000</td>\n",
       "      <td>25.000000</td>\n",
       "      <td>25.000000</td>\n",
       "      <td>25.000000</td>\n",
       "      <td>25.000000</td>\n",
       "    </tr>\n",
       "    <tr>\n",
       "      <th>mean</th>\n",
       "      <td>39.394000</td>\n",
       "      <td>52.149200</td>\n",
       "      <td>50.067333</td>\n",
       "      <td>50.517067</td>\n",
       "      <td>50.558000</td>\n",
       "      <td>61.867333</td>\n",
       "      <td>61.872933</td>\n",
       "      <td>48.777467</td>\n",
       "      <td>58.219333</td>\n",
       "      <td>60.908400</td>\n",
       "      <td>60.921200</td>\n",
       "      <td>60.955200</td>\n",
       "      <td>60.942933</td>\n",
       "      <td>60.942933</td>\n",
       "      <td>60.921200</td>\n",
       "    </tr>\n",
       "    <tr>\n",
       "      <th>std</th>\n",
       "      <td>0.339563</td>\n",
       "      <td>0.221195</td>\n",
       "      <td>0.199745</td>\n",
       "      <td>0.142959</td>\n",
       "      <td>0.150200</td>\n",
       "      <td>0.297163</td>\n",
       "      <td>0.297653</td>\n",
       "      <td>0.367072</td>\n",
       "      <td>0.250657</td>\n",
       "      <td>0.305511</td>\n",
       "      <td>0.305952</td>\n",
       "      <td>0.305645</td>\n",
       "      <td>0.305478</td>\n",
       "      <td>0.305478</td>\n",
       "      <td>0.305952</td>\n",
       "    </tr>\n",
       "    <tr>\n",
       "      <th>min</th>\n",
       "      <td>38.616667</td>\n",
       "      <td>51.793333</td>\n",
       "      <td>49.563333</td>\n",
       "      <td>50.283333</td>\n",
       "      <td>50.306667</td>\n",
       "      <td>61.223333</td>\n",
       "      <td>61.230000</td>\n",
       "      <td>48.173333</td>\n",
       "      <td>57.793333</td>\n",
       "      <td>60.453333</td>\n",
       "      <td>60.463333</td>\n",
       "      <td>60.463333</td>\n",
       "      <td>60.453333</td>\n",
       "      <td>60.453333</td>\n",
       "      <td>60.463333</td>\n",
       "    </tr>\n",
       "    <tr>\n",
       "      <th>25%</th>\n",
       "      <td>39.243333</td>\n",
       "      <td>52.000000</td>\n",
       "      <td>49.960000</td>\n",
       "      <td>50.416667</td>\n",
       "      <td>50.486667</td>\n",
       "      <td>61.660000</td>\n",
       "      <td>61.660000</td>\n",
       "      <td>48.460000</td>\n",
       "      <td>58.056667</td>\n",
       "      <td>60.686667</td>\n",
       "      <td>60.686667</td>\n",
       "      <td>60.766667</td>\n",
       "      <td>60.766667</td>\n",
       "      <td>60.766667</td>\n",
       "      <td>60.686667</td>\n",
       "    </tr>\n",
       "    <tr>\n",
       "      <th>50%</th>\n",
       "      <td>39.330000</td>\n",
       "      <td>52.106667</td>\n",
       "      <td>50.076667</td>\n",
       "      <td>50.510000</td>\n",
       "      <td>50.536667</td>\n",
       "      <td>61.833333</td>\n",
       "      <td>61.840000</td>\n",
       "      <td>48.776667</td>\n",
       "      <td>58.173333</td>\n",
       "      <td>60.856667</td>\n",
       "      <td>60.856667</td>\n",
       "      <td>60.896667</td>\n",
       "      <td>60.896667</td>\n",
       "      <td>60.896667</td>\n",
       "      <td>60.856667</td>\n",
       "    </tr>\n",
       "    <tr>\n",
       "      <th>75%</th>\n",
       "      <td>39.600000</td>\n",
       "      <td>52.323333</td>\n",
       "      <td>50.190000</td>\n",
       "      <td>50.656667</td>\n",
       "      <td>50.683333</td>\n",
       "      <td>62.000000</td>\n",
       "      <td>62.003333</td>\n",
       "      <td>49.080000</td>\n",
       "      <td>58.343333</td>\n",
       "      <td>61.166667</td>\n",
       "      <td>61.193333</td>\n",
       "      <td>61.276667</td>\n",
       "      <td>61.256667</td>\n",
       "      <td>61.256667</td>\n",
       "      <td>61.193333</td>\n",
       "    </tr>\n",
       "    <tr>\n",
       "      <th>max</th>\n",
       "      <td>40.026667</td>\n",
       "      <td>52.716667</td>\n",
       "      <td>50.430000</td>\n",
       "      <td>50.710000</td>\n",
       "      <td>50.846667</td>\n",
       "      <td>62.500000</td>\n",
       "      <td>62.503333</td>\n",
       "      <td>49.443333</td>\n",
       "      <td>58.803333</td>\n",
       "      <td>61.470000</td>\n",
       "      <td>61.480000</td>\n",
       "      <td>61.480000</td>\n",
       "      <td>61.470000</td>\n",
       "      <td>61.470000</td>\n",
       "      <td>61.480000</td>\n",
       "    </tr>\n",
       "  </tbody>\n",
       "</table>\n",
       "</div>"
      ],
      "text/plain": [
       "manipulation    men_100     men_20     men_40     men_60     men_80  \\\n",
       "count         25.000000  25.000000  25.000000  25.000000  25.000000   \n",
       "mean          39.394000  52.149200  50.067333  50.517067  50.558000   \n",
       "std            0.339563   0.221195   0.199745   0.142959   0.150200   \n",
       "min           38.616667  51.793333  49.563333  50.283333  50.306667   \n",
       "25%           39.243333  52.000000  49.960000  50.416667  50.486667   \n",
       "50%           39.330000  52.106667  50.076667  50.510000  50.536667   \n",
       "75%           39.600000  52.323333  50.190000  50.656667  50.683333   \n",
       "max           40.026667  52.716667  50.430000  50.710000  50.846667   \n",
       "\n",
       "manipulation  no-external  no-internal   no-match    no-name  nonmen_100  \\\n",
       "count           25.000000    25.000000  25.000000  25.000000   25.000000   \n",
       "mean            61.867333    61.872933  48.777467  58.219333   60.908400   \n",
       "std              0.297163     0.297653   0.367072   0.250657    0.305511   \n",
       "min             61.223333    61.230000  48.173333  57.793333   60.453333   \n",
       "25%             61.660000    61.660000  48.460000  58.056667   60.686667   \n",
       "50%             61.833333    61.840000  48.776667  58.173333   60.856667   \n",
       "75%             62.000000    62.003333  49.080000  58.343333   61.166667   \n",
       "max             62.500000    62.503333  49.443333  58.803333   61.470000   \n",
       "\n",
       "manipulation  nonmen_20  nonmen_40  nonmen_60  nonmen_80       orig  \n",
       "count         25.000000  25.000000  25.000000  25.000000  25.000000  \n",
       "mean          60.921200  60.955200  60.942933  60.942933  60.921200  \n",
       "std            0.305952   0.305645   0.305478   0.305478   0.305952  \n",
       "min           60.463333  60.463333  60.453333  60.453333  60.463333  \n",
       "25%           60.686667  60.766667  60.766667  60.766667  60.686667  \n",
       "50%           60.856667  60.896667  60.896667  60.896667  60.856667  \n",
       "75%           61.193333  61.276667  61.256667  61.256667  61.193333  \n",
       "max           61.480000  61.480000  61.470000  61.470000  61.480000  "
      ]
     },
     "execution_count": 16,
     "metadata": {},
     "output_type": "execute_result"
    }
   ],
   "source": [
    "head_match_results.pivot(index='sample', columns='manipulation', values='f1_conll').describe()"
   ]
  },
  {
   "cell_type": "markdown",
   "metadata": {},
   "source": [
    "### Why does head-match get so high a result on men-100?\n",
    "\n",
    "I checked the file `output/baselines/head-match__output__conll-2012-transformed-resampled__sample_24__men_100__dev_test.m_gold_conll` and it indeed contains only one cluster per document."
   ]
  },
  {
   "cell_type": "code",
   "execution_count": 17,
   "metadata": {},
   "outputs": [
    {
     "data": {
      "text/html": [
       "<div>\n",
       "<style scoped>\n",
       "    .dataframe tbody tr th:only-of-type {\n",
       "        vertical-align: middle;\n",
       "    }\n",
       "\n",
       "    .dataframe tbody tr th {\n",
       "        vertical-align: top;\n",
       "    }\n",
       "\n",
       "    .dataframe thead tr th {\n",
       "        text-align: left;\n",
       "    }\n",
       "\n",
       "    .dataframe thead tr:last-of-type th {\n",
       "        text-align: right;\n",
       "    }\n",
       "</style>\n",
       "<table border=\"1\" class=\"dataframe\">\n",
       "  <thead>\n",
       "    <tr>\n",
       "      <th></th>\n",
       "      <th></th>\n",
       "      <th></th>\n",
       "      <th colspan=\"2\" halign=\"left\">f1_bcub</th>\n",
       "      <th colspan=\"2\" halign=\"left\">f1_ceafe</th>\n",
       "      <th colspan=\"2\" halign=\"left\">f1_muc</th>\n",
       "      <th colspan=\"2\" halign=\"left\">f1_conll</th>\n",
       "    </tr>\n",
       "    <tr>\n",
       "      <th></th>\n",
       "      <th></th>\n",
       "      <th></th>\n",
       "      <th>mean</th>\n",
       "      <th>std</th>\n",
       "      <th>mean</th>\n",
       "      <th>std</th>\n",
       "      <th>mean</th>\n",
       "      <th>std</th>\n",
       "      <th>mean</th>\n",
       "      <th>std</th>\n",
       "    </tr>\n",
       "    <tr>\n",
       "      <th>auto_or_gold</th>\n",
       "      <th>dataset</th>\n",
       "      <th>system</th>\n",
       "      <th></th>\n",
       "      <th></th>\n",
       "      <th></th>\n",
       "      <th></th>\n",
       "      <th></th>\n",
       "      <th></th>\n",
       "      <th></th>\n",
       "      <th></th>\n",
       "    </tr>\n",
       "  </thead>\n",
       "  <tbody>\n",
       "    <tr>\n",
       "      <th rowspan=\"4\" valign=\"top\">auto</th>\n",
       "      <th rowspan=\"4\" valign=\"top\">dev+test</th>\n",
       "      <th>all-annotators</th>\n",
       "      <td>62.4348</td>\n",
       "      <td>1.334891</td>\n",
       "      <td>49.0604</td>\n",
       "      <td>2.742738</td>\n",
       "      <td>67.0096</td>\n",
       "      <td>2.192237</td>\n",
       "      <td>59.501600</td>\n",
       "      <td>1.742909</td>\n",
       "    </tr>\n",
       "    <tr>\n",
       "      <th>annotator1</th>\n",
       "      <td>58.7800</td>\n",
       "      <td>0.000000</td>\n",
       "      <td>43.2100</td>\n",
       "      <td>0.000000</td>\n",
       "      <td>46.4200</td>\n",
       "      <td>0.000000</td>\n",
       "      <td>49.470000</td>\n",
       "      <td>0.000000</td>\n",
       "    </tr>\n",
       "    <tr>\n",
       "      <th>annotator2</th>\n",
       "      <td>62.4288</td>\n",
       "      <td>1.455456</td>\n",
       "      <td>50.7648</td>\n",
       "      <td>2.405425</td>\n",
       "      <td>69.3044</td>\n",
       "      <td>2.648822</td>\n",
       "      <td>60.832667</td>\n",
       "      <td>1.722269</td>\n",
       "    </tr>\n",
       "    <tr>\n",
       "      <th>annotator3</th>\n",
       "      <td>51.0432</td>\n",
       "      <td>0.298632</td>\n",
       "      <td>29.5432</td>\n",
       "      <td>0.009000</td>\n",
       "      <td>28.4772</td>\n",
       "      <td>3.541315</td>\n",
       "      <td>36.354533</td>\n",
       "      <td>1.084519</td>\n",
       "    </tr>\n",
       "    <tr>\n",
       "      <th rowspan=\"8\" valign=\"top\">gold</th>\n",
       "      <th rowspan=\"8\" valign=\"top\">dev+test</th>\n",
       "      <th>Cort-EM</th>\n",
       "      <td>26.0208</td>\n",
       "      <td>0.522772</td>\n",
       "      <td>9.2332</td>\n",
       "      <td>0.305801</td>\n",
       "      <td>84.7140</td>\n",
       "      <td>0.406807</td>\n",
       "      <td>39.989333</td>\n",
       "      <td>0.307021</td>\n",
       "    </tr>\n",
       "    <tr>\n",
       "      <th>Cort-MP</th>\n",
       "      <td>24.0960</td>\n",
       "      <td>0.271401</td>\n",
       "      <td>31.2784</td>\n",
       "      <td>0.358860</td>\n",
       "      <td>33.6228</td>\n",
       "      <td>0.529729</td>\n",
       "      <td>29.665733</td>\n",
       "      <td>0.240762</td>\n",
       "    </tr>\n",
       "    <tr>\n",
       "      <th>Cort-MR</th>\n",
       "      <td>38.5420</td>\n",
       "      <td>0.422473</td>\n",
       "      <td>29.7764</td>\n",
       "      <td>0.373083</td>\n",
       "      <td>68.3924</td>\n",
       "      <td>0.695882</td>\n",
       "      <td>45.570267</td>\n",
       "      <td>0.347668</td>\n",
       "    </tr>\n",
       "    <tr>\n",
       "      <th>Deep-Coref</th>\n",
       "      <td>NaN</td>\n",
       "      <td>NaN</td>\n",
       "      <td>6.5400</td>\n",
       "      <td>0.000000</td>\n",
       "      <td>87.3500</td>\n",
       "      <td>0.000000</td>\n",
       "      <td>39.260000</td>\n",
       "      <td>0.000000</td>\n",
       "    </tr>\n",
       "    <tr>\n",
       "      <th>E2E</th>\n",
       "      <td>50.2812</td>\n",
       "      <td>0.442637</td>\n",
       "      <td>50.7060</td>\n",
       "      <td>0.426478</td>\n",
       "      <td>63.7804</td>\n",
       "      <td>0.614603</td>\n",
       "      <td>54.922000</td>\n",
       "      <td>0.404907</td>\n",
       "    </tr>\n",
       "    <tr>\n",
       "      <th>Head-Match</th>\n",
       "      <td>24.0272</td>\n",
       "      <td>0.602159</td>\n",
       "      <td>6.5084</td>\n",
       "      <td>0.297849</td>\n",
       "      <td>87.6464</td>\n",
       "      <td>0.222727</td>\n",
       "      <td>39.394000</td>\n",
       "      <td>0.339563</td>\n",
       "    </tr>\n",
       "    <tr>\n",
       "      <th>Sieve</th>\n",
       "      <td>NaN</td>\n",
       "      <td>NaN</td>\n",
       "      <td>NaN</td>\n",
       "      <td>NaN</td>\n",
       "      <td>NaN</td>\n",
       "      <td>NaN</td>\n",
       "      <td>19.428000</td>\n",
       "      <td>0.779904</td>\n",
       "    </tr>\n",
       "    <tr>\n",
       "      <th>random</th>\n",
       "      <td>28.4004</td>\n",
       "      <td>0.555064</td>\n",
       "      <td>17.0856</td>\n",
       "      <td>0.559271</td>\n",
       "      <td>65.8532</td>\n",
       "      <td>0.749737</td>\n",
       "      <td>37.113067</td>\n",
       "      <td>0.460895</td>\n",
       "    </tr>\n",
       "  </tbody>\n",
       "</table>\n",
       "</div>"
      ],
      "text/plain": [
       "                                      f1_bcub           f1_ceafe            \\\n",
       "                                         mean       std     mean       std   \n",
       "auto_or_gold dataset  system                                                 \n",
       "auto         dev+test all-annotators  62.4348  1.334891  49.0604  2.742738   \n",
       "                      annotator1      58.7800  0.000000  43.2100  0.000000   \n",
       "                      annotator2      62.4288  1.455456  50.7648  2.405425   \n",
       "                      annotator3      51.0432  0.298632  29.5432  0.009000   \n",
       "gold         dev+test Cort-EM         26.0208  0.522772   9.2332  0.305801   \n",
       "                      Cort-MP         24.0960  0.271401  31.2784  0.358860   \n",
       "                      Cort-MR         38.5420  0.422473  29.7764  0.373083   \n",
       "                      Deep-Coref          NaN       NaN   6.5400  0.000000   \n",
       "                      E2E             50.2812  0.442637  50.7060  0.426478   \n",
       "                      Head-Match      24.0272  0.602159   6.5084  0.297849   \n",
       "                      Sieve               NaN       NaN      NaN       NaN   \n",
       "                      random          28.4004  0.555064  17.0856  0.559271   \n",
       "\n",
       "                                       f1_muc             f1_conll            \n",
       "                                         mean       std       mean       std  \n",
       "auto_or_gold dataset  system                                                  \n",
       "auto         dev+test all-annotators  67.0096  2.192237  59.501600  1.742909  \n",
       "                      annotator1      46.4200  0.000000  49.470000  0.000000  \n",
       "                      annotator2      69.3044  2.648822  60.832667  1.722269  \n",
       "                      annotator3      28.4772  3.541315  36.354533  1.084519  \n",
       "gold         dev+test Cort-EM         84.7140  0.406807  39.989333  0.307021  \n",
       "                      Cort-MP         33.6228  0.529729  29.665733  0.240762  \n",
       "                      Cort-MR         68.3924  0.695882  45.570267  0.347668  \n",
       "                      Deep-Coref      87.3500  0.000000  39.260000  0.000000  \n",
       "                      E2E             63.7804  0.614603  54.922000  0.404907  \n",
       "                      Head-Match      87.6464  0.222727  39.394000  0.339563  \n",
       "                      Sieve               NaN       NaN  19.428000  0.779904  \n",
       "                      random          65.8532  0.749737  37.113067  0.460895  "
      ]
     },
     "execution_count": 17,
     "metadata": {},
     "output_type": "execute_result"
    }
   ],
   "source": [
    "men100_results = all_results[all_results.manipulation == 'men_100']\n",
    "(men100_results.groupby(['auto_or_gold', 'dataset', 'system'])\n",
    " .agg(['mean', 'std'])[['f1_bcub', 'f1_ceafe', 'f1_muc', 'f1_conll']])"
   ]
  },
  {
   "cell_type": "markdown",
   "metadata": {},
   "source": [
    "### How well people actually perform on context-masked documents?\n"
   ]
  },
  {
   "cell_type": "code",
   "execution_count": 18,
   "metadata": {},
   "outputs": [
    {
     "data": {
      "text/html": [
       "<div>\n",
       "<style scoped>\n",
       "    .dataframe tbody tr th:only-of-type {\n",
       "        vertical-align: middle;\n",
       "    }\n",
       "\n",
       "    .dataframe tbody tr th {\n",
       "        vertical-align: top;\n",
       "    }\n",
       "\n",
       "    .dataframe thead tr th {\n",
       "        text-align: left;\n",
       "    }\n",
       "\n",
       "    .dataframe thead tr:last-of-type th {\n",
       "        text-align: right;\n",
       "    }\n",
       "</style>\n",
       "<table border=\"1\" class=\"dataframe\">\n",
       "  <thead>\n",
       "    <tr>\n",
       "      <th></th>\n",
       "      <th></th>\n",
       "      <th></th>\n",
       "      <th></th>\n",
       "      <th colspan=\"2\" halign=\"left\">f1_bcub</th>\n",
       "      <th colspan=\"2\" halign=\"left\">f1_ceafe</th>\n",
       "      <th colspan=\"2\" halign=\"left\">f1_muc</th>\n",
       "      <th colspan=\"2\" halign=\"left\">f1_conll</th>\n",
       "    </tr>\n",
       "    <tr>\n",
       "      <th></th>\n",
       "      <th></th>\n",
       "      <th></th>\n",
       "      <th></th>\n",
       "      <th>mean</th>\n",
       "      <th>std</th>\n",
       "      <th>mean</th>\n",
       "      <th>std</th>\n",
       "      <th>mean</th>\n",
       "      <th>std</th>\n",
       "      <th>mean</th>\n",
       "      <th>std</th>\n",
       "    </tr>\n",
       "    <tr>\n",
       "      <th>auto_or_gold</th>\n",
       "      <th>dataset</th>\n",
       "      <th>system</th>\n",
       "      <th>manipulation</th>\n",
       "      <th></th>\n",
       "      <th></th>\n",
       "      <th></th>\n",
       "      <th></th>\n",
       "      <th></th>\n",
       "      <th></th>\n",
       "      <th></th>\n",
       "      <th></th>\n",
       "    </tr>\n",
       "  </thead>\n",
       "  <tbody>\n",
       "    <tr>\n",
       "      <th rowspan=\"8\" valign=\"top\">auto</th>\n",
       "      <th rowspan=\"8\" valign=\"top\">dev+test</th>\n",
       "      <th rowspan=\"2\" valign=\"top\">all-annotators</th>\n",
       "      <th>nonmen_100</th>\n",
       "      <td>90.5388</td>\n",
       "      <td>1.282817</td>\n",
       "      <td>85.7068</td>\n",
       "      <td>1.821013</td>\n",
       "      <td>93.7884</td>\n",
       "      <td>1.011165</td>\n",
       "      <td>90.011333</td>\n",
       "      <td>1.295195</td>\n",
       "    </tr>\n",
       "    <tr>\n",
       "      <th>orig</th>\n",
       "      <td>92.7960</td>\n",
       "      <td>1.173882</td>\n",
       "      <td>87.1956</td>\n",
       "      <td>2.125582</td>\n",
       "      <td>95.6696</td>\n",
       "      <td>0.874088</td>\n",
       "      <td>91.887067</td>\n",
       "      <td>1.315949</td>\n",
       "    </tr>\n",
       "    <tr>\n",
       "      <th rowspan=\"2\" valign=\"top\">annotator1</th>\n",
       "      <th>nonmen_100</th>\n",
       "      <td>83.9416</td>\n",
       "      <td>1.596391</td>\n",
       "      <td>72.5296</td>\n",
       "      <td>3.738389</td>\n",
       "      <td>78.8844</td>\n",
       "      <td>2.423140</td>\n",
       "      <td>78.451867</td>\n",
       "      <td>2.575653</td>\n",
       "    </tr>\n",
       "    <tr>\n",
       "      <th>orig</th>\n",
       "      <td>87.0988</td>\n",
       "      <td>1.494376</td>\n",
       "      <td>79.2924</td>\n",
       "      <td>2.113041</td>\n",
       "      <td>91.8300</td>\n",
       "      <td>1.185425</td>\n",
       "      <td>86.073733</td>\n",
       "      <td>1.472756</td>\n",
       "    </tr>\n",
       "    <tr>\n",
       "      <th rowspan=\"2\" valign=\"top\">annotator2</th>\n",
       "      <th>nonmen_100</th>\n",
       "      <td>91.3068</td>\n",
       "      <td>0.880751</td>\n",
       "      <td>87.7292</td>\n",
       "      <td>1.110112</td>\n",
       "      <td>94.6940</td>\n",
       "      <td>0.634613</td>\n",
       "      <td>91.243333</td>\n",
       "      <td>0.788206</td>\n",
       "    </tr>\n",
       "    <tr>\n",
       "      <th>orig</th>\n",
       "      <td>95.4740</td>\n",
       "      <td>1.066486</td>\n",
       "      <td>93.0244</td>\n",
       "      <td>1.906367</td>\n",
       "      <td>98.0020</td>\n",
       "      <td>0.450287</td>\n",
       "      <td>95.500133</td>\n",
       "      <td>1.125775</td>\n",
       "    </tr>\n",
       "    <tr>\n",
       "      <th rowspan=\"2\" valign=\"top\">annotator3</th>\n",
       "      <th>nonmen_100</th>\n",
       "      <td>95.2376</td>\n",
       "      <td>1.898136</td>\n",
       "      <td>85.6188</td>\n",
       "      <td>6.907948</td>\n",
       "      <td>95.7864</td>\n",
       "      <td>2.358942</td>\n",
       "      <td>92.214267</td>\n",
       "      <td>3.673844</td>\n",
       "    </tr>\n",
       "    <tr>\n",
       "      <th>orig</th>\n",
       "      <td>92.0720</td>\n",
       "      <td>0.876694</td>\n",
       "      <td>83.8992</td>\n",
       "      <td>1.129192</td>\n",
       "      <td>93.9196</td>\n",
       "      <td>0.910712</td>\n",
       "      <td>89.963600</td>\n",
       "      <td>0.865753</td>\n",
       "    </tr>\n",
       "    <tr>\n",
       "      <th rowspan=\"16\" valign=\"top\">gold</th>\n",
       "      <th rowspan=\"16\" valign=\"top\">dev+test</th>\n",
       "      <th rowspan=\"2\" valign=\"top\">Cort-EM</th>\n",
       "      <th>nonmen_100</th>\n",
       "      <td>78.7364</td>\n",
       "      <td>0.400550</td>\n",
       "      <td>77.5400</td>\n",
       "      <td>0.335857</td>\n",
       "      <td>89.0568</td>\n",
       "      <td>0.221166</td>\n",
       "      <td>81.777733</td>\n",
       "      <td>0.263294</td>\n",
       "    </tr>\n",
       "    <tr>\n",
       "      <th>orig</th>\n",
       "      <td>79.1412</td>\n",
       "      <td>0.392973</td>\n",
       "      <td>77.5544</td>\n",
       "      <td>0.329761</td>\n",
       "      <td>89.4036</td>\n",
       "      <td>0.176680</td>\n",
       "      <td>82.033067</td>\n",
       "      <td>0.227439</td>\n",
       "    </tr>\n",
       "    <tr>\n",
       "      <th rowspan=\"2\" valign=\"top\">Cort-MP</th>\n",
       "      <th>nonmen_100</th>\n",
       "      <td>76.9504</td>\n",
       "      <td>0.492819</td>\n",
       "      <td>76.3092</td>\n",
       "      <td>0.463887</td>\n",
       "      <td>86.8244</td>\n",
       "      <td>0.273573</td>\n",
       "      <td>80.028000</td>\n",
       "      <td>0.356726</td>\n",
       "    </tr>\n",
       "    <tr>\n",
       "      <th>orig</th>\n",
       "      <td>77.0016</td>\n",
       "      <td>0.387316</td>\n",
       "      <td>75.8908</td>\n",
       "      <td>0.350047</td>\n",
       "      <td>86.8592</td>\n",
       "      <td>0.254295</td>\n",
       "      <td>79.917200</td>\n",
       "      <td>0.267102</td>\n",
       "    </tr>\n",
       "    <tr>\n",
       "      <th rowspan=\"2\" valign=\"top\">Cort-MR</th>\n",
       "      <th>nonmen_100</th>\n",
       "      <td>79.1148</td>\n",
       "      <td>0.386136</td>\n",
       "      <td>77.4716</td>\n",
       "      <td>0.309148</td>\n",
       "      <td>89.1952</td>\n",
       "      <td>0.218711</td>\n",
       "      <td>81.927200</td>\n",
       "      <td>0.236459</td>\n",
       "    </tr>\n",
       "    <tr>\n",
       "      <th>orig</th>\n",
       "      <td>79.3124</td>\n",
       "      <td>0.407649</td>\n",
       "      <td>77.4664</td>\n",
       "      <td>0.319777</td>\n",
       "      <td>89.5112</td>\n",
       "      <td>0.187713</td>\n",
       "      <td>82.096667</td>\n",
       "      <td>0.245502</td>\n",
       "    </tr>\n",
       "    <tr>\n",
       "      <th rowspan=\"2\" valign=\"top\">Deep-Coref</th>\n",
       "      <th>nonmen_100</th>\n",
       "      <td>NaN</td>\n",
       "      <td>NaN</td>\n",
       "      <td>79.3400</td>\n",
       "      <td>0.000000</td>\n",
       "      <td>90.1400</td>\n",
       "      <td>0.000000</td>\n",
       "      <td>83.790000</td>\n",
       "      <td>0.000000</td>\n",
       "    </tr>\n",
       "    <tr>\n",
       "      <th>orig</th>\n",
       "      <td>NaN</td>\n",
       "      <td>NaN</td>\n",
       "      <td>79.2572</td>\n",
       "      <td>0.019044</td>\n",
       "      <td>90.4528</td>\n",
       "      <td>0.099980</td>\n",
       "      <td>84.065200</td>\n",
       "      <td>0.066653</td>\n",
       "    </tr>\n",
       "    <tr>\n",
       "      <th rowspan=\"2\" valign=\"top\">E2E</th>\n",
       "      <th>nonmen_100</th>\n",
       "      <td>82.5048</td>\n",
       "      <td>0.307302</td>\n",
       "      <td>81.3036</td>\n",
       "      <td>0.257308</td>\n",
       "      <td>90.9656</td>\n",
       "      <td>0.185901</td>\n",
       "      <td>84.924800</td>\n",
       "      <td>0.195408</td>\n",
       "    </tr>\n",
       "    <tr>\n",
       "      <th>orig</th>\n",
       "      <td>83.2200</td>\n",
       "      <td>0.242212</td>\n",
       "      <td>81.2088</td>\n",
       "      <td>0.350373</td>\n",
       "      <td>91.5220</td>\n",
       "      <td>0.197653</td>\n",
       "      <td>85.317200</td>\n",
       "      <td>0.201960</td>\n",
       "    </tr>\n",
       "    <tr>\n",
       "      <th rowspan=\"2\" valign=\"top\">Head-Match</th>\n",
       "      <th>nonmen_100</th>\n",
       "      <td>62.7712</td>\n",
       "      <td>0.518381</td>\n",
       "      <td>49.9296</td>\n",
       "      <td>0.358614</td>\n",
       "      <td>70.0244</td>\n",
       "      <td>0.411462</td>\n",
       "      <td>60.908400</td>\n",
       "      <td>0.305511</td>\n",
       "    </tr>\n",
       "    <tr>\n",
       "      <th>orig</th>\n",
       "      <td>62.7748</td>\n",
       "      <td>0.518340</td>\n",
       "      <td>49.9376</td>\n",
       "      <td>0.357180</td>\n",
       "      <td>70.0512</td>\n",
       "      <td>0.407629</td>\n",
       "      <td>60.921200</td>\n",
       "      <td>0.305952</td>\n",
       "    </tr>\n",
       "    <tr>\n",
       "      <th rowspan=\"2\" valign=\"top\">Sieve</th>\n",
       "      <th>nonmen_100</th>\n",
       "      <td>NaN</td>\n",
       "      <td>NaN</td>\n",
       "      <td>NaN</td>\n",
       "      <td>NaN</td>\n",
       "      <td>NaN</td>\n",
       "      <td>NaN</td>\n",
       "      <td>72.214800</td>\n",
       "      <td>0.391803</td>\n",
       "    </tr>\n",
       "    <tr>\n",
       "      <th>orig</th>\n",
       "      <td>NaN</td>\n",
       "      <td>NaN</td>\n",
       "      <td>NaN</td>\n",
       "      <td>NaN</td>\n",
       "      <td>NaN</td>\n",
       "      <td>NaN</td>\n",
       "      <td>72.238800</td>\n",
       "      <td>0.422101</td>\n",
       "    </tr>\n",
       "    <tr>\n",
       "      <th rowspan=\"2\" valign=\"top\">random</th>\n",
       "      <th>nonmen_100</th>\n",
       "      <td>28.3700</td>\n",
       "      <td>0.475526</td>\n",
       "      <td>17.0772</td>\n",
       "      <td>0.364766</td>\n",
       "      <td>65.8552</td>\n",
       "      <td>0.659938</td>\n",
       "      <td>37.100800</td>\n",
       "      <td>0.414878</td>\n",
       "    </tr>\n",
       "    <tr>\n",
       "      <th>orig</th>\n",
       "      <td>28.4124</td>\n",
       "      <td>0.517198</td>\n",
       "      <td>17.1120</td>\n",
       "      <td>0.450241</td>\n",
       "      <td>66.1844</td>\n",
       "      <td>0.699804</td>\n",
       "      <td>37.236267</td>\n",
       "      <td>0.466852</td>\n",
       "    </tr>\n",
       "  </tbody>\n",
       "</table>\n",
       "</div>"
      ],
      "text/plain": [
       "                                                   f1_bcub           f1_ceafe  \\\n",
       "                                                      mean       std     mean   \n",
       "auto_or_gold dataset  system         manipulation                               \n",
       "auto         dev+test all-annotators nonmen_100    90.5388  1.282817  85.7068   \n",
       "                                     orig          92.7960  1.173882  87.1956   \n",
       "                      annotator1     nonmen_100    83.9416  1.596391  72.5296   \n",
       "                                     orig          87.0988  1.494376  79.2924   \n",
       "                      annotator2     nonmen_100    91.3068  0.880751  87.7292   \n",
       "                                     orig          95.4740  1.066486  93.0244   \n",
       "                      annotator3     nonmen_100    95.2376  1.898136  85.6188   \n",
       "                                     orig          92.0720  0.876694  83.8992   \n",
       "gold         dev+test Cort-EM        nonmen_100    78.7364  0.400550  77.5400   \n",
       "                                     orig          79.1412  0.392973  77.5544   \n",
       "                      Cort-MP        nonmen_100    76.9504  0.492819  76.3092   \n",
       "                                     orig          77.0016  0.387316  75.8908   \n",
       "                      Cort-MR        nonmen_100    79.1148  0.386136  77.4716   \n",
       "                                     orig          79.3124  0.407649  77.4664   \n",
       "                      Deep-Coref     nonmen_100        NaN       NaN  79.3400   \n",
       "                                     orig              NaN       NaN  79.2572   \n",
       "                      E2E            nonmen_100    82.5048  0.307302  81.3036   \n",
       "                                     orig          83.2200  0.242212  81.2088   \n",
       "                      Head-Match     nonmen_100    62.7712  0.518381  49.9296   \n",
       "                                     orig          62.7748  0.518340  49.9376   \n",
       "                      Sieve          nonmen_100        NaN       NaN      NaN   \n",
       "                                     orig              NaN       NaN      NaN   \n",
       "                      random         nonmen_100    28.3700  0.475526  17.0772   \n",
       "                                     orig          28.4124  0.517198  17.1120   \n",
       "\n",
       "                                                              f1_muc  \\\n",
       "                                                        std     mean   \n",
       "auto_or_gold dataset  system         manipulation                      \n",
       "auto         dev+test all-annotators nonmen_100    1.821013  93.7884   \n",
       "                                     orig          2.125582  95.6696   \n",
       "                      annotator1     nonmen_100    3.738389  78.8844   \n",
       "                                     orig          2.113041  91.8300   \n",
       "                      annotator2     nonmen_100    1.110112  94.6940   \n",
       "                                     orig          1.906367  98.0020   \n",
       "                      annotator3     nonmen_100    6.907948  95.7864   \n",
       "                                     orig          1.129192  93.9196   \n",
       "gold         dev+test Cort-EM        nonmen_100    0.335857  89.0568   \n",
       "                                     orig          0.329761  89.4036   \n",
       "                      Cort-MP        nonmen_100    0.463887  86.8244   \n",
       "                                     orig          0.350047  86.8592   \n",
       "                      Cort-MR        nonmen_100    0.309148  89.1952   \n",
       "                                     orig          0.319777  89.5112   \n",
       "                      Deep-Coref     nonmen_100    0.000000  90.1400   \n",
       "                                     orig          0.019044  90.4528   \n",
       "                      E2E            nonmen_100    0.257308  90.9656   \n",
       "                                     orig          0.350373  91.5220   \n",
       "                      Head-Match     nonmen_100    0.358614  70.0244   \n",
       "                                     orig          0.357180  70.0512   \n",
       "                      Sieve          nonmen_100         NaN      NaN   \n",
       "                                     orig               NaN      NaN   \n",
       "                      random         nonmen_100    0.364766  65.8552   \n",
       "                                     orig          0.450241  66.1844   \n",
       "\n",
       "                                                              f1_conll  \\\n",
       "                                                        std       mean   \n",
       "auto_or_gold dataset  system         manipulation                        \n",
       "auto         dev+test all-annotators nonmen_100    1.011165  90.011333   \n",
       "                                     orig          0.874088  91.887067   \n",
       "                      annotator1     nonmen_100    2.423140  78.451867   \n",
       "                                     orig          1.185425  86.073733   \n",
       "                      annotator2     nonmen_100    0.634613  91.243333   \n",
       "                                     orig          0.450287  95.500133   \n",
       "                      annotator3     nonmen_100    2.358942  92.214267   \n",
       "                                     orig          0.910712  89.963600   \n",
       "gold         dev+test Cort-EM        nonmen_100    0.221166  81.777733   \n",
       "                                     orig          0.176680  82.033067   \n",
       "                      Cort-MP        nonmen_100    0.273573  80.028000   \n",
       "                                     orig          0.254295  79.917200   \n",
       "                      Cort-MR        nonmen_100    0.218711  81.927200   \n",
       "                                     orig          0.187713  82.096667   \n",
       "                      Deep-Coref     nonmen_100    0.000000  83.790000   \n",
       "                                     orig          0.099980  84.065200   \n",
       "                      E2E            nonmen_100    0.185901  84.924800   \n",
       "                                     orig          0.197653  85.317200   \n",
       "                      Head-Match     nonmen_100    0.411462  60.908400   \n",
       "                                     orig          0.407629  60.921200   \n",
       "                      Sieve          nonmen_100         NaN  72.214800   \n",
       "                                     orig               NaN  72.238800   \n",
       "                      random         nonmen_100    0.659938  37.100800   \n",
       "                                     orig          0.699804  37.236267   \n",
       "\n",
       "                                                             \n",
       "                                                        std  \n",
       "auto_or_gold dataset  system         manipulation            \n",
       "auto         dev+test all-annotators nonmen_100    1.295195  \n",
       "                                     orig          1.315949  \n",
       "                      annotator1     nonmen_100    2.575653  \n",
       "                                     orig          1.472756  \n",
       "                      annotator2     nonmen_100    0.788206  \n",
       "                                     orig          1.125775  \n",
       "                      annotator3     nonmen_100    3.673844  \n",
       "                                     orig          0.865753  \n",
       "gold         dev+test Cort-EM        nonmen_100    0.263294  \n",
       "                                     orig          0.227439  \n",
       "                      Cort-MP        nonmen_100    0.356726  \n",
       "                                     orig          0.267102  \n",
       "                      Cort-MR        nonmen_100    0.236459  \n",
       "                                     orig          0.245502  \n",
       "                      Deep-Coref     nonmen_100    0.000000  \n",
       "                                     orig          0.066653  \n",
       "                      E2E            nonmen_100    0.195408  \n",
       "                                     orig          0.201960  \n",
       "                      Head-Match     nonmen_100    0.305511  \n",
       "                                     orig          0.305952  \n",
       "                      Sieve          nonmen_100    0.391803  \n",
       "                                     orig          0.422101  \n",
       "                      random         nonmen_100    0.414878  \n",
       "                                     orig          0.466852  "
      ]
     },
     "execution_count": 18,
     "metadata": {},
     "output_type": "execute_result"
    }
   ],
   "source": [
    "nonmen_vs_orig_results = all_results[all_results.manipulation.isin(['orig', 'nonmen_100'])]\n",
    "(nonmen_vs_orig_results.groupby(['auto_or_gold', 'dataset', 'system', 'manipulation'])\n",
    " .agg(['mean', 'std'])[['f1_bcub', 'f1_ceafe', 'f1_muc', 'f1_conll']])"
   ]
  },
  {
   "cell_type": "markdown",
   "metadata": {},
   "source": [
    "### Counting and eyeballing"
   ]
  },
  {
   "cell_type": "code",
   "execution_count": 19,
   "metadata": {
    "scrolled": false
   },
   "outputs": [
    {
     "data": {
      "text/plain": [
       "nonmen_80      300\n",
       "no-external    300\n",
       "no-name        300\n",
       "men_20         300\n",
       "nonmen_40      300\n",
       "nonmen_100     300\n",
       "nonmen_20      300\n",
       "orig           300\n",
       "no-internal    300\n",
       "men_60         300\n",
       "men_40         300\n",
       "men_100        300\n",
       "men_80         300\n",
       "nonmen_60      300\n",
       "no-match       200\n",
       "Name: manipulation, dtype: int64"
      ]
     },
     "execution_count": 19,
     "metadata": {},
     "output_type": "execute_result"
    }
   ],
   "source": [
    "all_results.manipulation.value_counts()"
   ]
  },
  {
   "cell_type": "code",
   "execution_count": 20,
   "metadata": {},
   "outputs": [
    {
     "data": {
      "text/html": [
       "<div>\n",
       "<style scoped>\n",
       "    .dataframe tbody tr th:only-of-type {\n",
       "        vertical-align: middle;\n",
       "    }\n",
       "\n",
       "    .dataframe tbody tr th {\n",
       "        vertical-align: top;\n",
       "    }\n",
       "\n",
       "    .dataframe thead th {\n",
       "        text-align: right;\n",
       "    }\n",
       "</style>\n",
       "<table border=\"1\" class=\"dataframe\">\n",
       "  <thead>\n",
       "    <tr style=\"text-align: right;\">\n",
       "      <th></th>\n",
       "      <th>auto_or_gold</th>\n",
       "      <th>dataset</th>\n",
       "      <th>f1_bcub</th>\n",
       "      <th>f1_ceafe</th>\n",
       "      <th>f1_conll</th>\n",
       "      <th>f1_muc</th>\n",
       "      <th>manipulation</th>\n",
       "      <th>mention_p</th>\n",
       "      <th>mention_r</th>\n",
       "      <th>sample</th>\n",
       "      <th>system</th>\n",
       "      <th>f1_b3</th>\n",
       "      <th>f1_lea</th>\n",
       "      <th>train_manipulation</th>\n",
       "    </tr>\n",
       "  </thead>\n",
       "  <tbody>\n",
       "    <tr>\n",
       "      <th>0</th>\n",
       "      <td>gold</td>\n",
       "      <td>dev+test</td>\n",
       "      <td>24.57</td>\n",
       "      <td>6.97</td>\n",
       "      <td>39.743333</td>\n",
       "      <td>87.69</td>\n",
       "      <td>men_100</td>\n",
       "      <td>100.0</td>\n",
       "      <td>100.0</td>\n",
       "      <td>sample_00</td>\n",
       "      <td>Head-Match</td>\n",
       "      <td>NaN</td>\n",
       "      <td>NaN</td>\n",
       "      <td>NaN</td>\n",
       "    </tr>\n",
       "    <tr>\n",
       "      <th>1</th>\n",
       "      <td>gold</td>\n",
       "      <td>dev+test</td>\n",
       "      <td>53.73</td>\n",
       "      <td>44.02</td>\n",
       "      <td>52.540000</td>\n",
       "      <td>59.87</td>\n",
       "      <td>men_20</td>\n",
       "      <td>100.0</td>\n",
       "      <td>100.0</td>\n",
       "      <td>sample_00</td>\n",
       "      <td>Head-Match</td>\n",
       "      <td>NaN</td>\n",
       "      <td>NaN</td>\n",
       "      <td>NaN</td>\n",
       "    </tr>\n",
       "    <tr>\n",
       "      <th>2</th>\n",
       "      <td>gold</td>\n",
       "      <td>dev+test</td>\n",
       "      <td>50.08</td>\n",
       "      <td>41.59</td>\n",
       "      <td>50.176667</td>\n",
       "      <td>58.86</td>\n",
       "      <td>men_40</td>\n",
       "      <td>100.0</td>\n",
       "      <td>100.0</td>\n",
       "      <td>sample_00</td>\n",
       "      <td>Head-Match</td>\n",
       "      <td>NaN</td>\n",
       "      <td>NaN</td>\n",
       "      <td>NaN</td>\n",
       "    </tr>\n",
       "    <tr>\n",
       "      <th>3</th>\n",
       "      <td>gold</td>\n",
       "      <td>dev+test</td>\n",
       "      <td>49.59</td>\n",
       "      <td>38.59</td>\n",
       "      <td>50.493333</td>\n",
       "      <td>63.30</td>\n",
       "      <td>men_60</td>\n",
       "      <td>100.0</td>\n",
       "      <td>100.0</td>\n",
       "      <td>sample_00</td>\n",
       "      <td>Head-Match</td>\n",
       "      <td>NaN</td>\n",
       "      <td>NaN</td>\n",
       "      <td>NaN</td>\n",
       "    </tr>\n",
       "    <tr>\n",
       "      <th>4</th>\n",
       "      <td>gold</td>\n",
       "      <td>dev+test</td>\n",
       "      <td>45.33</td>\n",
       "      <td>34.25</td>\n",
       "      <td>50.846667</td>\n",
       "      <td>72.96</td>\n",
       "      <td>men_80</td>\n",
       "      <td>100.0</td>\n",
       "      <td>100.0</td>\n",
       "      <td>sample_00</td>\n",
       "      <td>Head-Match</td>\n",
       "      <td>NaN</td>\n",
       "      <td>NaN</td>\n",
       "      <td>NaN</td>\n",
       "    </tr>\n",
       "  </tbody>\n",
       "</table>\n",
       "</div>"
      ],
      "text/plain": [
       "  auto_or_gold   dataset  f1_bcub  f1_ceafe   f1_conll  f1_muc manipulation  \\\n",
       "0         gold  dev+test    24.57      6.97  39.743333   87.69      men_100   \n",
       "1         gold  dev+test    53.73     44.02  52.540000   59.87       men_20   \n",
       "2         gold  dev+test    50.08     41.59  50.176667   58.86       men_40   \n",
       "3         gold  dev+test    49.59     38.59  50.493333   63.30       men_60   \n",
       "4         gold  dev+test    45.33     34.25  50.846667   72.96       men_80   \n",
       "\n",
       "   mention_p  mention_r     sample      system  f1_b3  f1_lea  \\\n",
       "0      100.0      100.0  sample_00  Head-Match    NaN     NaN   \n",
       "1      100.0      100.0  sample_00  Head-Match    NaN     NaN   \n",
       "2      100.0      100.0  sample_00  Head-Match    NaN     NaN   \n",
       "3      100.0      100.0  sample_00  Head-Match    NaN     NaN   \n",
       "4      100.0      100.0  sample_00  Head-Match    NaN     NaN   \n",
       "\n",
       "  train_manipulation  \n",
       "0                NaN  \n",
       "1                NaN  \n",
       "2                NaN  \n",
       "3                NaN  \n",
       "4                NaN  "
      ]
     },
     "execution_count": 20,
     "metadata": {},
     "output_type": "execute_result"
    }
   ],
   "source": [
    "all_results.head()"
   ]
  },
  {
   "cell_type": "code",
   "execution_count": 21,
   "metadata": {
    "scrolled": false
   },
   "outputs": [
    {
     "data": {
      "text/html": [
       "<div>\n",
       "<style scoped>\n",
       "    .dataframe tbody tr th:only-of-type {\n",
       "        vertical-align: middle;\n",
       "    }\n",
       "\n",
       "    .dataframe tbody tr th {\n",
       "        vertical-align: top;\n",
       "    }\n",
       "\n",
       "    .dataframe thead th {\n",
       "        text-align: right;\n",
       "    }\n",
       "</style>\n",
       "<table border=\"1\" class=\"dataframe\">\n",
       "  <thead>\n",
       "    <tr style=\"text-align: right;\">\n",
       "      <th></th>\n",
       "      <th>f1_bcub</th>\n",
       "      <th>f1_ceafe</th>\n",
       "      <th>f1_conll</th>\n",
       "      <th>f1_muc</th>\n",
       "      <th>mention_p</th>\n",
       "      <th>mention_r</th>\n",
       "      <th>f1_b3</th>\n",
       "      <th>f1_lea</th>\n",
       "    </tr>\n",
       "  </thead>\n",
       "  <tbody>\n",
       "    <tr>\n",
       "      <th>count</th>\n",
       "      <td>25.000000</td>\n",
       "      <td>25.00000</td>\n",
       "      <td>25.000000</td>\n",
       "      <td>25.000000</td>\n",
       "      <td>25.0</td>\n",
       "      <td>25.00000</td>\n",
       "      <td>0.0</td>\n",
       "      <td>0.0</td>\n",
       "    </tr>\n",
       "    <tr>\n",
       "      <th>mean</th>\n",
       "      <td>52.180800</td>\n",
       "      <td>51.82880</td>\n",
       "      <td>56.989600</td>\n",
       "      <td>66.958000</td>\n",
       "      <td>100.0</td>\n",
       "      <td>90.70480</td>\n",
       "      <td>NaN</td>\n",
       "      <td>NaN</td>\n",
       "    </tr>\n",
       "    <tr>\n",
       "      <th>std</th>\n",
       "      <td>0.430348</td>\n",
       "      <td>0.37427</td>\n",
       "      <td>0.364503</td>\n",
       "      <td>0.579684</td>\n",
       "      <td>0.0</td>\n",
       "      <td>0.22004</td>\n",
       "      <td>NaN</td>\n",
       "      <td>NaN</td>\n",
       "    </tr>\n",
       "    <tr>\n",
       "      <th>min</th>\n",
       "      <td>51.510000</td>\n",
       "      <td>51.30000</td>\n",
       "      <td>56.380000</td>\n",
       "      <td>65.720000</td>\n",
       "      <td>100.0</td>\n",
       "      <td>90.23000</td>\n",
       "      <td>NaN</td>\n",
       "      <td>NaN</td>\n",
       "    </tr>\n",
       "    <tr>\n",
       "      <th>25%</th>\n",
       "      <td>51.870000</td>\n",
       "      <td>51.56000</td>\n",
       "      <td>56.720000</td>\n",
       "      <td>66.670000</td>\n",
       "      <td>100.0</td>\n",
       "      <td>90.56000</td>\n",
       "      <td>NaN</td>\n",
       "      <td>NaN</td>\n",
       "    </tr>\n",
       "    <tr>\n",
       "      <th>50%</th>\n",
       "      <td>52.170000</td>\n",
       "      <td>51.87000</td>\n",
       "      <td>56.990000</td>\n",
       "      <td>66.990000</td>\n",
       "      <td>100.0</td>\n",
       "      <td>90.71000</td>\n",
       "      <td>NaN</td>\n",
       "      <td>NaN</td>\n",
       "    </tr>\n",
       "    <tr>\n",
       "      <th>75%</th>\n",
       "      <td>52.340000</td>\n",
       "      <td>52.03000</td>\n",
       "      <td>57.220000</td>\n",
       "      <td>67.400000</td>\n",
       "      <td>100.0</td>\n",
       "      <td>90.91000</td>\n",
       "      <td>NaN</td>\n",
       "      <td>NaN</td>\n",
       "    </tr>\n",
       "    <tr>\n",
       "      <th>max</th>\n",
       "      <td>53.380000</td>\n",
       "      <td>52.72000</td>\n",
       "      <td>57.600000</td>\n",
       "      <td>68.420000</td>\n",
       "      <td>100.0</td>\n",
       "      <td>91.05000</td>\n",
       "      <td>NaN</td>\n",
       "      <td>NaN</td>\n",
       "    </tr>\n",
       "  </tbody>\n",
       "</table>\n",
       "</div>"
      ],
      "text/plain": [
       "         f1_bcub  f1_ceafe   f1_conll     f1_muc  mention_p  mention_r  f1_b3  \\\n",
       "count  25.000000  25.00000  25.000000  25.000000       25.0   25.00000    0.0   \n",
       "mean   52.180800  51.82880  56.989600  66.958000      100.0   90.70480    NaN   \n",
       "std     0.430348   0.37427   0.364503   0.579684        0.0    0.22004    NaN   \n",
       "min    51.510000  51.30000  56.380000  65.720000      100.0   90.23000    NaN   \n",
       "25%    51.870000  51.56000  56.720000  66.670000      100.0   90.56000    NaN   \n",
       "50%    52.170000  51.87000  56.990000  66.990000      100.0   90.71000    NaN   \n",
       "75%    52.340000  52.03000  57.220000  67.400000      100.0   90.91000    NaN   \n",
       "max    53.380000  52.72000  57.600000  68.420000      100.0   91.05000    NaN   \n",
       "\n",
       "       f1_lea  \n",
       "count     0.0  \n",
       "mean      NaN  \n",
       "std       NaN  \n",
       "min       NaN  \n",
       "25%       NaN  \n",
       "50%       NaN  \n",
       "75%       NaN  \n",
       "max       NaN  "
      ]
     },
     "execution_count": 21,
     "metadata": {},
     "output_type": "execute_result"
    }
   ],
   "source": [
    "# look at one type of transformation/system\n",
    "all_results[(all_results.system == 'E2E') & (all_results.manipulation == 'men_80') & \n",
    "            (all_results.dataset == 'dev+test')].describe()"
   ]
  },
  {
   "cell_type": "code",
   "execution_count": 22,
   "metadata": {},
   "outputs": [
    {
     "data": {
      "text/plain": [
       "array(['Head-Match', 'random', 'Sieve', 'Cort-MR', 'Cort-MP', 'Cort-EM',\n",
       "       'Deep-Coref', 'E2E', 'all-annotators', 'annotator1', 'annotator2',\n",
       "       'annotator3'], dtype=object)"
      ]
     },
     "execution_count": 22,
     "metadata": {},
     "output_type": "execute_result"
    }
   ],
   "source": [
    "all_results.system.unique()"
   ]
  },
  {
   "cell_type": "code",
   "execution_count": 39,
   "metadata": {},
   "outputs": [
    {
     "data": {
      "text/html": [
       "<div>\n",
       "<style scoped>\n",
       "    .dataframe tbody tr th:only-of-type {\n",
       "        vertical-align: middle;\n",
       "    }\n",
       "\n",
       "    .dataframe tbody tr th {\n",
       "        vertical-align: top;\n",
       "    }\n",
       "\n",
       "    .dataframe thead th {\n",
       "        text-align: right;\n",
       "    }\n",
       "</style>\n",
       "<table border=\"1\" class=\"dataframe\">\n",
       "  <thead>\n",
       "    <tr style=\"text-align: right;\">\n",
       "      <th></th>\n",
       "      <th></th>\n",
       "      <th></th>\n",
       "      <th></th>\n",
       "      <th>f1_conll</th>\n",
       "    </tr>\n",
       "    <tr>\n",
       "      <th>auto_or_gold</th>\n",
       "      <th>dataset</th>\n",
       "      <th>manipulation</th>\n",
       "      <th>system</th>\n",
       "      <th></th>\n",
       "    </tr>\n",
       "  </thead>\n",
       "  <tbody>\n",
       "    <tr>\n",
       "      <th rowspan=\"15\" valign=\"top\">gold</th>\n",
       "      <th rowspan=\"15\" valign=\"top\">dev+test</th>\n",
       "      <th>men_100</th>\n",
       "      <th>Deep-Coref</th>\n",
       "      <td>39.2600</td>\n",
       "    </tr>\n",
       "    <tr>\n",
       "      <th>men_20</th>\n",
       "      <th>Deep-Coref</th>\n",
       "      <td>73.3300</td>\n",
       "    </tr>\n",
       "    <tr>\n",
       "      <th>men_40</th>\n",
       "      <th>Deep-Coref</th>\n",
       "      <td>64.4500</td>\n",
       "    </tr>\n",
       "    <tr>\n",
       "      <th>men_60</th>\n",
       "      <th>Deep-Coref</th>\n",
       "      <td>42.4000</td>\n",
       "    </tr>\n",
       "    <tr>\n",
       "      <th>men_80</th>\n",
       "      <th>Deep-Coref</th>\n",
       "      <td>39.2700</td>\n",
       "    </tr>\n",
       "    <tr>\n",
       "      <th>no-external</th>\n",
       "      <th>Deep-Coref</th>\n",
       "      <td>81.9600</td>\n",
       "    </tr>\n",
       "    <tr>\n",
       "      <th>no-internal</th>\n",
       "      <th>Deep-Coref</th>\n",
       "      <td>82.1700</td>\n",
       "    </tr>\n",
       "    <tr>\n",
       "      <th>no-match</th>\n",
       "      <th>Deep-Coref</th>\n",
       "      <td>74.9700</td>\n",
       "    </tr>\n",
       "    <tr>\n",
       "      <th>no-name</th>\n",
       "      <th>Deep-Coref</th>\n",
       "      <td>75.7300</td>\n",
       "    </tr>\n",
       "    <tr>\n",
       "      <th>nonmen_100</th>\n",
       "      <th>Deep-Coref</th>\n",
       "      <td>83.7900</td>\n",
       "    </tr>\n",
       "    <tr>\n",
       "      <th>nonmen_20</th>\n",
       "      <th>Deep-Coref</th>\n",
       "      <td>83.9300</td>\n",
       "    </tr>\n",
       "    <tr>\n",
       "      <th>nonmen_40</th>\n",
       "      <th>Deep-Coref</th>\n",
       "      <td>83.7600</td>\n",
       "    </tr>\n",
       "    <tr>\n",
       "      <th>nonmen_60</th>\n",
       "      <th>Deep-Coref</th>\n",
       "      <td>83.7460</td>\n",
       "    </tr>\n",
       "    <tr>\n",
       "      <th>nonmen_80</th>\n",
       "      <th>Deep-Coref</th>\n",
       "      <td>83.6592</td>\n",
       "    </tr>\n",
       "    <tr>\n",
       "      <th>orig</th>\n",
       "      <th>Deep-Coref</th>\n",
       "      <td>84.0652</td>\n",
       "    </tr>\n",
       "  </tbody>\n",
       "</table>\n",
       "</div>"
      ],
      "text/plain": [
       "                                               f1_conll\n",
       "auto_or_gold dataset  manipulation system              \n",
       "gold         dev+test men_100      Deep-Coref   39.2600\n",
       "                      men_20       Deep-Coref   73.3300\n",
       "                      men_40       Deep-Coref   64.4500\n",
       "                      men_60       Deep-Coref   42.4000\n",
       "                      men_80       Deep-Coref   39.2700\n",
       "                      no-external  Deep-Coref   81.9600\n",
       "                      no-internal  Deep-Coref   82.1700\n",
       "                      no-match     Deep-Coref   74.9700\n",
       "                      no-name      Deep-Coref   75.7300\n",
       "                      nonmen_100   Deep-Coref   83.7900\n",
       "                      nonmen_20    Deep-Coref   83.9300\n",
       "                      nonmen_40    Deep-Coref   83.7600\n",
       "                      nonmen_60    Deep-Coref   83.7460\n",
       "                      nonmen_80    Deep-Coref   83.6592\n",
       "                      orig         Deep-Coref   84.0652"
      ]
     },
     "execution_count": 39,
     "metadata": {},
     "output_type": "execute_result"
    }
   ],
   "source": [
    "# look at one type of transformation/system\n",
    "all_results[(all_results.system == 'Deep-Coref') & (all_results.dataset == 'dev+test')] \\\n",
    "    .groupby(['auto_or_gold', 'dataset', 'manipulation', 'system']).agg({'f1_conll': 'mean'})"
   ]
  },
  {
   "cell_type": "code",
   "execution_count": 40,
   "metadata": {},
   "outputs": [
    {
     "data": {
      "text/plain": [
       "0.2751999999999981"
      ]
     },
     "execution_count": 40,
     "metadata": {},
     "output_type": "execute_result"
    }
   ],
   "source": [
    "84.0652 - 83.7900"
   ]
  },
  {
   "cell_type": "code",
   "execution_count": 24,
   "metadata": {},
   "outputs": [
    {
     "data": {
      "text/html": [
       "<div>\n",
       "<style scoped>\n",
       "    .dataframe tbody tr th:only-of-type {\n",
       "        vertical-align: middle;\n",
       "    }\n",
       "\n",
       "    .dataframe tbody tr th {\n",
       "        vertical-align: top;\n",
       "    }\n",
       "\n",
       "    .dataframe thead th {\n",
       "        text-align: right;\n",
       "    }\n",
       "</style>\n",
       "<table border=\"1\" class=\"dataframe\">\n",
       "  <thead>\n",
       "    <tr style=\"text-align: right;\">\n",
       "      <th></th>\n",
       "      <th></th>\n",
       "      <th></th>\n",
       "      <th>f1_conll</th>\n",
       "    </tr>\n",
       "    <tr>\n",
       "      <th>system</th>\n",
       "      <th>manipulation</th>\n",
       "      <th>train_manipulation</th>\n",
       "      <th></th>\n",
       "    </tr>\n",
       "  </thead>\n",
       "  <tbody>\n",
       "    <tr>\n",
       "      <th rowspan=\"15\" valign=\"top\">E2E</th>\n",
       "      <th>men_100</th>\n",
       "      <th>men_100</th>\n",
       "      <td>[54.922000000000004, 0.39672660611559635]</td>\n",
       "    </tr>\n",
       "    <tr>\n",
       "      <th>men_20</th>\n",
       "      <th>men_20</th>\n",
       "      <td>[74.81880000000001, 0.2015603135540326]</td>\n",
       "    </tr>\n",
       "    <tr>\n",
       "      <th>men_40</th>\n",
       "      <th>men_40</th>\n",
       "      <td>[66.97160000000001, 0.31153401098435446]</td>\n",
       "    </tr>\n",
       "    <tr>\n",
       "      <th>men_60</th>\n",
       "      <th>men_60</th>\n",
       "      <td>[61.20919999999999, 0.34712441573591407]</td>\n",
       "    </tr>\n",
       "    <tr>\n",
       "      <th>men_80</th>\n",
       "      <th>men_80</th>\n",
       "      <td>[56.98960000000001, 0.35713840454367307]</td>\n",
       "    </tr>\n",
       "    <tr>\n",
       "      <th>no-external</th>\n",
       "      <th>no-external</th>\n",
       "      <td>[82.34440000000001, 0.2623140103006321]</td>\n",
       "    </tr>\n",
       "    <tr>\n",
       "      <th>no-internal</th>\n",
       "      <th>no-internal</th>\n",
       "      <td>[82.19400000000002, 0.2227464926772124]</td>\n",
       "    </tr>\n",
       "    <tr>\n",
       "      <th>no-match</th>\n",
       "      <th>no-match</th>\n",
       "      <td>[76.66919999999999, 0.24404786415783158]</td>\n",
       "    </tr>\n",
       "    <tr>\n",
       "      <th>no-name</th>\n",
       "      <th>no-name</th>\n",
       "      <td>[76.69199999999996, 0.28197872260154616]</td>\n",
       "    </tr>\n",
       "    <tr>\n",
       "      <th>nonmen_100</th>\n",
       "      <th>nonmen_100</th>\n",
       "      <td>[84.92479999999999, 0.19146007416691255]</td>\n",
       "    </tr>\n",
       "    <tr>\n",
       "      <th>nonmen_20</th>\n",
       "      <th>nonmen_20</th>\n",
       "      <td>[85.2084, 0.20150791547728356]</td>\n",
       "    </tr>\n",
       "    <tr>\n",
       "      <th>nonmen_40</th>\n",
       "      <th>nonmen_40</th>\n",
       "      <td>[85.0696, 0.21708026165453082]</td>\n",
       "    </tr>\n",
       "    <tr>\n",
       "      <th>nonmen_60</th>\n",
       "      <th>nonmen_60</th>\n",
       "      <td>[84.74680000000001, 0.21008036557470083]</td>\n",
       "    </tr>\n",
       "    <tr>\n",
       "      <th>nonmen_80</th>\n",
       "      <th>nonmen_80</th>\n",
       "      <td>[84.7216, 0.2768780236855217]</td>\n",
       "    </tr>\n",
       "    <tr>\n",
       "      <th>orig</th>\n",
       "      <th>orig</th>\n",
       "      <td>[85.31719999999997, 0.19787915504165624]</td>\n",
       "    </tr>\n",
       "  </tbody>\n",
       "</table>\n",
       "</div>"
      ],
      "text/plain": [
       "                                                                         f1_conll\n",
       "system manipulation train_manipulation                                           \n",
       "E2E    men_100      men_100             [54.922000000000004, 0.39672660611559635]\n",
       "       men_20       men_20                [74.81880000000001, 0.2015603135540326]\n",
       "       men_40       men_40               [66.97160000000001, 0.31153401098435446]\n",
       "       men_60       men_60               [61.20919999999999, 0.34712441573591407]\n",
       "       men_80       men_80               [56.98960000000001, 0.35713840454367307]\n",
       "       no-external  no-external           [82.34440000000001, 0.2623140103006321]\n",
       "       no-internal  no-internal           [82.19400000000002, 0.2227464926772124]\n",
       "       no-match     no-match             [76.66919999999999, 0.24404786415783158]\n",
       "       no-name      no-name              [76.69199999999996, 0.28197872260154616]\n",
       "       nonmen_100   nonmen_100           [84.92479999999999, 0.19146007416691255]\n",
       "       nonmen_20    nonmen_20                      [85.2084, 0.20150791547728356]\n",
       "       nonmen_40    nonmen_40                      [85.0696, 0.21708026165453082]\n",
       "       nonmen_60    nonmen_60            [84.74680000000001, 0.21008036557470083]\n",
       "       nonmen_80    nonmen_80                       [84.7216, 0.2768780236855217]\n",
       "       orig         orig                 [85.31719999999997, 0.19787915504165624]"
      ]
     },
     "execution_count": 24,
     "metadata": {},
     "output_type": "execute_result"
    }
   ],
   "source": [
    "# check that there's some variation in e2e results\n",
    "(all_results[(all_results.system == 'E2E') & (all_results.dataset == 'dev+test')]\n",
    " .groupby(['system', 'manipulation', 'train_manipulation']).agg({'f1_conll': lambda x: [np.mean(x), np.std(x)]}))"
   ]
  },
  {
   "cell_type": "code",
   "execution_count": 25,
   "metadata": {},
   "outputs": [
    {
     "data": {
      "text/html": [
       "<div>\n",
       "<style scoped>\n",
       "    .dataframe tbody tr th:only-of-type {\n",
       "        vertical-align: middle;\n",
       "    }\n",
       "\n",
       "    .dataframe tbody tr th {\n",
       "        vertical-align: top;\n",
       "    }\n",
       "\n",
       "    .dataframe thead th {\n",
       "        text-align: right;\n",
       "    }\n",
       "</style>\n",
       "<table border=\"1\" class=\"dataframe\">\n",
       "  <thead>\n",
       "    <tr style=\"text-align: right;\">\n",
       "      <th></th>\n",
       "      <th></th>\n",
       "      <th>f1_conll</th>\n",
       "    </tr>\n",
       "    <tr>\n",
       "      <th>system</th>\n",
       "      <th>manipulation</th>\n",
       "      <th></th>\n",
       "    </tr>\n",
       "  </thead>\n",
       "  <tbody>\n",
       "    <tr>\n",
       "      <th rowspan=\"15\" valign=\"top\">Deep-Coref</th>\n",
       "      <th>men_100</th>\n",
       "      <td>0.000000e+00</td>\n",
       "    </tr>\n",
       "    <tr>\n",
       "      <th>men_20</th>\n",
       "      <td>2.842171e-14</td>\n",
       "    </tr>\n",
       "    <tr>\n",
       "      <th>men_40</th>\n",
       "      <td>2.842171e-14</td>\n",
       "    </tr>\n",
       "    <tr>\n",
       "      <th>men_60</th>\n",
       "      <td>7.105427e-15</td>\n",
       "    </tr>\n",
       "    <tr>\n",
       "      <th>men_80</th>\n",
       "      <td>1.421085e-14</td>\n",
       "    </tr>\n",
       "    <tr>\n",
       "      <th>no-external</th>\n",
       "      <td>2.842171e-14</td>\n",
       "    </tr>\n",
       "    <tr>\n",
       "      <th>no-internal</th>\n",
       "      <td>1.421085e-14</td>\n",
       "    </tr>\n",
       "    <tr>\n",
       "      <th>no-match</th>\n",
       "      <td>1.421085e-14</td>\n",
       "    </tr>\n",
       "    <tr>\n",
       "      <th>no-name</th>\n",
       "      <td>0.000000e+00</td>\n",
       "    </tr>\n",
       "    <tr>\n",
       "      <th>nonmen_100</th>\n",
       "      <td>2.842171e-14</td>\n",
       "    </tr>\n",
       "    <tr>\n",
       "      <th>nonmen_20</th>\n",
       "      <td>2.842171e-14</td>\n",
       "    </tr>\n",
       "    <tr>\n",
       "      <th>nonmen_40</th>\n",
       "      <td>0.000000e+00</td>\n",
       "    </tr>\n",
       "    <tr>\n",
       "      <th>nonmen_60</th>\n",
       "      <td>8.000000e-03</td>\n",
       "    </tr>\n",
       "    <tr>\n",
       "      <th>nonmen_80</th>\n",
       "      <td>1.998399e-02</td>\n",
       "    </tr>\n",
       "    <tr>\n",
       "      <th>orig</th>\n",
       "      <td>6.530666e-02</td>\n",
       "    </tr>\n",
       "  </tbody>\n",
       "</table>\n",
       "</div>"
      ],
      "text/plain": [
       "                             f1_conll\n",
       "system     manipulation              \n",
       "Deep-Coref men_100       0.000000e+00\n",
       "           men_20        2.842171e-14\n",
       "           men_40        2.842171e-14\n",
       "           men_60        7.105427e-15\n",
       "           men_80        1.421085e-14\n",
       "           no-external   2.842171e-14\n",
       "           no-internal   1.421085e-14\n",
       "           no-match      1.421085e-14\n",
       "           no-name       0.000000e+00\n",
       "           nonmen_100    2.842171e-14\n",
       "           nonmen_20     2.842171e-14\n",
       "           nonmen_40     0.000000e+00\n",
       "           nonmen_60     8.000000e-03\n",
       "           nonmen_80     1.998399e-02\n",
       "           orig          6.530666e-02"
      ]
     },
     "execution_count": 25,
     "metadata": {},
     "output_type": "execute_result"
    }
   ],
   "source": [
    "# check that there's some variation in deep-coref results\n",
    "(all_results[(all_results.system == 'Deep-Coref') & (all_results.dataset == 'dev+test')]\n",
    " .groupby(['system', 'manipulation']).agg({'f1_conll': lambda x: np.std(x)}))"
   ]
  },
  {
   "cell_type": "markdown",
   "metadata": {},
   "source": [
    "# Mentions and context affecting systems"
   ]
  },
  {
   "cell_type": "code",
   "execution_count": 26,
   "metadata": {},
   "outputs": [],
   "source": [
    "df = all_results_except_random\n",
    "ex1_results = df[df.manipulation.isin(['orig', 'nonmen_100', 'men_100']) &\n",
    "                 ((df.auto_or_gold == 'gold') | (df.system.isin(humans))) & \n",
    "                 (df.dataset == 'dev+test')].copy()\n",
    "ex1_results['manipulation'] = ex1_results.manipulation.map(transformation_name_map1.__getitem__)"
   ]
  },
  {
   "cell_type": "code",
   "execution_count": 27,
   "metadata": {},
   "outputs": [
    {
     "data": {
      "image/png": "[encoded data removed]",
      "text/plain": [
       "<Figure size 504x288 with 1 Axes>"
      ]
     },
     "metadata": {
      "needs_background": "light"
     },
     "output_type": "display_data"
    }
   ],
   "source": [
    "fig, ax = plt.subplots(figsize=(7, 4))\n",
    "sns.barplot(x='system', y='f1_conll', hue='manipulation', \n",
    "                 hue_order=transformation_name_map1.values(), \n",
    "                 data=ex1_results, ax=ax)\n",
    "ax.set_xticklabels(ax.get_xticklabels(), rotation=60)\n",
    "ax.axhline(random_baseline, ls='--', color='dimgrey', label='Random')\n",
    "ax.axvline(len(systems)-0.5, ls='-', color='grey')\n",
    "ax.set_ylim(0, 100)\n",
    "ax.legend(bbox_to_anchor=(1.02, 1), loc='upper left', borderaxespad=0.)\n",
    "None"
   ]
  },
  {
   "cell_type": "code",
   "execution_count": 28,
   "metadata": {
    "scrolled": true
   },
   "outputs": [
    {
     "data": {
      "text/plain": [
       "85.27"
      ]
     },
     "execution_count": 28,
     "metadata": {},
     "output_type": "execute_result"
    }
   ],
   "source": [
    "ex1_results[(ex1_results.manipulation == '- context') & (ex1_results.system.isin(systems))].f1_conll.max()"
   ]
  },
  {
   "cell_type": "code",
   "execution_count": 29,
   "metadata": {
    "scrolled": false
   },
   "outputs": [],
   "source": [
    "# ex1_results_pivot = ex1_results.pivot(index='system', columns='manipulation', values='f1_conll')\n",
    "# ex1_results_pivot['context_effect'] = ex1_results_pivot['- context'] - ex1_results_pivot['Original']\n",
    "# ex1_results_pivot"
   ]
  },
  {
   "cell_type": "markdown",
   "metadata": {},
   "source": [
    "## More details about head-match results"
   ]
  },
  {
   "cell_type": "code",
   "execution_count": 58,
   "metadata": {},
   "outputs": [
    {
     "name": "stdout",
     "output_type": "stream",
     "text": [
      "../output/baselines/head-match__output__conll-2012-transformed-resampled__sample_00__men_100__dev_test.m_gold_conll.log:Coreference: Recall: (36587 / 36587) 100%\tPrecision: (5125.43248899825 / 36587) 14%\tF1: 24.57%\r\n",
      "../output/baselines/head-match__output__conll-2012-transformed-resampled__sample_01__men_100__dev_test.m_gold_conll.log:Coreference: Recall: (38989 / 38989) 100%\tPrecision: (5277.58824823888 / 38989) 13.53%\tF1: 23.84%\r\n",
      "../output/baselines/head-match__output__conll-2012-transformed-resampled__sample_02__men_100__dev_test.m_gold_conll.log:Coreference: Recall: (38456 / 38456) 100%\tPrecision: (5249.24026109211 / 38456) 13.64%\tF1: 24.02%\r\n",
      "../output/baselines/head-match__output__conll-2012-transformed-resampled__sample_03__men_100__dev_test.m_gold_conll.log:Coreference: Recall: (37164 / 37164) 100%\tPrecision: (5351.14622775105 / 37164) 14.39%\tF1: 25.17%\r\n",
      "../output/baselines/head-match__output__conll-2012-transformed-resampled__sample_04__men_100__dev_test.m_gold_conll.log:Coreference: Recall: (38178 / 38178) 100%\tPrecision: (5124.96212380041 / 38178) 13.42%\tF1: 23.67%\r\n",
      "../output/baselines/head-match__output__conll-2012-transformed-resampled__sample_05__men_100__dev_test.m_gold_conll.log:Coreference: Recall: (38529 / 38529) 100%\tPrecision: (5360.56222651057 / 38529) 13.91%\tF1: 24.42%\r\n",
      "../output/baselines/head-match__output__conll-2012-transformed-resampled__sample_06__men_100__dev_test.m_gold_conll.log:Coreference: Recall: (40606 / 40606) 100%\tPrecision: (5463.58846016005 / 40606) 13.45%\tF1: 23.71%\r\n",
      "../output/baselines/head-match__output__conll-2012-transformed-resampled__sample_07__men_100__dev_test.m_gold_conll.log:Coreference: Recall: (39251 / 39251) 100%\tPrecision: (5263.41687444892 / 39251) 13.4%\tF1: 23.64%\r\n",
      "../output/baselines/head-match__output__conll-2012-transformed-resampled__sample_08__men_100__dev_test.m_gold_conll.log:Coreference: Recall: (39709 / 39709) 100%\tPrecision: (5348.20186210958 / 39709) 13.46%\tF1: 23.73%\r\n",
      "../output/baselines/head-match__output__conll-2012-transformed-resampled__sample_09__men_100__dev_test.m_gold_conll.log:Coreference: Recall: (39966 / 39966) 100%\tPrecision: (5447.46389011263 / 39966) 13.63%\tF1: 23.99%\r\n",
      "../output/baselines/head-match__output__conll-2012-transformed-resampled__sample_10__men_100__dev_test.m_gold_conll.log:Coreference: Recall: (36658 / 36658) 100%\tPrecision: (5209.24121687437 / 36658) 14.21%\tF1: 24.88%\r\n",
      "../output/baselines/head-match__output__conll-2012-transformed-resampled__sample_11__men_100__dev_test.m_gold_conll.log:Coreference: Recall: (39770 / 39770) 100%\tPrecision: (5108.94075231678 / 39770) 12.84%\tF1: 22.76%\r\n",
      "../output/baselines/head-match__output__conll-2012-transformed-resampled__sample_12__men_100__dev_test.m_gold_conll.log:Coreference: Recall: (39314 / 39314) 100%\tPrecision: (5342.68047233786 / 39314) 13.58%\tF1: 23.92%\r\n",
      "../output/baselines/head-match__output__conll-2012-transformed-resampled__sample_13__men_100__dev_test.m_gold_conll.log:Coreference: Recall: (40565 / 40565) 100%\tPrecision: (5178.66709117691 / 40565) 12.76%\tF1: 22.64%\r\n",
      "../output/baselines/head-match__output__conll-2012-transformed-resampled__sample_14__men_100__dev_test.m_gold_conll.log:Coreference: Recall: (39070 / 39070) 100%\tPrecision: (5324.61005857816 / 39070) 13.62%\tF1: 23.98%\r\n",
      "../output/baselines/head-match__output__conll-2012-transformed-resampled__sample_15__men_100__dev_test.m_gold_conll.log:Coreference: Recall: (38309 / 38309) 100%\tPrecision: (5339.49294570499 / 38309) 13.93%\tF1: 24.46%\r\n",
      "../output/baselines/head-match__output__conll-2012-transformed-resampled__sample_16__men_100__dev_test.m_gold_conll.log:Coreference: Recall: (37830 / 37830) 100%\tPrecision: (5362.50571516413 / 37830) 14.17%\tF1: 24.83%\r\n",
      "../output/baselines/head-match__output__conll-2012-transformed-resampled__sample_17__men_100__dev_test.m_gold_conll.log:Coreference: Recall: (37870 / 37870) 100%\tPrecision: (5226.48739286467 / 37870) 13.8%\tF1: 24.25%\r\n",
      "../output/baselines/head-match__output__conll-2012-transformed-resampled__sample_18__men_100__dev_test.m_gold_conll.log:Coreference: Recall: (39025 / 39025) 100%\tPrecision: (5342.33904340985 / 39025) 13.68%\tF1: 24.08%\r\n",
      "../output/baselines/head-match__output__conll-2012-transformed-resampled__sample_19__men_100__dev_test.m_gold_conll.log:Coreference: Recall: (39509 / 39509) 100%\tPrecision: (5316.00957942792 / 39509) 13.45%\tF1: 23.71%\r\n",
      "../output/baselines/head-match__output__conll-2012-transformed-resampled__sample_20__men_100__dev_test.m_gold_conll.log:Coreference: Recall: (37479 / 37479) 100%\tPrecision: (5229.78562322403 / 37479) 13.95%\tF1: 24.49%\r\n",
      "../output/baselines/head-match__output__conll-2012-transformed-resampled__sample_21__men_100__dev_test.m_gold_conll.log:Coreference: Recall: (39795 / 39795) 100%\tPrecision: (5607.85906951252 / 39795) 14.09%\tF1: 24.7%\r\n",
      "../output/baselines/head-match__output__conll-2012-transformed-resampled__sample_22__men_100__dev_test.m_gold_conll.log:Coreference: Recall: (38521 / 38521) 100%\tPrecision: (5213.12029352533 / 38521) 13.53%\tF1: 23.84%\r\n",
      "../output/baselines/head-match__output__conll-2012-transformed-resampled__sample_23__men_100__dev_test.m_gold_conll.log:Coreference: Recall: (37811 / 37811) 100%\tPrecision: (4993.66882392847 / 37811) 13.2%\tF1: 23.33%\r\n",
      "../output/baselines/head-match__output__conll-2012-transformed-resampled__sample_24__men_100__dev_test.m_gold_conll.log:Coreference: Recall: (39642 / 39642) 100%\tPrecision: (5418.95123830521 / 39642) 13.66%\tF1: 24.05%\r\n"
     ]
    }
   ],
   "source": [
    "!grep -E 'METRIC|Coreference' ../output/baselines/*head*__men_100*.log | grep -A 1 bcub | grep Precision"
   ]
  },
  {
   "cell_type": "code",
   "execution_count": 59,
   "metadata": {},
   "outputs": [],
   "source": [
    "precision_strs = '''14\n",
    "13.53\n",
    "13.64\n",
    "14.39\n",
    "13.42\n",
    "13.91\n",
    "13.45\n",
    "13.4\n",
    "13.46\n",
    "13.63\n",
    "14.21\n",
    "12.84\n",
    "13.58\n",
    "12.76\n",
    "13.62\n",
    "13.93\n",
    "14.17\n",
    "13.8\n",
    "13.68\n",
    "13.45\n",
    "13.95\n",
    "14.09\n",
    "13.53\n",
    "13.2\n",
    "13.66'''.split()"
   ]
  },
  {
   "cell_type": "code",
   "execution_count": 60,
   "metadata": {},
   "outputs": [],
   "source": [
    "precisions = [float(s) for s in precision_strs]"
   ]
  },
  {
   "cell_type": "code",
   "execution_count": 102,
   "metadata": {},
   "outputs": [
    {
     "data": {
      "text/plain": [
       "13.652000000000001"
      ]
     },
     "execution_count": 102,
     "metadata": {},
     "output_type": "execute_result"
    }
   ],
   "source": [
    "np.mean(precisions)"
   ]
  },
  {
   "cell_type": "markdown",
   "metadata": {},
   "source": [
    "## Some stats about manual annotations"
   ]
  },
  {
   "cell_type": "code",
   "execution_count": 26,
   "metadata": {},
   "outputs": [],
   "source": [
    "f1_conlls = (all_results[all_results.system.str.match('annotator')]\n",
    "             .groupby(['auto_or_gold', 'dataset', 'manipulation', 'system'])\n",
    "             .agg({'f1_conll': list})\n",
    "             .reset_index().pivot(index='system', columns='manipulation', values='f1_conll'))"
   ]
  },
  {
   "cell_type": "code",
   "execution_count": 27,
   "metadata": {},
   "outputs": [
    {
     "data": {
      "text/html": [
       "<div>\n",
       "<style scoped>\n",
       "    .dataframe tbody tr th:only-of-type {\n",
       "        vertical-align: middle;\n",
       "    }\n",
       "\n",
       "    .dataframe tbody tr th {\n",
       "        vertical-align: top;\n",
       "    }\n",
       "\n",
       "    .dataframe thead th {\n",
       "        text-align: right;\n",
       "    }\n",
       "</style>\n",
       "<table border=\"1\" class=\"dataframe\">\n",
       "  <thead>\n",
       "    <tr style=\"text-align: right;\">\n",
       "      <th>manipulation</th>\n",
       "      <th>orig</th>\n",
       "      <th>nonmen_100</th>\n",
       "      <th>men_100</th>\n",
       "    </tr>\n",
       "    <tr>\n",
       "      <th>system</th>\n",
       "      <th></th>\n",
       "      <th></th>\n",
       "      <th></th>\n",
       "    </tr>\n",
       "  </thead>\n",
       "  <tbody>\n",
       "    <tr>\n",
       "      <th>annotator1</th>\n",
       "      <td>[84.76, 85.58999999999997, 86.70666666666666, ...</td>\n",
       "      <td>[78.05333333333333, 78.05333333333333, 78.0533...</td>\n",
       "      <td>[49.47, 49.47, 49.47, 49.47, 49.47, 49.47, 49....</td>\n",
       "    </tr>\n",
       "    <tr>\n",
       "      <th>annotator2</th>\n",
       "      <td>[95.18333333333334, 96.80666666666669, 93.64, ...</td>\n",
       "      <td>[91.01333333333334, 90.57, 91.29333333333334, ...</td>\n",
       "      <td>[59.06666666666666, 61.95, 61.85333333333333, ...</td>\n",
       "    </tr>\n",
       "    <tr>\n",
       "      <th>annotator3</th>\n",
       "      <td>[88.66000000000003, 90.43, 89.15666666666667, ...</td>\n",
       "      <td>[89.47333333333331, 90.96, 95.83, 90.96, 85.94...</td>\n",
       "      <td>[35.91333333333333, 35.91333333333333, 35.9133...</td>\n",
       "    </tr>\n",
       "  </tbody>\n",
       "</table>\n",
       "</div>"
      ],
      "text/plain": [
       "manipulation                                               orig  \\\n",
       "system                                                            \n",
       "annotator1    [84.76, 85.58999999999997, 86.70666666666666, ...   \n",
       "annotator2    [95.18333333333334, 96.80666666666669, 93.64, ...   \n",
       "annotator3    [88.66000000000003, 90.43, 89.15666666666667, ...   \n",
       "\n",
       "manipulation                                         nonmen_100  \\\n",
       "system                                                            \n",
       "annotator1    [78.05333333333333, 78.05333333333333, 78.0533...   \n",
       "annotator2    [91.01333333333334, 90.57, 91.29333333333334, ...   \n",
       "annotator3    [89.47333333333331, 90.96, 95.83, 90.96, 85.94...   \n",
       "\n",
       "manipulation                                            men_100  \n",
       "system                                                           \n",
       "annotator1    [49.47, 49.47, 49.47, 49.47, 49.47, 49.47, 49....  \n",
       "annotator2    [59.06666666666666, 61.95, 61.85333333333333, ...  \n",
       "annotator3    [35.91333333333333, 35.91333333333333, 35.9133...  "
      ]
     },
     "execution_count": 27,
     "metadata": {},
     "output_type": "execute_result"
    }
   ],
   "source": [
    "f1_conlls[['orig', 'nonmen_100', 'men_100']]"
   ]
  },
  {
   "cell_type": "code",
   "execution_count": 28,
   "metadata": {},
   "outputs": [],
   "source": [
    "def ttest_diff_nonmen_orig(annotator):\n",
    "    vals1 = f1_conlls['orig'].loc[annotator]\n",
    "    vals2 = f1_conlls['nonmen_100'].loc[annotator]\n",
    "    print('Difference of means:', np.mean(vals1)-np.mean(vals2))\n",
    "    return stats.ttest_ind(vals1, vals2, equal_var=False)"
   ]
  },
  {
   "cell_type": "code",
   "execution_count": 29,
   "metadata": {},
   "outputs": [
    {
     "name": "stdout",
     "output_type": "stream",
     "text": [
      "Difference of means: 7.621866666666676\n"
     ]
    },
    {
     "data": {
      "text/plain": [
       "Ttest_indResult(statistic=12.844465515982828, pvalue=1.9582558862710963e-15)"
      ]
     },
     "execution_count": 29,
     "metadata": {},
     "output_type": "execute_result"
    }
   ],
   "source": [
    "ttest_diff_nonmen_orig('annotator1')"
   ]
  },
  {
   "cell_type": "code",
   "execution_count": 30,
   "metadata": {},
   "outputs": [
    {
     "name": "stdout",
     "output_type": "stream",
     "text": [
      "Difference of means: 4.256799999999998\n"
     ]
    },
    {
     "data": {
      "text/plain": [
       "Ttest_indResult(statistic=15.487407843555587, pvalue=3.421377093472383e-19)"
      ]
     },
     "execution_count": 30,
     "metadata": {},
     "output_type": "execute_result"
    }
   ],
   "source": [
    "ttest_diff_nonmen_orig('annotator2')"
   ]
  },
  {
   "cell_type": "code",
   "execution_count": 31,
   "metadata": {},
   "outputs": [
    {
     "name": "stdout",
     "output_type": "stream",
     "text": [
      "Difference of means: -2.2506666666666604\n"
     ]
    },
    {
     "data": {
      "text/plain": [
       "Ttest_indResult(statistic=-2.981430767451941, pvalue=0.006060806730944263)"
      ]
     },
     "execution_count": 31,
     "metadata": {},
     "output_type": "execute_result"
    }
   ],
   "source": [
    "ttest_diff_nonmen_orig('annotator3')"
   ]
  },
  {
   "cell_type": "markdown",
   "metadata": {},
   "source": [
    "## Looking closer into mention-masking"
   ]
  },
  {
   "cell_type": "code",
   "execution_count": 30,
   "metadata": {},
   "outputs": [],
   "source": [
    "selected_manipulations = ['orig', 'men_20', 'men_40', 'men_60', 'men_80', 'men_100']\n",
    "selected_name_map = OrderedDict(full_name_map_except_random.items())\n",
    "del selected_name_map['all'] # make the plot less clustered"
   ]
  },
  {
   "cell_type": "code",
   "execution_count": 31,
   "metadata": {},
   "outputs": [],
   "source": [
    "ex3_results = all_results_except_random.copy()\n",
    "is_selected_system = (ex3_results.system.isin(selected_name_map.values()) & (ex3_results.dataset == 'dev+test'))\n",
    "ex3_results = (ex3_results[ex3_results.manipulation.isin(selected_manipulations) & is_selected_system])\n",
    "ex3_results['type'] = ex3_results.system.map(lambda x: 'human' if 'annotator' in x else 'automatic')\n",
    "ex3_results['% masked'] = ex3_results.manipulation.str.replace('men_', '').replace('orig', '0').astype(int)"
   ]
  },
  {
   "cell_type": "code",
   "execution_count": 32,
   "metadata": {},
   "outputs": [
    {
     "data": {
      "image/png": "[encoded data removed]",
      "text/plain": [
       "<Figure size 432x288 with 1 Axes>"
      ]
     },
     "metadata": {
      "needs_background": "light"
     },
     "output_type": "display_data"
    }
   ],
   "source": [
    "ax = sns.lineplot(x='% masked', y='f1_conll', hue='system', style='type', \n",
    "                  hue_order = selected_name_map.values(),\n",
    "                  style_order = ['automatic', 'human'],\n",
    "                  markers=['v', 'o'], dashes=False,\n",
    "                  data=ex3_results)\n",
    "ax.axhline(random_baseline, ls='--', color='grey', label='Random')\n",
    "ax.set_ylim(0, 100)\n",
    "ax.legend(bbox_to_anchor=(1.02, 1), loc='upper left', borderaxespad=0.)\n",
    "None"
   ]
  },
  {
   "cell_type": "code",
   "execution_count": 33,
   "metadata": {},
   "outputs": [],
   "source": [
    "import scipy\n",
    "\n",
    "def compute_auc(x=None, y=None, hue=None, data=None):\n",
    "    auc_df = []\n",
    "    for hue_val, group in data.groupby(hue):\n",
    "        x_vals = group[x].values\n",
    "        f_vals = group[y].values\n",
    "        max_f_vals = [100]*len(x_vals)\n",
    "        auc = scipy.integrate.simps(f_vals, x_vals) / scipy.integrate.simps(max_f_vals, x_vals)\n",
    "        auc_df.append(OrderedDict([(hue, hue_val), (y+'_auc', auc)]))\n",
    "    return pd.DataFrame(auc_df)"
   ]
  },
  {
   "cell_type": "code",
   "execution_count": 34,
   "metadata": {
    "scrolled": true
   },
   "outputs": [],
   "source": [
    "# compute_auc(x='% masked', y='f1_conll', hue='system', data=ex3_results)"
   ]
  },
  {
   "cell_type": "markdown",
   "metadata": {},
   "source": [
    "## Looking closer into context-masking"
   ]
  },
  {
   "cell_type": "code",
   "execution_count": 35,
   "metadata": {},
   "outputs": [],
   "source": [
    "selected_manipulations = ['orig', 'nonmen_20', 'nonmen_40', 'nonmen_60', 'nonmen_80', 'nonmen_100']"
   ]
  },
  {
   "cell_type": "code",
   "execution_count": 36,
   "metadata": {},
   "outputs": [],
   "source": [
    "df = all_results_except_random\n",
    "ex3b_results = (df[df.manipulation.isin(selected_manipulations) & is_selected_system]).copy()\n",
    "ex3b_results['type'] = ex3b_results.system.map(lambda x: 'human' if 'annotator' in x else 'automatic')\n",
    "ex3b_results['% masked'] = ex3b_results.manipulation.str.replace('nonmen_', '').replace('orig', '0').astype(int)"
   ]
  },
  {
   "cell_type": "code",
   "execution_count": 37,
   "metadata": {},
   "outputs": [
    {
     "data": {
      "image/png": "[encoded data removed]",
      "text/plain": [
       "<Figure size 432x288 with 1 Axes>"
      ]
     },
     "metadata": {
      "needs_background": "light"
     },
     "output_type": "display_data"
    }
   ],
   "source": [
    "ax = sns.lineplot(x='% masked', y='f1_conll', hue='system', \n",
    "                  style='type', data=ex3b_results,\n",
    "                  markers=['v', 'o'], dashes=False\n",
    "                 )\n",
    "ax.set_ylim(0, 100)\n",
    "ax.axhline(random_baseline, ls='--', color='grey', label='Random')\n",
    "ax.legend(bbox_to_anchor=(1.02, 1), loc='upper left', borderaxespad=0.)\n",
    "None"
   ]
  },
  {
   "cell_type": "markdown",
   "metadata": {},
   "source": [
    "# Experiment 3: Summarization"
   ]
  },
  {
   "cell_type": "code",
   "execution_count": 40,
   "metadata": {},
   "outputs": [],
   "source": [
    "summaries = pd.read_json('../output/summaries_formatted.json', orient='records', lines=True)"
   ]
  },
  {
   "cell_type": "code",
   "execution_count": 41,
   "metadata": {},
   "outputs": [],
   "source": [
    "summaries = summaries.rename(columns={'pct_change': '% masked'})"
   ]
  },
  {
   "cell_type": "code",
   "execution_count": 42,
   "metadata": {},
   "outputs": [
    {
     "data": {
      "text/plain": [
       "210"
      ]
     },
     "execution_count": 42,
     "metadata": {},
     "output_type": "execute_result"
    }
   ],
   "source": [
    "len(summaries)"
   ]
  },
  {
   "cell_type": "code",
   "execution_count": 43,
   "metadata": {},
   "outputs": [],
   "source": [
    "def average_sent_length(sents):\n",
    "    sents_tokenized = [word_tokenize(s) for s in sents]\n",
    "    sents_words_only = [[w for w in sent if w not in string.punctuation] \n",
    "                        for sent in sents_tokenized]\n",
    "    lens = [len(s) for s in sents_words_only]\n",
    "    return np.mean(lens) if lens else 0\n",
    "\n",
    "summaries['Average length'] = summaries.sents.apply(average_sent_length)\n",
    "summaries['Number of sentences'] = summaries.sents.apply(len)"
   ]
  },
  {
   "cell_type": "code",
   "execution_count": 44,
   "metadata": {},
   "outputs": [
    {
     "data": {
      "image/png": "[encoded data removed]",
      "text/plain": [
       "<Figure size 432x288 with 2 Axes>"
      ]
     },
     "metadata": {
      "needs_background": "light"
     },
     "output_type": "display_data"
    }
   ],
   "source": [
    "fig, ax = plt.subplots()\n",
    "g = sns.lineplot(x='% masked', y='Average length', data=summaries, ax=ax)\n",
    "ax2 = ax.twinx()\n",
    "g2 = sns.lineplot(x='% masked', y='Number of sentences', data=summaries, ax=ax2, color='r')\n",
    "plt.legend(g.get_lines() + g2.get_lines(), ['Average length', 'Number of sentences'], loc='lower left')\n",
    "None"
   ]
  },
  {
   "cell_type": "code",
   "execution_count": 45,
   "metadata": {},
   "outputs": [
    {
     "data": {
      "text/plain": [
       "0.2698412698412698"
      ]
     },
     "execution_count": 45,
     "metadata": {},
     "output_type": "execute_result"
    }
   ],
   "source": [
    "gt80 = (summaries['% masked'] >= 80)\n",
    "sum(gt80 & (summaries['Number of sentences'] == 3)) / sum(gt80)"
   ]
  },
  {
   "cell_type": "markdown",
   "metadata": {},
   "source": [
    "# Experiment: Name processing in systems"
   ]
  },
  {
   "cell_type": "code",
   "execution_count": 41,
   "metadata": {},
   "outputs": [],
   "source": [
    "transformation_name_map2 = OrderedDict([\n",
    "  ('orig', 'Original'), ('no-external', '- External'), ('no-internal', '- Internal'), \n",
    "  ('no-match', '- Match'), ('no-name', 'Masked')\n",
    "])"
   ]
  },
  {
   "cell_type": "code",
   "execution_count": 42,
   "metadata": {},
   "outputs": [],
   "source": [
    "df = all_results_except_random\n",
    "ex4_results = df[df.manipulation.isin(transformation_name_map2) &\n",
    "                          (df.auto_or_gold == 'gold') & \n",
    "                          (df.dataset == 'dev+test')].copy()\n",
    "ex4_results['manipulation'] = ex4_results.manipulation.map(transformation_name_map2.__getitem__)"
   ]
  },
  {
   "cell_type": "code",
   "execution_count": 43,
   "metadata": {
    "scrolled": true
   },
   "outputs": [
    {
     "data": {
      "image/png": "[encoded data removed]",
      "text/plain": [
       "<Figure size 432x288 with 1 Axes>"
      ]
     },
     "metadata": {
      "needs_background": "light"
     },
     "output_type": "display_data"
    }
   ],
   "source": [
    "fig, ax = plt.subplots(figsize=(6, 4))\n",
    "sns.barplot(x='system', y='f1_conll', hue='manipulation', data=ex4_results,\n",
    "            hue_order=transformation_name_map2.values(), ax=ax)\n",
    "ax.set_xticklabels(ax.get_xticklabels(), rotation=60)\n",
    "ax.axhline(random_baseline, ls='--', color='grey')\n",
    "ax.set_ylim(0, 100)\n",
    "ax.legend(bbox_to_anchor=(1.02, 1), loc='upper left', borderaxespad=0.)\n",
    "None"
   ]
  },
  {
   "cell_type": "code",
   "execution_count": 49,
   "metadata": {},
   "outputs": [
    {
     "data": {
      "text/html": [
       "<div>\n",
       "<style scoped>\n",
       "    .dataframe tbody tr th:only-of-type {\n",
       "        vertical-align: middle;\n",
       "    }\n",
       "\n",
       "    .dataframe tbody tr th {\n",
       "        vertical-align: top;\n",
       "    }\n",
       "\n",
       "    .dataframe thead th {\n",
       "        text-align: right;\n",
       "    }\n",
       "</style>\n",
       "<table border=\"1\" class=\"dataframe\">\n",
       "  <thead>\n",
       "    <tr style=\"text-align: right;\">\n",
       "      <th>manipulation</th>\n",
       "      <th>- External</th>\n",
       "      <th>- Internal</th>\n",
       "      <th>- Match</th>\n",
       "      <th>Masked</th>\n",
       "      <th>Original</th>\n",
       "      <th>diff(orig-masked)</th>\n",
       "      <th>diff(orig-external)</th>\n",
       "      <th>diff(orig-interanl)</th>\n",
       "    </tr>\n",
       "    <tr>\n",
       "      <th>system</th>\n",
       "      <th></th>\n",
       "      <th></th>\n",
       "      <th></th>\n",
       "      <th></th>\n",
       "      <th></th>\n",
       "      <th></th>\n",
       "      <th></th>\n",
       "      <th></th>\n",
       "    </tr>\n",
       "  </thead>\n",
       "  <tbody>\n",
       "    <tr>\n",
       "      <th>Cort-EM</th>\n",
       "      <td>80.130133</td>\n",
       "      <td>80.007467</td>\n",
       "      <td>71.830400</td>\n",
       "      <td>72.312933</td>\n",
       "      <td>82.033067</td>\n",
       "      <td>9.720133</td>\n",
       "      <td>1.902933</td>\n",
       "      <td>2.025600</td>\n",
       "    </tr>\n",
       "    <tr>\n",
       "      <th>Cort-MP</th>\n",
       "      <td>77.786533</td>\n",
       "      <td>77.816533</td>\n",
       "      <td>67.621200</td>\n",
       "      <td>67.682000</td>\n",
       "      <td>79.917200</td>\n",
       "      <td>12.235200</td>\n",
       "      <td>2.130667</td>\n",
       "      <td>2.100667</td>\n",
       "    </tr>\n",
       "    <tr>\n",
       "      <th>Cort-MR</th>\n",
       "      <td>79.967600</td>\n",
       "      <td>79.962667</td>\n",
       "      <td>71.716267</td>\n",
       "      <td>72.282800</td>\n",
       "      <td>82.096667</td>\n",
       "      <td>9.813867</td>\n",
       "      <td>2.129067</td>\n",
       "      <td>2.134000</td>\n",
       "    </tr>\n",
       "    <tr>\n",
       "      <th>Deep-Coref</th>\n",
       "      <td>67.630000</td>\n",
       "      <td>67.870000</td>\n",
       "      <td>61.160000</td>\n",
       "      <td>62.100000</td>\n",
       "      <td>68.680000</td>\n",
       "      <td>6.580000</td>\n",
       "      <td>1.050000</td>\n",
       "      <td>0.810000</td>\n",
       "    </tr>\n",
       "    <tr>\n",
       "      <th>E2E</th>\n",
       "      <td>82.344400</td>\n",
       "      <td>82.194000</td>\n",
       "      <td>76.669200</td>\n",
       "      <td>76.692000</td>\n",
       "      <td>85.317200</td>\n",
       "      <td>8.625200</td>\n",
       "      <td>2.972800</td>\n",
       "      <td>3.123200</td>\n",
       "    </tr>\n",
       "    <tr>\n",
       "      <th>Head-Match</th>\n",
       "      <td>61.867333</td>\n",
       "      <td>61.872933</td>\n",
       "      <td>48.777467</td>\n",
       "      <td>58.219333</td>\n",
       "      <td>60.921200</td>\n",
       "      <td>2.701867</td>\n",
       "      <td>-0.946133</td>\n",
       "      <td>-0.951733</td>\n",
       "    </tr>\n",
       "    <tr>\n",
       "      <th>Sieve</th>\n",
       "      <td>70.534800</td>\n",
       "      <td>70.528400</td>\n",
       "      <td>53.256400</td>\n",
       "      <td>62.865600</td>\n",
       "      <td>72.238800</td>\n",
       "      <td>9.373200</td>\n",
       "      <td>1.704000</td>\n",
       "      <td>1.710400</td>\n",
       "    </tr>\n",
       "  </tbody>\n",
       "</table>\n",
       "</div>"
      ],
      "text/plain": [
       "manipulation  - External  - Internal    - Match     Masked   Original  \\\n",
       "system                                                                  \n",
       "Cort-EM        80.130133   80.007467  71.830400  72.312933  82.033067   \n",
       "Cort-MP        77.786533   77.816533  67.621200  67.682000  79.917200   \n",
       "Cort-MR        79.967600   79.962667  71.716267  72.282800  82.096667   \n",
       "Deep-Coref     67.630000   67.870000  61.160000  62.100000  68.680000   \n",
       "E2E            82.344400   82.194000  76.669200  76.692000  85.317200   \n",
       "Head-Match     61.867333   61.872933  48.777467  58.219333  60.921200   \n",
       "Sieve          70.534800   70.528400  53.256400  62.865600  72.238800   \n",
       "\n",
       "manipulation  diff(orig-masked)  diff(orig-external)  diff(orig-interanl)  \n",
       "system                                                                     \n",
       "Cort-EM                9.720133             1.902933             2.025600  \n",
       "Cort-MP               12.235200             2.130667             2.100667  \n",
       "Cort-MR                9.813867             2.129067             2.134000  \n",
       "Deep-Coref             6.580000             1.050000             0.810000  \n",
       "E2E                    8.625200             2.972800             3.123200  \n",
       "Head-Match             2.701867            -0.946133            -0.951733  \n",
       "Sieve                  9.373200             1.704000             1.710400  "
      ]
     },
     "execution_count": 49,
     "metadata": {},
     "output_type": "execute_result"
    }
   ],
   "source": [
    "fitlered_results = ex4_results.groupby(['system', 'manipulation']).agg(['mean', 'std'])['f1_conll'].reset_index()\n",
    "diff_results = fitlered_results.pivot(index='system', columns='manipulation', values='mean')\n",
    "diff_results['diff(orig-masked)'] = diff_results['Original'] - diff_results['Masked']\n",
    "diff_results['diff(orig-external)'] = diff_results['Original'] - diff_results['- External']\n",
    "diff_results['diff(orig-interanl)'] = diff_results['Original'] - diff_results['- Internal']\n",
    "diff_results"
   ]
  },
  {
   "cell_type": "markdown",
   "metadata": {},
   "source": [
    "## Cross-manipulation evaluation\n",
    "\n",
    "- cross-eval1: trained on `orig`, tested on `no-internal`\n",
    "- cross-eval2: trained on `no-internal`, tested on `orig`"
   ]
  },
  {
   "cell_type": "code",
   "execution_count": 73,
   "metadata": {},
   "outputs": [
    {
     "name": "stdout",
     "output_type": "stream",
     "text": [
      "==> ../output/e2e/eval-cross/cross-eval1.log <==\r\n",
      "\r\n",
      "Average F1 (conll): 76.54%\r\n",
      "Average F1 (py): 76.55%\r\n",
      "Average precision (py): 78.34%\r\n",
      "Average recall (py): 76.31%\r\n",
      "\r\n",
      "==> ../output/e2e/eval-cross/cross-eval2.log <==\r\n",
      "\r\n",
      "Average F1 (conll): 80.47%\r\n",
      "Average F1 (py): 80.48%\r\n",
      "Average precision (py): 82.35%\r\n",
      "Average recall (py): 79.15%\r\n"
     ]
    }
   ],
   "source": [
    "!tail -n 5 ../output/e2e/eval-cross/*"
   ]
  },
  {
   "cell_type": "code",
   "execution_count": 75,
   "metadata": {},
   "outputs": [
    {
     "data": {
      "text/plain": [
       "-4.847200000000001"
      ]
     },
     "execution_count": 75,
     "metadata": {},
     "output_type": "execute_result"
    }
   ],
   "source": [
    "80.47 - 85.317200"
   ]
  },
  {
   "cell_type": "code",
   "execution_count": 76,
   "metadata": {},
   "outputs": [
    {
     "data": {
      "text/plain": [
       "-5.653999999999996"
      ]
     },
     "execution_count": 76,
     "metadata": {},
     "output_type": "execute_result"
    }
   ],
   "source": [
    "76.54 - 82.194000"
   ]
  },
  {
   "cell_type": "markdown",
   "metadata": {},
   "source": [
    "# Experiment: Name processing in humans"
   ]
  },
  {
   "cell_type": "code",
   "execution_count": 50,
   "metadata": {},
   "outputs": [],
   "source": [
    "transformation_name_map3 = OrderedDict([\n",
    "  ('orig', 'Original'), ('no-external', 'Mapped'), ('no-internal', 'Mapped'), \n",
    "  ('no-name', 'Masked')\n",
    "])"
   ]
  },
  {
   "cell_type": "code",
   "execution_count": 51,
   "metadata": {},
   "outputs": [],
   "source": [
    "df = all_results_except_random\n",
    "ex5_results = df[df.manipulation.isin(transformation_name_map2) &\n",
    "                          df.system.isin(humans) & (df.dataset == 'dev+test')].copy()\n",
    "ex5_results['manipulation'] = ex5_results.manipulation.map(transformation_name_map3.__getitem__)"
   ]
  },
  {
   "cell_type": "code",
   "execution_count": 52,
   "metadata": {
    "scrolled": true
   },
   "outputs": [
    {
     "data": {
      "image/png": "[encoded data removed]",
      "text/plain": [
       "<Figure size 288x288 with 1 Axes>"
      ]
     },
     "metadata": {
      "needs_background": "light"
     },
     "output_type": "display_data"
    }
   ],
   "source": [
    "fig, ax = plt.subplots(figsize=(4, 4))\n",
    "sns.barplot(x='system', y='f1_conll', hue='manipulation', data=ex5_results,\n",
    "            hue_order=['Original', 'Mapped', 'Masked'], ax=ax)\n",
    "ax.set_xticklabels(ax.get_xticklabels(), rotation=60)\n",
    "ax.axhline(random_baseline, ls='--', color='grey')\n",
    "ax.set_ylim(0, 100)\n",
    "ax.legend(bbox_to_anchor=(1.02, 1), loc='upper left', borderaxespad=0.)\n",
    "None"
   ]
  },
  {
   "cell_type": "markdown",
   "metadata": {},
   "source": [
    "## Compute the contribution of the resolution of names"
   ]
  },
  {
   "cell_type": "code",
   "execution_count": 53,
   "metadata": {},
   "outputs": [
    {
     "data": {
      "text/html": [
       "<div>\n",
       "<style scoped>\n",
       "    .dataframe tbody tr th:only-of-type {\n",
       "        vertical-align: middle;\n",
       "    }\n",
       "\n",
       "    .dataframe tbody tr th {\n",
       "        vertical-align: top;\n",
       "    }\n",
       "\n",
       "    .dataframe thead th {\n",
       "        text-align: right;\n",
       "    }\n",
       "</style>\n",
       "<table border=\"1\" class=\"dataframe\">\n",
       "  <thead>\n",
       "    <tr style=\"text-align: right;\">\n",
       "      <th>manipulation</th>\n",
       "      <th>Mapped</th>\n",
       "      <th>Masked</th>\n",
       "      <th>Original</th>\n",
       "      <th>diff(orig-masked)</th>\n",
       "      <th>diff(orig-mapped)</th>\n",
       "    </tr>\n",
       "    <tr>\n",
       "      <th>system</th>\n",
       "      <th></th>\n",
       "      <th></th>\n",
       "      <th></th>\n",
       "      <th></th>\n",
       "      <th></th>\n",
       "    </tr>\n",
       "  </thead>\n",
       "  <tbody>\n",
       "    <tr>\n",
       "      <th>all-annotators</th>\n",
       "      <td>86.496400</td>\n",
       "      <td>82.654400</td>\n",
       "      <td>91.887067</td>\n",
       "      <td>9.232667</td>\n",
       "      <td>5.390667</td>\n",
       "    </tr>\n",
       "    <tr>\n",
       "      <th>annotator1</th>\n",
       "      <td>82.642533</td>\n",
       "      <td>65.305867</td>\n",
       "      <td>86.073733</td>\n",
       "      <td>20.767867</td>\n",
       "      <td>3.431200</td>\n",
       "    </tr>\n",
       "    <tr>\n",
       "      <th>annotator2</th>\n",
       "      <td>92.566733</td>\n",
       "      <td>88.005200</td>\n",
       "      <td>95.500133</td>\n",
       "      <td>7.494933</td>\n",
       "      <td>2.933400</td>\n",
       "    </tr>\n",
       "    <tr>\n",
       "      <th>annotator3</th>\n",
       "      <td>85.678733</td>\n",
       "      <td>79.405600</td>\n",
       "      <td>89.963600</td>\n",
       "      <td>10.558000</td>\n",
       "      <td>4.284867</td>\n",
       "    </tr>\n",
       "  </tbody>\n",
       "</table>\n",
       "</div>"
      ],
      "text/plain": [
       "manipulation       Mapped     Masked   Original  diff(orig-masked)  \\\n",
       "system                                                               \n",
       "all-annotators  86.496400  82.654400  91.887067           9.232667   \n",
       "annotator1      82.642533  65.305867  86.073733          20.767867   \n",
       "annotator2      92.566733  88.005200  95.500133           7.494933   \n",
       "annotator3      85.678733  79.405600  89.963600          10.558000   \n",
       "\n",
       "manipulation    diff(orig-mapped)  \n",
       "system                             \n",
       "all-annotators           5.390667  \n",
       "annotator1               3.431200  \n",
       "annotator2               2.933400  \n",
       "annotator3               4.284867  "
      ]
     },
     "execution_count": 53,
     "metadata": {},
     "output_type": "execute_result"
    }
   ],
   "source": [
    "fitlered_results = ex5_results.groupby(['system', 'manipulation']).agg(['mean', 'std'])['f1_conll'].reset_index()\n",
    "diff_results = fitlered_results.pivot(index='system', columns='manipulation', values='mean')\n",
    "diff_results['diff(orig-masked)'] = diff_results['Original'] - diff_results['Masked']\n",
    "diff_results['diff(orig-mapped)'] = diff_results['Original'] - diff_results['Mapped']\n",
    "diff_results"
   ]
  },
  {
   "cell_type": "markdown",
   "metadata": {},
   "source": [
    "## Check the statistical significance"
   ]
  },
  {
   "cell_type": "code",
   "execution_count": 54,
   "metadata": {},
   "outputs": [],
   "source": [
    "ex5_results_pivot = (ex5_results.groupby(['system', 'manipulation']).agg(list).reset_index()\n",
    "                     .pivot(index='system', columns='manipulation', values='f1_conll'))"
   ]
  },
  {
   "cell_type": "code",
   "execution_count": 55,
   "metadata": {},
   "outputs": [],
   "source": [
    "def print_ttest(ann):\n",
    "    print(stats.ttest_ind(ex5_results_pivot['Original'].loc[ann], \n",
    "                          ex5_results_pivot['Mapped'].loc[ann], equal_var=False))"
   ]
  },
  {
   "cell_type": "code",
   "execution_count": 56,
   "metadata": {},
   "outputs": [
    {
     "name": "stdout",
     "output_type": "stream",
     "text": [
      "Ttest_indResult(statistic=7.254640801971762, pvalue=3.7737369881610276e-10)\n"
     ]
    }
   ],
   "source": [
    "print_ttest('annotator1')"
   ]
  },
  {
   "cell_type": "code",
   "execution_count": 57,
   "metadata": {},
   "outputs": [
    {
     "name": "stdout",
     "output_type": "stream",
     "text": [
      "Ttest_indResult(statistic=11.071629649352715, pvalue=3.6990278962045784e-14)\n"
     ]
    }
   ],
   "source": [
    "print_ttest('annotator2')"
   ]
  },
  {
   "cell_type": "code",
   "execution_count": 58,
   "metadata": {},
   "outputs": [
    {
     "name": "stdout",
     "output_type": "stream",
     "text": [
      "Ttest_indResult(statistic=9.86031938830534, pvalue=1.6733126175321036e-14)\n"
     ]
    }
   ],
   "source": [
    "print_ttest('annotator3')"
   ]
  },
  {
   "cell_type": "markdown",
   "metadata": {},
   "source": [
    "## Name and characteristic inferring performance"
   ]
  },
  {
   "cell_type": "code",
   "execution_count": 70,
   "metadata": {},
   "outputs": [],
   "source": [
    "guessing_scores = (pd.read_csv('../data/annotations/entity-guessing-scored.csv')\n",
    "                   .rename(columns={'correct?': 'name-correct', \n",
    "                                    'correct?.1': 'property-correct'}))"
   ]
  },
  {
   "cell_type": "code",
   "execution_count": 71,
   "metadata": {
    "scrolled": false
   },
   "outputs": [
    {
     "data": {
      "text/html": [
       "<div>\n",
       "<style scoped>\n",
       "    .dataframe tbody tr th:only-of-type {\n",
       "        vertical-align: middle;\n",
       "    }\n",
       "\n",
       "    .dataframe tbody tr th {\n",
       "        vertical-align: top;\n",
       "    }\n",
       "\n",
       "    .dataframe thead th {\n",
       "        text-align: right;\n",
       "    }\n",
       "</style>\n",
       "<table border=\"1\" class=\"dataframe\">\n",
       "  <thead>\n",
       "    <tr style=\"text-align: right;\">\n",
       "      <th></th>\n",
       "      <th>Unnamed: 0</th>\n",
       "      <th>url0</th>\n",
       "      <th>url1</th>\n",
       "      <th>url2</th>\n",
       "      <th>url3</th>\n",
       "      <th>click0</th>\n",
       "      <th>click1</th>\n",
       "      <th>click2</th>\n",
       "      <th>click3</th>\n",
       "      <th>orig0</th>\n",
       "      <th>click_orig0</th>\n",
       "      <th>name</th>\n",
       "      <th>Token</th>\n",
       "      <th>Guessed name</th>\n",
       "      <th>name-correct</th>\n",
       "      <th>Guessed characteristics</th>\n",
       "      <th>property-correct</th>\n",
       "    </tr>\n",
       "  </thead>\n",
       "  <tbody>\n",
       "    <tr>\n",
       "      <th>0</th>\n",
       "      <td>117.0</td>\n",
       "      <td>file:///Users/cumeo/Projects/spinoza/ulm-4/EvE...</td>\n",
       "      <td>NaN</td>\n",
       "      <td>NaN</td>\n",
       "      <td>NaN</td>\n",
       "      <td>file:///Users/cumeo/Projects/spinoza/ulm-4/EvE...</td>\n",
       "      <td>NaN</td>\n",
       "      <td>NaN</td>\n",
       "      <td>NaN</td>\n",
       "      <td>file:///Users/cumeo/Projects/spinoza/ulm-4/EvE...</td>\n",
       "      <td>file:///Users/cumeo/Projects/spinoza/ulm-4/EvE...</td>\n",
       "      <td>tv_00_cctv_0000___part_001.m_g</td>\n",
       "      <td>_PHY_ _THING_</td>\n",
       "      <td>Hong Kong</td>\n",
       "      <td>y</td>\n",
       "      <td>NaN</td>\n",
       "      <td>NaN</td>\n",
       "    </tr>\n",
       "    <tr>\n",
       "      <th>1</th>\n",
       "      <td>252.0</td>\n",
       "      <td>file:///Users/cumeo/Projects/spinoza/ulm-4/EvE...</td>\n",
       "      <td>file:///Users/cumeo/Projects/spinoza/ulm-4/EvE...</td>\n",
       "      <td>file:///Users/cumeo/Projects/spinoza/ulm-4/EvE...</td>\n",
       "      <td>file:///Users/cumeo/Projects/spinoza/ulm-4/EvE...</td>\n",
       "      <td>file:///Users/cumeo/Projects/spinoza/ulm-4/EvE...</td>\n",
       "      <td>file:///Users/cumeo/Projects/spinoza/ulm-4/EvE...</td>\n",
       "      <td>file:///Users/cumeo/Projects/spinoza/ulm-4/EvE...</td>\n",
       "      <td>file:///Users/cumeo/Projects/spinoza/ulm-4/EvE...</td>\n",
       "      <td>file:///Users/cumeo/Projects/spinoza/ulm-4/EvE...</td>\n",
       "      <td>file:///Users/cumeo/Projects/spinoza/ulm-4/EvE...</td>\n",
       "      <td>tv_00_cctv_0000___part_001.m_g</td>\n",
       "      <td>_PHY_ _THING_</td>\n",
       "      <td>Taiwan</td>\n",
       "      <td>n</td>\n",
       "      <td>NaN</td>\n",
       "      <td>NaN</td>\n",
       "    </tr>\n",
       "    <tr>\n",
       "      <th>2</th>\n",
       "      <td>22.0</td>\n",
       "      <td>file:///Users/cumeo/Projects/spinoza/ulm-4/EvE...</td>\n",
       "      <td>NaN</td>\n",
       "      <td>NaN</td>\n",
       "      <td>NaN</td>\n",
       "      <td>file:///Users/cumeo/Projects/spinoza/ulm-4/EvE...</td>\n",
       "      <td>NaN</td>\n",
       "      <td>NaN</td>\n",
       "      <td>NaN</td>\n",
       "      <td>file:///Users/cumeo/Projects/spinoza/ulm-4/EvE...</td>\n",
       "      <td>file:///Users/cumeo/Projects/spinoza/ulm-4/EvE...</td>\n",
       "      <td>tv_00_cctv_0000___part_009.m_g</td>\n",
       "      <td>_HO_ _SEEP_</td>\n",
       "      <td>Hong Kong</td>\n",
       "      <td>y</td>\n",
       "      <td>NaN</td>\n",
       "      <td>NaN</td>\n",
       "    </tr>\n",
       "  </tbody>\n",
       "</table>\n",
       "</div>"
      ],
      "text/plain": [
       "   Unnamed: 0                                               url0  \\\n",
       "0       117.0  file:///Users/cumeo/Projects/spinoza/ulm-4/EvE...   \n",
       "1       252.0  file:///Users/cumeo/Projects/spinoza/ulm-4/EvE...   \n",
       "2        22.0  file:///Users/cumeo/Projects/spinoza/ulm-4/EvE...   \n",
       "\n",
       "                                                url1  \\\n",
       "0                                                NaN   \n",
       "1  file:///Users/cumeo/Projects/spinoza/ulm-4/EvE...   \n",
       "2                                                NaN   \n",
       "\n",
       "                                                url2  \\\n",
       "0                                                NaN   \n",
       "1  file:///Users/cumeo/Projects/spinoza/ulm-4/EvE...   \n",
       "2                                                NaN   \n",
       "\n",
       "                                                url3  \\\n",
       "0                                                NaN   \n",
       "1  file:///Users/cumeo/Projects/spinoza/ulm-4/EvE...   \n",
       "2                                                NaN   \n",
       "\n",
       "                                              click0  \\\n",
       "0  file:///Users/cumeo/Projects/spinoza/ulm-4/EvE...   \n",
       "1  file:///Users/cumeo/Projects/spinoza/ulm-4/EvE...   \n",
       "2  file:///Users/cumeo/Projects/spinoza/ulm-4/EvE...   \n",
       "\n",
       "                                              click1  \\\n",
       "0                                                NaN   \n",
       "1  file:///Users/cumeo/Projects/spinoza/ulm-4/EvE...   \n",
       "2                                                NaN   \n",
       "\n",
       "                                              click2  \\\n",
       "0                                                NaN   \n",
       "1  file:///Users/cumeo/Projects/spinoza/ulm-4/EvE...   \n",
       "2                                                NaN   \n",
       "\n",
       "                                              click3  \\\n",
       "0                                                NaN   \n",
       "1  file:///Users/cumeo/Projects/spinoza/ulm-4/EvE...   \n",
       "2                                                NaN   \n",
       "\n",
       "                                               orig0  \\\n",
       "0  file:///Users/cumeo/Projects/spinoza/ulm-4/EvE...   \n",
       "1  file:///Users/cumeo/Projects/spinoza/ulm-4/EvE...   \n",
       "2  file:///Users/cumeo/Projects/spinoza/ulm-4/EvE...   \n",
       "\n",
       "                                         click_orig0  \\\n",
       "0  file:///Users/cumeo/Projects/spinoza/ulm-4/EvE...   \n",
       "1  file:///Users/cumeo/Projects/spinoza/ulm-4/EvE...   \n",
       "2  file:///Users/cumeo/Projects/spinoza/ulm-4/EvE...   \n",
       "\n",
       "                             name          Token Guessed name name-correct  \\\n",
       "0  tv_00_cctv_0000___part_001.m_g  _PHY_ _THING_    Hong Kong            y   \n",
       "1  tv_00_cctv_0000___part_001.m_g  _PHY_ _THING_       Taiwan            n   \n",
       "2  tv_00_cctv_0000___part_009.m_g    _HO_ _SEEP_    Hong Kong            y   \n",
       "\n",
       "  Guessed characteristics property-correct  \n",
       "0                     NaN              NaN  \n",
       "1                     NaN              NaN  \n",
       "2                     NaN              NaN  "
      ]
     },
     "execution_count": 71,
     "metadata": {},
     "output_type": "execute_result"
    }
   ],
   "source": [
    "guessing_scores.head(3)"
   ]
  },
  {
   "cell_type": "code",
   "execution_count": 73,
   "metadata": {},
   "outputs": [],
   "source": [
    "num_questions = guessing_scores.Token.notna().sum()"
   ]
  },
  {
   "cell_type": "code",
   "execution_count": 80,
   "metadata": {},
   "outputs": [
    {
     "data": {
      "text/plain": [
       "294"
      ]
     },
     "execution_count": 80,
     "metadata": {},
     "output_type": "execute_result"
    }
   ],
   "source": [
    "num_questions"
   ]
  },
  {
   "cell_type": "code",
   "execution_count": 76,
   "metadata": {},
   "outputs": [],
   "source": [
    "guesses = guessing_scores[guessing_scores['Guessed name'].notna() | \n",
    "                          guessing_scores['Guessed characteristics'].notna()]"
   ]
  },
  {
   "cell_type": "code",
   "execution_count": 77,
   "metadata": {},
   "outputs": [
    {
     "data": {
      "text/plain": [
       "0.9489795918367347"
      ]
     },
     "execution_count": 77,
     "metadata": {},
     "output_type": "execute_result"
    }
   ],
   "source": [
    "len(guesses) / num_questions"
   ]
  },
  {
   "cell_type": "code",
   "execution_count": 79,
   "metadata": {},
   "outputs": [
    {
     "data": {
      "text/plain": [
       "0.8566308243727598"
      ]
     },
     "execution_count": 79,
     "metadata": {},
     "output_type": "execute_result"
    }
   ],
   "source": [
    "((guesses['name-correct'] == 'y') | (guesses['property-correct'] == 'y')).sum() / len(guesses)"
   ]
  },
  {
   "cell_type": "code",
   "execution_count": 83,
   "metadata": {},
   "outputs": [
    {
     "data": {
      "text/plain": [
       "0.25806451612903225"
      ]
     },
     "execution_count": 83,
     "metadata": {},
     "output_type": "execute_result"
    }
   ],
   "source": [
    "guessing_scores['Guessed name'].notna().sum() / len(guesses)"
   ]
  },
  {
   "cell_type": "code",
   "execution_count": null,
   "metadata": {},
   "outputs": [],
   "source": []
  }
 ],
 "metadata": {
  "kernelspec": {
   "display_name": "conda-env-EvEn-py",
   "language": "python",
   "name": "conda-env-even-py"
  },
  "language_info": {
   "codemirror_mode": {
    "name": "ipython",
    "version": 3
   },
   "file_extension": ".py",
   "mimetype": "text/x-python",
   "name": "python",
   "nbconvert_exporter": "python",
   "pygments_lexer": "ipython3",
   "version": "3.6.9"
  }
 },
 "nbformat": 4,
 "nbformat_minor": 1
}
