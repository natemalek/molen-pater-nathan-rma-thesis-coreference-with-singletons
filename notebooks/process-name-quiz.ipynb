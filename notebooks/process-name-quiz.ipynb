{
 "cells": [
  {
   "cell_type": "code",
   "execution_count": 1,
   "metadata": {},
   "outputs": [],
   "source": [
    "import sys\n",
    "if '..' not in sys.path:\n",
    "    sys.path.append('..')"
   ]
  },
  {
   "cell_type": "code",
   "execution_count": 2,
   "metadata": {},
   "outputs": [],
   "source": [
    "import pandas as pd\n",
    "from mturk.gformtools import visualize, extract_errors, unpack_json, chains_str_from_events\n",
    "%matplotlib inline\n",
    "import seaborn as sns\n",
    "from glob import glob\n",
    "import os\n",
    "from tqdm import tqdm\n",
    "from mturk.extract_results import extract_results_from_log_file\n",
    "from mturk.score_submissions import evaluate_submissions, adhoc_fix\n",
    "import re\n",
    "from cort.core.corpora import Corpus\n",
    "import urllib\n",
    "from IPython.core.display import display, HTML"
   ]
  },
  {
   "cell_type": "code",
   "execution_count": 3,
   "metadata": {},
   "outputs": [],
   "source": [
    "%%sh\n",
    "cd ..\n",
    "# this file is not commited to git to protect the privacy of annotators\n",
    "# if you don't have this file, please ignore\n",
    "python3 anonymize.py "
   ]
  },
  {
   "cell_type": "code",
   "execution_count": 4,
   "metadata": {
    "scrolled": true
   },
   "outputs": [
    {
     "name": "stderr",
     "output_type": "stream",
     "text": [
      "/Users/cumeo/anaconda3/envs/EvEn/lib/python3.6/site-packages/dateutil/parser/_parser.py:1206: UnknownTimezoneWarning: tzname EET identified but not understood.  Pass `tzinfos` argument in order to correctly return a timezone-aware datetime.  In a future version, this will raise an exception.\n",
      "  category=UnknownTimezoneWarning)\n"
     ]
    }
   ],
   "source": [
    "anns_paths = ['../data/annotations/Name-quiz.csv']\n",
    "anns_gform = pd.concat([pd.read_csv(p) for p in anns_paths], sort=False)\n",
    "# sometimes people submit the same answer twice, we'll keep only the last submission \n",
    "anns = anns_gform.drop_duplicates(['Document', 'Token', 'Username'], keep='last').copy()\n",
    "anns['Timestamp_dt'] = pd.to_datetime(anns.Timestamp)"
   ]
  },
  {
   "cell_type": "markdown",
   "metadata": {},
   "source": [
    "## Fix some annotation mistakes (ad-hoc)"
   ]
  },
  {
   "cell_type": "markdown",
   "metadata": {},
   "source": [
    "In the beginning, some annotators didn't understand the instructions and input some bogus names. We'll need to filter them out."
   ]
  },
  {
   "cell_type": "code",
   "execution_count": 5,
   "metadata": {},
   "outputs": [
    {
     "data": {
      "text/html": [
       "<div>\n",
       "<style scoped>\n",
       "    .dataframe tbody tr th:only-of-type {\n",
       "        vertical-align: middle;\n",
       "    }\n",
       "\n",
       "    .dataframe tbody tr th {\n",
       "        vertical-align: top;\n",
       "    }\n",
       "\n",
       "    .dataframe thead th {\n",
       "        text-align: right;\n",
       "    }\n",
       "</style>\n",
       "<table border=\"1\" class=\"dataframe\">\n",
       "  <thead>\n",
       "    <tr style=\"text-align: right;\">\n",
       "      <th></th>\n",
       "      <th>Document</th>\n",
       "      <th>Guessed name</th>\n",
       "      <th>Guessed characteristics</th>\n",
       "    </tr>\n",
       "  </thead>\n",
       "  <tbody>\n",
       "    <tr>\n",
       "      <th>75</th>\n",
       "      <td>student3-2019-03-29-question-170.html</td>\n",
       "      <td>No idea, the sentences work withouth this word</td>\n",
       "      <td>attribute, adjective, modal for time or place</td>\n",
       "    </tr>\n",
       "    <tr>\n",
       "      <th>76</th>\n",
       "      <td>student3-2019-03-29-question-025.html</td>\n",
       "      <td>A company name</td>\n",
       "      <td>Described in the text as \"a collection of comp...</td>\n",
       "    </tr>\n",
       "    <tr>\n",
       "      <th>77</th>\n",
       "      <td>student3-2019-03-29-question-180.html</td>\n",
       "      <td>A political figure</td>\n",
       "      <td>person</td>\n",
       "    </tr>\n",
       "    <tr>\n",
       "      <th>78</th>\n",
       "      <td>student3-2019-03-29-question-051.html</td>\n",
       "      <td>An asian country</td>\n",
       "      <td>country</td>\n",
       "    </tr>\n",
       "    <tr>\n",
       "      <th>80</th>\n",
       "      <td>student3-2019-03-29-question-234.html</td>\n",
       "      <td>State of the USA</td>\n",
       "      <td>state, location/governmental entity</td>\n",
       "    </tr>\n",
       "    <tr>\n",
       "      <th>82</th>\n",
       "      <td>student3-2019-03-29-question-062.html</td>\n",
       "      <td>social aid organisation (red crescent, red cross)</td>\n",
       "      <td>organisation</td>\n",
       "    </tr>\n",
       "    <tr>\n",
       "      <th>83</th>\n",
       "      <td>student3-2019-03-29-question-180.html</td>\n",
       "      <td>political party</td>\n",
       "      <td>group, party</td>\n",
       "    </tr>\n",
       "    <tr>\n",
       "      <th>88</th>\n",
       "      <td>student3-2019-03-29-question-118.html</td>\n",
       "      <td>Name of a journalist</td>\n",
       "      <td>Person</td>\n",
       "    </tr>\n",
       "    <tr>\n",
       "      <th>89</th>\n",
       "      <td>student3-2019-03-29-question-017.html</td>\n",
       "      <td>car maker brand</td>\n",
       "      <td>a company</td>\n",
       "    </tr>\n",
       "    <tr>\n",
       "      <th>203</th>\n",
       "      <td>student1-2019-03-14-question-203.html</td>\n",
       "      <td>approval</td>\n",
       "      <td>NaN</td>\n",
       "    </tr>\n",
       "    <tr>\n",
       "      <th>214</th>\n",
       "      <td>student3-2019-03-29-question-107.html</td>\n",
       "      <td>devil</td>\n",
       "      <td>something/someone considered bad</td>\n",
       "    </tr>\n",
       "  </tbody>\n",
       "</table>\n",
       "</div>"
      ],
      "text/plain": [
       "                                  Document  \\\n",
       "75   student3-2019-03-29-question-170.html   \n",
       "76   student3-2019-03-29-question-025.html   \n",
       "77   student3-2019-03-29-question-180.html   \n",
       "78   student3-2019-03-29-question-051.html   \n",
       "80   student3-2019-03-29-question-234.html   \n",
       "82   student3-2019-03-29-question-062.html   \n",
       "83   student3-2019-03-29-question-180.html   \n",
       "88   student3-2019-03-29-question-118.html   \n",
       "89   student3-2019-03-29-question-017.html   \n",
       "203  student1-2019-03-14-question-203.html   \n",
       "214  student3-2019-03-29-question-107.html   \n",
       "\n",
       "                                          Guessed name  \\\n",
       "75      No idea, the sentences work withouth this word   \n",
       "76                                      A company name   \n",
       "77                                  A political figure   \n",
       "78                                    An asian country   \n",
       "80                                    State of the USA   \n",
       "82   social aid organisation (red crescent, red cross)   \n",
       "83                                     political party   \n",
       "88                                Name of a journalist   \n",
       "89                                     car maker brand   \n",
       "203                                           approval   \n",
       "214                                              devil   \n",
       "\n",
       "                               Guessed characteristics  \n",
       "75       attribute, adjective, modal for time or place  \n",
       "76   Described in the text as \"a collection of comp...  \n",
       "77                                              person  \n",
       "78                                             country  \n",
       "80                 state, location/governmental entity  \n",
       "82                                        organisation  \n",
       "83                                        group, party  \n",
       "88                                              Person  \n",
       "89                                           a company  \n",
       "203                                                NaN  \n",
       "214                   something/someone considered bad  "
      ]
     },
     "execution_count": 5,
     "metadata": {},
     "output_type": "execute_result"
    }
   ],
   "source": [
    "problematic_names = ['An asian country', 'A political figure', 'car maker brand', 'A company name', \n",
    "                     'No idea, the sentences work withouth this word', 'approval',\n",
    "                     'social aid organisation (red crescent, red cross)', 'political party',\n",
    "                     'Name of a journalist', 'devil', 'State of the USA']\n",
    "anns[anns['Guessed name'].isin(problematic_names)][['Document', 'Guessed name', 'Guessed characteristics']]"
   ]
  },
  {
   "cell_type": "code",
   "execution_count": 6,
   "metadata": {},
   "outputs": [],
   "source": [
    "anns[anns['Guessed name'].isin(problematic_names)] = float('nan')"
   ]
  },
  {
   "cell_type": "markdown",
   "metadata": {},
   "source": [
    "Mid-way through, I found out that the name of the speaker (typically broadcasters) are shown in the document and annotators just copied them into the answer sheet. This is not intended because I want to check if annotators know about the entities already before the task, not what they learn. Also, they typically don't know anything about the broadcasters so the names would be useless anyway. I'll filter them out."
   ]
  },
  {
   "cell_type": "code",
   "execution_count": 7,
   "metadata": {},
   "outputs": [
    {
     "data": {
      "text/html": [
       "<div>\n",
       "<style scoped>\n",
       "    .dataframe tbody tr th:only-of-type {\n",
       "        vertical-align: middle;\n",
       "    }\n",
       "\n",
       "    .dataframe tbody tr th {\n",
       "        vertical-align: top;\n",
       "    }\n",
       "\n",
       "    .dataframe thead th {\n",
       "        text-align: right;\n",
       "    }\n",
       "</style>\n",
       "<table border=\"1\" class=\"dataframe\">\n",
       "  <thead>\n",
       "    <tr style=\"text-align: right;\">\n",
       "      <th></th>\n",
       "      <th>Document</th>\n",
       "      <th>Guessed name</th>\n",
       "      <th>Guessed characteristics</th>\n",
       "    </tr>\n",
       "  </thead>\n",
       "  <tbody>\n",
       "    <tr>\n",
       "      <th>3</th>\n",
       "      <td>student2-2019-03-29-question-021.html</td>\n",
       "      <td>Stacy Brown</td>\n",
       "      <td>NaN</td>\n",
       "    </tr>\n",
       "    <tr>\n",
       "      <th>13</th>\n",
       "      <td>student2-2019-03-29-question-017.html</td>\n",
       "      <td>Martha Stewart</td>\n",
       "      <td>NaN</td>\n",
       "    </tr>\n",
       "    <tr>\n",
       "      <th>30</th>\n",
       "      <td>student2-2019-03-29-question-028.html</td>\n",
       "      <td>Linda Walker</td>\n",
       "      <td>NaN</td>\n",
       "    </tr>\n",
       "    <tr>\n",
       "      <th>59</th>\n",
       "      <td>student2-2019-03-29-question-011.html</td>\n",
       "      <td>Shane Sellers</td>\n",
       "      <td>NaN</td>\n",
       "    </tr>\n",
       "    <tr>\n",
       "      <th>166</th>\n",
       "      <td>student2-2019-03-29-question-017.html</td>\n",
       "      <td>Martha Stewart</td>\n",
       "      <td>NaN</td>\n",
       "    </tr>\n",
       "  </tbody>\n",
       "</table>\n",
       "</div>"
      ],
      "text/plain": [
       "                                  Document    Guessed name  \\\n",
       "3    student2-2019-03-29-question-021.html     Stacy Brown   \n",
       "13   student2-2019-03-29-question-017.html  Martha Stewart   \n",
       "30   student2-2019-03-29-question-028.html    Linda Walker   \n",
       "59   student2-2019-03-29-question-011.html   Shane Sellers   \n",
       "166  student2-2019-03-29-question-017.html  Martha Stewart   \n",
       "\n",
       "    Guessed characteristics  \n",
       "3                       NaN  \n",
       "13                      NaN  \n",
       "30                      NaN  \n",
       "59                      NaN  \n",
       "166                     NaN  "
      ]
     },
     "execution_count": 7,
     "metadata": {},
     "output_type": "execute_result"
    }
   ],
   "source": [
    "speaker_names = ['Martha Stewart', 'Stacy Brown', 'Linda Walker', 'Shane Sellers']\n",
    "anns[anns['Guessed name'].isin(speaker_names)][['Document', 'Guessed name', 'Guessed characteristics']]"
   ]
  },
  {
   "cell_type": "code",
   "execution_count": 8,
   "metadata": {},
   "outputs": [],
   "source": [
    "anns[anns['Guessed name'].isin(speaker_names)] = float('nan')"
   ]
  },
  {
   "cell_type": "markdown",
   "metadata": {},
   "source": [
    "## Stats"
   ]
  },
  {
   "cell_type": "code",
   "execution_count": 9,
   "metadata": {},
   "outputs": [
    {
     "data": {
      "text/plain": [
       "310"
      ]
     },
     "execution_count": 9,
     "metadata": {},
     "output_type": "execute_result"
    }
   ],
   "source": [
    "len(anns)"
   ]
  },
  {
   "cell_type": "code",
   "execution_count": 10,
   "metadata": {},
   "outputs": [
    {
     "data": {
      "text/plain": [
       "0.7645161290322581"
      ]
     },
     "execution_count": 10,
     "metadata": {},
     "output_type": "execute_result"
    }
   ],
   "source": [
    "anns['Guessed name'].isna().sum() / len(anns)"
   ]
  },
  {
   "cell_type": "code",
   "execution_count": 11,
   "metadata": {},
   "outputs": [
    {
     "data": {
      "text/plain": [
       "0.0935483870967742"
      ]
     },
     "execution_count": 11,
     "metadata": {},
     "output_type": "execute_result"
    }
   ],
   "source": [
    "(anns['Guessed name'].isna() & anns['Guessed characteristics'].isna()).sum() / len(anns)"
   ]
  },
  {
   "cell_type": "code",
   "execution_count": 12,
   "metadata": {},
   "outputs": [
    {
     "data": {
      "text/plain": [
       "Taiwan                10\n",
       "Israel                 4\n",
       "Hong Kong              4\n",
       "Bush                   4\n",
       "god                    3\n",
       "Al Gore                3\n",
       "God                    3\n",
       "China                  3\n",
       "North Korea            2\n",
       "Serbia                 2\n",
       "Florida                2\n",
       "Greece                 2\n",
       "Robert Mugabe          1\n",
       "President Clinton      1\n",
       "Wall Street            1\n",
       "Zimbabwe               1\n",
       "New York               1\n",
       "Bonnaroo               1\n",
       "Bill Clinton           1\n",
       "South Korea            1\n",
       "Michael Jackson        1\n",
       "United Nations         1\n",
       "Greeks                 1\n",
       "Irak                   1\n",
       "monday                 1\n",
       "Russia                 1\n",
       "the Treasury           1\n",
       "Belgrade               1\n",
       "Yemen                  1\n",
       "Slobodan Milosevic     1\n",
       "Texas                  1\n",
       "jugoslawia             1\n",
       "Vladimir Putin         1\n",
       "George W. Bush         1\n",
       "Dakar                  1\n",
       "Dongguan               1\n",
       "Washington, D.C.       1\n",
       "iraq                   1\n",
       "Gore                   1\n",
       "Senegal                1\n",
       "Jesus                  1\n",
       "FBI                    1\n",
       "Clinton                1\n",
       "Name: Guessed name, dtype: int64"
      ]
     },
     "execution_count": 12,
     "metadata": {},
     "output_type": "execute_result"
    }
   ],
   "source": [
    "anns['Guessed name'].value_counts()"
   ]
  },
  {
   "cell_type": "code",
   "execution_count": 13,
   "metadata": {},
   "outputs": [
    {
     "data": {
      "text/html": [
       "<div>\n",
       "<style scoped>\n",
       "    .dataframe tbody tr th:only-of-type {\n",
       "        vertical-align: middle;\n",
       "    }\n",
       "\n",
       "    .dataframe tbody tr th {\n",
       "        vertical-align: top;\n",
       "    }\n",
       "\n",
       "    .dataframe thead th {\n",
       "        text-align: right;\n",
       "    }\n",
       "</style>\n",
       "<table border=\"1\" class=\"dataframe\">\n",
       "  <thead>\n",
       "    <tr style=\"text-align: right;\">\n",
       "      <th></th>\n",
       "      <th>Timestamp</th>\n",
       "      <th>Guessed name</th>\n",
       "      <th>Guessed characteristics</th>\n",
       "    </tr>\n",
       "    <tr>\n",
       "      <th>Username</th>\n",
       "      <th></th>\n",
       "      <th></th>\n",
       "      <th></th>\n",
       "    </tr>\n",
       "  </thead>\n",
       "  <tbody>\n",
       "    <tr>\n",
       "      <th>student1</th>\n",
       "      <td>107</td>\n",
       "      <td>8</td>\n",
       "      <td>87</td>\n",
       "    </tr>\n",
       "    <tr>\n",
       "      <th>student2</th>\n",
       "      <td>131</td>\n",
       "      <td>51</td>\n",
       "      <td>81</td>\n",
       "    </tr>\n",
       "    <tr>\n",
       "      <th>student3</th>\n",
       "      <td>56</td>\n",
       "      <td>14</td>\n",
       "      <td>55</td>\n",
       "    </tr>\n",
       "  </tbody>\n",
       "</table>\n",
       "</div>"
      ],
      "text/plain": [
       "          Timestamp  Guessed name  Guessed characteristics\n",
       "Username                                                  \n",
       "student1        107             8                       87\n",
       "student2        131            51                       81\n",
       "student3         56            14                       55"
      ]
     },
     "execution_count": 13,
     "metadata": {},
     "output_type": "execute_result"
    }
   ],
   "source": [
    "anns.groupby('Username').agg({'Timestamp': len, 'Guessed name': 'count', 'Guessed characteristics': 'count'})"
   ]
  },
  {
   "cell_type": "code",
   "execution_count": 14,
   "metadata": {
    "scrolled": true
   },
   "outputs": [
    {
     "data": {
      "text/plain": [
       "74                                     place, country\n",
       "79                                      country/place\n",
       "81     Either a political party or a political person\n",
       "84                            a person or institution\n",
       "85        either a location or a date (year or month)\n",
       "86                                    day of the week\n",
       "87                        A location, event or person\n",
       "90                                     person, entity\n",
       "91                                      american city\n",
       "92                                    god, bible text\n",
       "93                                            US city\n",
       "94                                      event or date\n",
       "95                                            airline\n",
       "96                                       chinese city\n",
       "97                                           country \n",
       "98                              greek political party\n",
       "99                                       US president\n",
       "177                                           country\n",
       "178                                              city\n",
       "179                  israeli organisation or military\n",
       "180                              town or suburb in US\n",
       "181                                           company\n",
       "182                                     higher entity\n",
       "183                                           country\n",
       "184                         country or city/ location\n",
       "185                       a law or paragraph of a law\n",
       "186                                    balkan country\n",
       "187                                      US president\n",
       "188          head of official Palestinian television \n",
       "189                                us car manufacture\n",
       "190                                      iraq veteran\n",
       "191                                           company\n",
       "192                       figure of the new testament\n",
       "193                                           company\n",
       "206                                            a fund\n",
       "207                                              city\n",
       "208                                          US state\n",
       "209                                   a sport stadium\n",
       "210                               US car manufacturer\n",
       "211                                   country or city\n",
       "212                                         last name\n",
       "213                                               NaN\n",
       "215                    division of a car manufacturer\n",
       "216                                              town\n",
       "217                                              city\n",
       "218                              London metro station\n",
       "219                                           company\n",
       "220                            place or orgaqnisation\n",
       "221                                   political party\n",
       "222                                           country\n",
       "223                        company or business person\n",
       "224                            political organisation\n",
       "225                                            person\n",
       "226                          governmental institution\n",
       "227                                      US president\n",
       "228                                   country or town\n",
       "Name: Guessed characteristics, dtype: object"
      ]
     },
     "execution_count": 14,
     "metadata": {},
     "output_type": "execute_result"
    }
   ],
   "source": [
    "anns[anns.Username == 'student3']['Guessed characteristics']"
   ]
  },
  {
   "cell_type": "markdown",
   "metadata": {},
   "source": [
    "# Generate spreadsheet for annotation"
   ]
  },
  {
   "cell_type": "code",
   "execution_count": 20,
   "metadata": {},
   "outputs": [],
   "source": [
    "def extract_conll_path(path):\n",
    "    with open(path) as f:\n",
    "        html = f.read()\n",
    "    conll_path, = re.findall(r'name=\"conll_file\" value=\"(.+)\"', html)\n",
    "    return conll_path"
   ]
  },
  {
   "cell_type": "code",
   "execution_count": 56,
   "metadata": {},
   "outputs": [],
   "source": [
    "def file_contains(path, s):\n",
    "    with open(path) as f:\n",
    "        return s in f.read()\n",
    "    \n",
    "def file_equal(path1, path2):\n",
    "    name_pattern = r'\\b_[A-Z][A-Z0-9]+_\\b'\n",
    "    with open(path1) as f1, open(path2) as f2:\n",
    "        tokens1 = re.findall(name_pattern, f1.read())\n",
    "        tokens2 = re.findall(name_pattern, f2.read())\n",
    "        return tokens1 == tokens2\n",
    "    \n",
    "def add_urls(row):\n",
    "    doc = row['Document']\n",
    "    token = row['Token']\n",
    "    if not pd.isna(doc):\n",
    "        paths = glob('../data/annotations/documents/*/' + doc)\n",
    "        paths = [p for p in paths if file_contains(p, token)]\n",
    "        if paths:\n",
    "            if any(not file_equal(paths[0], p) for p in paths[1:]):\n",
    "                paths_related_to_name = [p for p in paths if 'name' in p]\n",
    "                if len(paths_related_to_name) == 1:\n",
    "                    paths = paths_related_to_name\n",
    "                else:\n",
    "                    print('Warning: found two or more non-equivalent files: %s' %paths)\n",
    "            for i, path in enumerate(paths):\n",
    "                path = os.path.abspath(path)\n",
    "                url = 'file://%s' %(urllib.parse.quote(path))\n",
    "                row['url%d' %i] = url\n",
    "            conll_paths = [extract_conll_path(p) for p in paths]\n",
    "            orig_conll_paths = [re.sub(r'/no-(?:external|internal)/', '/orig/', p) for p in conll_paths]\n",
    "            orig_conll_paths = [p.replace('auto_conll', 'gold_conll') for p in orig_conll_paths]\n",
    "            orig_conll_paths = [p.replace('transformed.v2', 'transformed') for p in orig_conll_paths]\n",
    "            orig_html_paths = [p + '.html' for p in orig_conll_paths]\n",
    "            orig_html_paths = list(set(orig_html_paths))\n",
    "            for i, path in enumerate(orig_html_paths):\n",
    "                path = os.path.abspath(os.path.join('..', path))\n",
    "                url = 'file://%s' %(urllib.parse.quote(path))\n",
    "                row['orig%d' %i] = url\n",
    "        else:\n",
    "            print('Warning: no document found for %s - %s' %(doc, token))\n",
    "    return row"
   ]
  },
  {
   "cell_type": "code",
   "execution_count": 58,
   "metadata": {
    "scrolled": false
   },
   "outputs": [
    {
     "name": "stdout",
     "output_type": "stream",
     "text": [
      "Warning: found two or more non-equivalent files: ['../data/annotations/documents/student2-doc-190-218/student2-2019-03-29-question-190.html', '../data/annotations/documents/student2-2019-07-06/student2-2019-03-29-question-190.html']\n",
      "Warning: found two or more non-equivalent files: ['../data/annotations/documents/student2-first-100-docs/student2-2019-03-29-question-038.html', '../data/annotations/documents/student2-documents-to-fix/student2-2019-03-29-question-038.html', '../data/annotations/documents/student2-2019-07-06/student2-2019-03-29-question-038.html']\n",
      "Warning: found two or more non-equivalent files: ['../data/annotations/documents/student2-doc-190-218/student2-2019-03-29-question-190.html', '../data/annotations/documents/student2-2019-07-06/student2-2019-03-29-question-190.html']\n",
      "Warning: found two or more non-equivalent files: ['../data/annotations/documents/student2-first-100-docs/student2-2019-03-29-question-021.html', '../data/annotations/documents/student2-documents-to-fix/student2-2019-03-29-question-021.html', '../data/annotations/documents/student2-2019-07-06/student2-2019-03-29-question-021.html']\n",
      "Warning: found two or more non-equivalent files: ['../data/annotations/documents/student2-first-100-docs/student2-2019-03-29-question-034.html', '../data/annotations/documents/student2-documents-to-fix/student2-2019-03-29-question-034.html', '../data/annotations/documents/student2-2019-07-06/student2-2019-03-29-question-034.html']\n",
      "Warning: found two or more non-equivalent files: ['../data/annotations/documents/student2-first-100-docs/student2-2019-03-29-question-096.html', '../data/annotations/documents/student2-2019-07-06/student2-2019-03-29-question-096.html']\n",
      "Warning: found two or more non-equivalent files: ['../data/annotations/documents/student2-first-100-docs/student2-2019-03-29-question-034.html', '../data/annotations/documents/student2-documents-to-fix/student2-2019-03-29-question-034.html', '../data/annotations/documents/student2-2019-07-06/student2-2019-03-29-question-034.html']\n",
      "Warning: found two or more non-equivalent files: ['../data/annotations/documents/student1-documents-to-fix/student1-2019-03-14-question-005.html', '../data/annotations/documents/student1-name-quiz-documents/student1-2019-03-14-question-005.html', '../data/annotations/documents/student1-documents-for-name-annotation/student1-2019-03-14-question-005.html']\n",
      "Warning: found two or more non-equivalent files: ['../data/annotations/documents/student3-documents-for-name-annotation/student3-2019-03-29-question-247.html', '../data/annotations/documents/student3-name-quiz-documents/student3-2019-03-29-question-247.html']\n",
      "Warning: found two or more non-equivalent files: ['../data/annotations/documents/student1-documents-to-fix/student1-2019-03-14-question-001.html', '../data/annotations/documents/student1-first-150-docs/student1-2019-03-14-question-001.html', '../data/annotations/documents/student1-name-quiz-documents/student1-2019-03-14-question-001.html', '../data/annotations/documents/student1-documents-for-name-annotation/student1-2019-03-14-question-001.html']\n",
      "Warning: found two or more non-equivalent files: ['../data/annotations/documents/student1-name-quiz-documents/student1-2019-03-14-question-250.html', '../data/annotations/documents/student1-documents-for-name-annotation/student1-2019-03-14-question-250.html']\n"
     ]
    }
   ],
   "source": [
    "anns = anns.apply(add_urls, axis=1)"
   ]
  },
  {
   "cell_type": "code",
   "execution_count": 59,
   "metadata": {},
   "outputs": [],
   "source": [
    "cols = ([c for c in anns.columns if 'url' in c or 'orig' in c] + \n",
    "        ['Token', 'Guessed name', 'Guessed characteristics'])\n",
    "anns[cols].to_csv('../output/entity-guessing-score-sheet.csv')"
   ]
  },
  {
   "cell_type": "code",
   "execution_count": null,
   "metadata": {},
   "outputs": [],
   "source": []
  }
 ],
 "metadata": {
  "kernelspec": {
   "display_name": "conda-env-EvEn-py",
   "language": "python",
   "name": "conda-env-even-py"
  },
  "language_info": {
   "codemirror_mode": {
    "name": "ipython",
    "version": 3
   },
   "file_extension": ".py",
   "mimetype": "text/x-python",
   "name": "python",
   "nbconvert_exporter": "python",
   "pygments_lexer": "ipython3",
   "version": "3.6.9"
  }
 },
 "nbformat": 4,
 "nbformat_minor": 2
}
