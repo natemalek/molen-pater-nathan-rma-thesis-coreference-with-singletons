{
 "cells": [
  {
   "cell_type": "code",
   "execution_count": 1,
   "metadata": {},
   "outputs": [],
   "source": [
    "import os\n",
    "if os.getcwd().endswith('notebooks'):\n",
    "    os.chdir('..')"
   ]
  },
  {
   "cell_type": "code",
   "execution_count": 2,
   "metadata": {},
   "outputs": [],
   "source": [
    "from mturk.mturktools import adhoc_fix"
   ]
  },
  {
   "cell_type": "code",
   "execution_count": 3,
   "metadata": {},
   "outputs": [],
   "source": [
    "from pyhocon import ConfigFactory\n",
    "from tqdm import tqdm"
   ]
  },
  {
   "cell_type": "code",
   "execution_count": 4,
   "metadata": {},
   "outputs": [],
   "source": [
    "import sys\n",
    "from io import StringIO\n",
    "%matplotlib inline\n",
    "import seaborn as sns"
   ]
  },
  {
   "cell_type": "code",
   "execution_count": 5,
   "metadata": {},
   "outputs": [],
   "source": [
    "# for evaluating individual rows\n",
    "from cort.core import corpora\n",
    "from mturk.evaluate_full_annotation import extract_conll, run_evaluation_script\n",
    "from mturk.extract_results import extract_results_from_log_file\n",
    "import subprocess\n",
    "from io import StringIO\n",
    "from config import scorer\n",
    "import tempfile\n",
    "import re"
   ]
  },
  {
   "cell_type": "markdown",
   "metadata": {},
   "source": [
    "# Reading annotations"
   ]
  },
  {
   "cell_type": "code",
   "execution_count": 58,
   "metadata": {},
   "outputs": [],
   "source": [
    "import pandas as pd\n",
    "anns = pd.concat([\n",
    "    pd.read_csv(adhoc_fix('output/mturk/cltl-2019-01-23-unmasked-annotations.csv')),\n",
    "    pd.read_csv(adhoc_fix('output/mturk/cltl-2019-01-23-masked-annotations.csv'))\n",
    "])"
   ]
  },
  {
   "cell_type": "code",
   "execution_count": 59,
   "metadata": {
    "scrolled": true
   },
   "outputs": [
    {
     "data": {
      "text/html": [
       "<div>\n",
       "<style scoped>\n",
       "    .dataframe tbody tr th:only-of-type {\n",
       "        vertical-align: middle;\n",
       "    }\n",
       "\n",
       "    .dataframe tbody tr th {\n",
       "        vertical-align: top;\n",
       "    }\n",
       "\n",
       "    .dataframe thead th {\n",
       "        text-align: right;\n",
       "    }\n",
       "</style>\n",
       "<table border=\"1\" class=\"dataframe\">\n",
       "  <thead>\n",
       "    <tr style=\"text-align: right;\">\n",
       "      <th></th>\n",
       "      <th>blanks</th>\n",
       "      <th>chains</th>\n",
       "      <th>conll_file</th>\n",
       "      <th>doc</th>\n",
       "      <th>events</th>\n",
       "      <th>improvement</th>\n",
       "      <th>problems</th>\n",
       "      <th>sent_begin</th>\n",
       "      <th>sent_end</th>\n",
       "      <th>submit</th>\n",
       "      <th>workerId</th>\n",
       "    </tr>\n",
       "  </thead>\n",
       "  <tbody>\n",
       "    <tr>\n",
       "      <th>0</th>\n",
       "      <td>NaN</td>\n",
       "      <td>mention_22_24,mention_25_25=mention_6_6=mentio...</td>\n",
       "      <td>output/conll-2012-transformed.v2/orig/dev/bn_c...</td>\n",
       "      <td>(bn/cnn/02/cnn_0200); part 000</td>\n",
       "      <td>1447:start_grouping;1447:add_singleton(mention...</td>\n",
       "      <td>NaN</td>\n",
       "      <td>NaN</td>\n",
       "      <td>0</td>\n",
       "      <td>3</td>\n",
       "      <td>NaN</td>\n",
       "      <td>A19NP6Q2D7YHSV</td>\n",
       "    </tr>\n",
       "    <tr>\n",
       "      <th>1</th>\n",
       "      <td>NaN</td>\n",
       "      <td>mention_3_5=mention_28_34,mention_7_7,mention_...</td>\n",
       "      <td>output/conll-2012-transformed.v2/orig/dev/bn_v...</td>\n",
       "      <td>(bn/voa/00/voa_0090); part 000</td>\n",
       "      <td>182776:start_grouping;182776:add_singleton(men...</td>\n",
       "      <td>NaN</td>\n",
       "      <td>NaN</td>\n",
       "      <td>0</td>\n",
       "      <td>3</td>\n",
       "      <td>NaN</td>\n",
       "      <td>A3V5LQ8PYCTKQB</td>\n",
       "    </tr>\n",
       "    <tr>\n",
       "      <th>2</th>\n",
       "      <td>NaN</td>\n",
       "      <td>mention_0_0=mention_6_6=mention_11_11=mention_...</td>\n",
       "      <td>output/conll-2012-transformed.v2/orig/dev/pt_n...</td>\n",
       "      <td>(pt/nt/40/nt_4020); part 001</td>\n",
       "      <td>141:display_instructions;33290:close_instructi...</td>\n",
       "      <td>NaN</td>\n",
       "      <td>NaN</td>\n",
       "      <td>0</td>\n",
       "      <td>37</td>\n",
       "      <td>NaN</td>\n",
       "      <td>A1WF8OS5DR3JRB</td>\n",
       "    </tr>\n",
       "  </tbody>\n",
       "</table>\n",
       "</div>"
      ],
      "text/plain": [
       "  blanks                                             chains  \\\n",
       "0    NaN  mention_22_24,mention_25_25=mention_6_6=mentio...   \n",
       "1    NaN  mention_3_5=mention_28_34,mention_7_7,mention_...   \n",
       "2    NaN  mention_0_0=mention_6_6=mention_11_11=mention_...   \n",
       "\n",
       "                                          conll_file  \\\n",
       "0  output/conll-2012-transformed.v2/orig/dev/bn_c...   \n",
       "1  output/conll-2012-transformed.v2/orig/dev/bn_v...   \n",
       "2  output/conll-2012-transformed.v2/orig/dev/pt_n...   \n",
       "\n",
       "                              doc  \\\n",
       "0  (bn/cnn/02/cnn_0200); part 000   \n",
       "1  (bn/voa/00/voa_0090); part 000   \n",
       "2    (pt/nt/40/nt_4020); part 001   \n",
       "\n",
       "                                              events improvement problems  \\\n",
       "0  1447:start_grouping;1447:add_singleton(mention...         NaN      NaN   \n",
       "1  182776:start_grouping;182776:add_singleton(men...         NaN      NaN   \n",
       "2  141:display_instructions;33290:close_instructi...         NaN      NaN   \n",
       "\n",
       "   sent_begin  sent_end  submit        workerId  \n",
       "0           0         3     NaN  A19NP6Q2D7YHSV  \n",
       "1           0         3     NaN  A3V5LQ8PYCTKQB  \n",
       "2           0        37     NaN  A1WF8OS5DR3JRB  "
      ]
     },
     "execution_count": 59,
     "metadata": {},
     "output_type": "execute_result"
    }
   ],
   "source": [
    "anns.head(3)"
   ]
  },
  {
   "cell_type": "code",
   "execution_count": 61,
   "metadata": {},
   "outputs": [],
   "source": [
    "def extract_transformation(conll_path):\n",
    "    transformation, = re.findall(r'output/conll-2012[-\\w\\.]+/([-\\d\\w]+)/dev', conll_path)\n",
    "    return transformation\n",
    "\n",
    "anns['transformation'] = anns.conll_file.apply(extract_transformation)"
   ]
  },
  {
   "cell_type": "code",
   "execution_count": 62,
   "metadata": {},
   "outputs": [
    {
     "data": {
      "text/html": [
       "<div>\n",
       "<style scoped>\n",
       "    .dataframe tbody tr th:only-of-type {\n",
       "        vertical-align: middle;\n",
       "    }\n",
       "\n",
       "    .dataframe tbody tr th {\n",
       "        vertical-align: top;\n",
       "    }\n",
       "\n",
       "    .dataframe thead th {\n",
       "        text-align: right;\n",
       "    }\n",
       "</style>\n",
       "<table border=\"1\" class=\"dataframe\">\n",
       "  <thead>\n",
       "    <tr style=\"text-align: right;\">\n",
       "      <th></th>\n",
       "      <th>blanks</th>\n",
       "      <th>chains</th>\n",
       "      <th>conll_file</th>\n",
       "      <th>doc</th>\n",
       "      <th>events</th>\n",
       "      <th>improvement</th>\n",
       "      <th>problems</th>\n",
       "      <th>sent_begin</th>\n",
       "      <th>sent_end</th>\n",
       "      <th>submit</th>\n",
       "      <th>workerId</th>\n",
       "      <th>transformation</th>\n",
       "    </tr>\n",
       "  </thead>\n",
       "  <tbody>\n",
       "    <tr>\n",
       "      <th>0</th>\n",
       "      <td>NaN</td>\n",
       "      <td>mention_22_24,mention_25_25=mention_6_6=mentio...</td>\n",
       "      <td>output/conll-2012-transformed.v2/orig/dev/bn_c...</td>\n",
       "      <td>(bn/cnn/02/cnn_0200); part 000</td>\n",
       "      <td>1447:start_grouping;1447:add_singleton(mention...</td>\n",
       "      <td>NaN</td>\n",
       "      <td>NaN</td>\n",
       "      <td>0</td>\n",
       "      <td>3</td>\n",
       "      <td>NaN</td>\n",
       "      <td>A19NP6Q2D7YHSV</td>\n",
       "      <td>orig</td>\n",
       "    </tr>\n",
       "    <tr>\n",
       "      <th>1</th>\n",
       "      <td>NaN</td>\n",
       "      <td>mention_3_5=mention_28_34,mention_7_7,mention_...</td>\n",
       "      <td>output/conll-2012-transformed.v2/orig/dev/bn_v...</td>\n",
       "      <td>(bn/voa/00/voa_0090); part 000</td>\n",
       "      <td>182776:start_grouping;182776:add_singleton(men...</td>\n",
       "      <td>NaN</td>\n",
       "      <td>NaN</td>\n",
       "      <td>0</td>\n",
       "      <td>3</td>\n",
       "      <td>NaN</td>\n",
       "      <td>A3V5LQ8PYCTKQB</td>\n",
       "      <td>orig</td>\n",
       "    </tr>\n",
       "    <tr>\n",
       "      <th>2</th>\n",
       "      <td>NaN</td>\n",
       "      <td>mention_0_0=mention_6_6=mention_11_11=mention_...</td>\n",
       "      <td>output/conll-2012-transformed.v2/orig/dev/pt_n...</td>\n",
       "      <td>(pt/nt/40/nt_4020); part 001</td>\n",
       "      <td>141:display_instructions;33290:close_instructi...</td>\n",
       "      <td>NaN</td>\n",
       "      <td>NaN</td>\n",
       "      <td>0</td>\n",
       "      <td>37</td>\n",
       "      <td>NaN</td>\n",
       "      <td>A1WF8OS5DR3JRB</td>\n",
       "      <td>orig</td>\n",
       "    </tr>\n",
       "  </tbody>\n",
       "</table>\n",
       "</div>"
      ],
      "text/plain": [
       "  blanks                                             chains  \\\n",
       "0    NaN  mention_22_24,mention_25_25=mention_6_6=mentio...   \n",
       "1    NaN  mention_3_5=mention_28_34,mention_7_7,mention_...   \n",
       "2    NaN  mention_0_0=mention_6_6=mention_11_11=mention_...   \n",
       "\n",
       "                                          conll_file  \\\n",
       "0  output/conll-2012-transformed.v2/orig/dev/bn_c...   \n",
       "1  output/conll-2012-transformed.v2/orig/dev/bn_v...   \n",
       "2  output/conll-2012-transformed.v2/orig/dev/pt_n...   \n",
       "\n",
       "                              doc  \\\n",
       "0  (bn/cnn/02/cnn_0200); part 000   \n",
       "1  (bn/voa/00/voa_0090); part 000   \n",
       "2    (pt/nt/40/nt_4020); part 001   \n",
       "\n",
       "                                              events improvement problems  \\\n",
       "0  1447:start_grouping;1447:add_singleton(mention...         NaN      NaN   \n",
       "1  182776:start_grouping;182776:add_singleton(men...         NaN      NaN   \n",
       "2  141:display_instructions;33290:close_instructi...         NaN      NaN   \n",
       "\n",
       "   sent_begin  sent_end  submit        workerId transformation  \n",
       "0           0         3     NaN  A19NP6Q2D7YHSV           orig  \n",
       "1           0         3     NaN  A3V5LQ8PYCTKQB           orig  \n",
       "2           0        37     NaN  A1WF8OS5DR3JRB           orig  "
      ]
     },
     "execution_count": 62,
     "metadata": {},
     "output_type": "execute_result"
    }
   ],
   "source": [
    "anns.head(3)"
   ]
  },
  {
   "cell_type": "markdown",
   "metadata": {},
   "source": [
    "# Overal results"
   ]
  },
  {
   "cell_type": "code",
   "execution_count": 186,
   "metadata": {},
   "outputs": [],
   "source": [
    "results = pd.read_csv('output/mturk/cltl-2019-01-23.csv')"
   ]
  },
  {
   "cell_type": "code",
   "execution_count": 187,
   "metadata": {},
   "outputs": [
    {
     "data": {
      "text/html": [
       "<div>\n",
       "<style scoped>\n",
       "    .dataframe tbody tr th:only-of-type {\n",
       "        vertical-align: middle;\n",
       "    }\n",
       "\n",
       "    .dataframe tbody tr th {\n",
       "        vertical-align: top;\n",
       "    }\n",
       "\n",
       "    .dataframe thead th {\n",
       "        text-align: right;\n",
       "    }\n",
       "</style>\n",
       "<table border=\"1\" class=\"dataframe\">\n",
       "  <thead>\n",
       "    <tr style=\"text-align: right;\">\n",
       "      <th></th>\n",
       "      <th>auto_or_gold</th>\n",
       "      <th>dataset</th>\n",
       "      <th>f1_bcub</th>\n",
       "      <th>f1_ceafe</th>\n",
       "      <th>f1_conll</th>\n",
       "      <th>f1_muc</th>\n",
       "      <th>manipulation</th>\n",
       "      <th>mention_p</th>\n",
       "      <th>mention_r</th>\n",
       "      <th>system</th>\n",
       "    </tr>\n",
       "  </thead>\n",
       "  <tbody>\n",
       "    <tr>\n",
       "      <th>0</th>\n",
       "      <td>NaN</td>\n",
       "      <td>dev</td>\n",
       "      <td>81.22</td>\n",
       "      <td>74.32</td>\n",
       "      <td>76.086667</td>\n",
       "      <td>72.72</td>\n",
       "      <td>men_10</td>\n",
       "      <td>100</td>\n",
       "      <td>100</td>\n",
       "      <td>human</td>\n",
       "    </tr>\n",
       "    <tr>\n",
       "      <th>1</th>\n",
       "      <td>NaN</td>\n",
       "      <td>dev</td>\n",
       "      <td>86.12</td>\n",
       "      <td>74.07</td>\n",
       "      <td>79.036667</td>\n",
       "      <td>76.92</td>\n",
       "      <td>men_20</td>\n",
       "      <td>100</td>\n",
       "      <td>100</td>\n",
       "      <td>human</td>\n",
       "    </tr>\n",
       "    <tr>\n",
       "      <th>2</th>\n",
       "      <td>NaN</td>\n",
       "      <td>dev</td>\n",
       "      <td>82.43</td>\n",
       "      <td>61.97</td>\n",
       "      <td>78.470000</td>\n",
       "      <td>91.01</td>\n",
       "      <td>men_30</td>\n",
       "      <td>100</td>\n",
       "      <td>100</td>\n",
       "      <td>human</td>\n",
       "    </tr>\n",
       "    <tr>\n",
       "      <th>3</th>\n",
       "      <td>NaN</td>\n",
       "      <td>dev</td>\n",
       "      <td>73.37</td>\n",
       "      <td>57.82</td>\n",
       "      <td>69.783333</td>\n",
       "      <td>78.16</td>\n",
       "      <td>men_40</td>\n",
       "      <td>100</td>\n",
       "      <td>100</td>\n",
       "      <td>human</td>\n",
       "    </tr>\n",
       "    <tr>\n",
       "      <th>4</th>\n",
       "      <td>NaN</td>\n",
       "      <td>dev</td>\n",
       "      <td>59.02</td>\n",
       "      <td>53.33</td>\n",
       "      <td>54.116667</td>\n",
       "      <td>50.00</td>\n",
       "      <td>men_60</td>\n",
       "      <td>100</td>\n",
       "      <td>100</td>\n",
       "      <td>human</td>\n",
       "    </tr>\n",
       "    <tr>\n",
       "      <th>5</th>\n",
       "      <td>NaN</td>\n",
       "      <td>dev</td>\n",
       "      <td>53.96</td>\n",
       "      <td>29.37</td>\n",
       "      <td>38.146667</td>\n",
       "      <td>31.11</td>\n",
       "      <td>men_70</td>\n",
       "      <td>100</td>\n",
       "      <td>100</td>\n",
       "      <td>human</td>\n",
       "    </tr>\n",
       "    <tr>\n",
       "      <th>6</th>\n",
       "      <td>NaN</td>\n",
       "      <td>dev</td>\n",
       "      <td>92.63</td>\n",
       "      <td>90.82</td>\n",
       "      <td>92.726667</td>\n",
       "      <td>94.73</td>\n",
       "      <td>no-external</td>\n",
       "      <td>100</td>\n",
       "      <td>100</td>\n",
       "      <td>human</td>\n",
       "    </tr>\n",
       "    <tr>\n",
       "      <th>7</th>\n",
       "      <td>NaN</td>\n",
       "      <td>dev</td>\n",
       "      <td>89.14</td>\n",
       "      <td>78.39</td>\n",
       "      <td>86.073333</td>\n",
       "      <td>90.69</td>\n",
       "      <td>no-internal</td>\n",
       "      <td>100</td>\n",
       "      <td>100</td>\n",
       "      <td>human</td>\n",
       "    </tr>\n",
       "    <tr>\n",
       "      <th>8</th>\n",
       "      <td>NaN</td>\n",
       "      <td>dev</td>\n",
       "      <td>86.81</td>\n",
       "      <td>72.96</td>\n",
       "      <td>83.126667</td>\n",
       "      <td>89.61</td>\n",
       "      <td>no-name</td>\n",
       "      <td>100</td>\n",
       "      <td>100</td>\n",
       "      <td>human</td>\n",
       "    </tr>\n",
       "    <tr>\n",
       "      <th>9</th>\n",
       "      <td>NaN</td>\n",
       "      <td>dev</td>\n",
       "      <td>93.55</td>\n",
       "      <td>90.29</td>\n",
       "      <td>92.390000</td>\n",
       "      <td>93.33</td>\n",
       "      <td>nonmen_10</td>\n",
       "      <td>100</td>\n",
       "      <td>100</td>\n",
       "      <td>human</td>\n",
       "    </tr>\n",
       "    <tr>\n",
       "      <th>10</th>\n",
       "      <td>NaN</td>\n",
       "      <td>dev</td>\n",
       "      <td>88.77</td>\n",
       "      <td>80.43</td>\n",
       "      <td>87.380000</td>\n",
       "      <td>92.94</td>\n",
       "      <td>nonmen_20</td>\n",
       "      <td>100</td>\n",
       "      <td>100</td>\n",
       "      <td>human</td>\n",
       "    </tr>\n",
       "    <tr>\n",
       "      <th>11</th>\n",
       "      <td>NaN</td>\n",
       "      <td>dev</td>\n",
       "      <td>81.35</td>\n",
       "      <td>61.66</td>\n",
       "      <td>75.446667</td>\n",
       "      <td>83.33</td>\n",
       "      <td>nonmen_40</td>\n",
       "      <td>100</td>\n",
       "      <td>100</td>\n",
       "      <td>human</td>\n",
       "    </tr>\n",
       "    <tr>\n",
       "      <th>12</th>\n",
       "      <td>NaN</td>\n",
       "      <td>dev</td>\n",
       "      <td>84.53</td>\n",
       "      <td>67.30</td>\n",
       "      <td>80.556667</td>\n",
       "      <td>89.84</td>\n",
       "      <td>nonmen_50</td>\n",
       "      <td>100</td>\n",
       "      <td>100</td>\n",
       "      <td>human</td>\n",
       "    </tr>\n",
       "    <tr>\n",
       "      <th>13</th>\n",
       "      <td>NaN</td>\n",
       "      <td>dev</td>\n",
       "      <td>94.50</td>\n",
       "      <td>86.86</td>\n",
       "      <td>92.336667</td>\n",
       "      <td>95.65</td>\n",
       "      <td>nonmen_60</td>\n",
       "      <td>100</td>\n",
       "      <td>100</td>\n",
       "      <td>human</td>\n",
       "    </tr>\n",
       "    <tr>\n",
       "      <th>14</th>\n",
       "      <td>NaN</td>\n",
       "      <td>dev</td>\n",
       "      <td>83.76</td>\n",
       "      <td>67.09</td>\n",
       "      <td>78.090000</td>\n",
       "      <td>83.42</td>\n",
       "      <td>nonmen_70</td>\n",
       "      <td>100</td>\n",
       "      <td>100</td>\n",
       "      <td>human</td>\n",
       "    </tr>\n",
       "    <tr>\n",
       "      <th>15</th>\n",
       "      <td>NaN</td>\n",
       "      <td>dev</td>\n",
       "      <td>90.84</td>\n",
       "      <td>83.10</td>\n",
       "      <td>89.460000</td>\n",
       "      <td>94.44</td>\n",
       "      <td>orig</td>\n",
       "      <td>100</td>\n",
       "      <td>100</td>\n",
       "      <td>human</td>\n",
       "    </tr>\n",
       "  </tbody>\n",
       "</table>\n",
       "</div>"
      ],
      "text/plain": [
       "    auto_or_gold dataset  f1_bcub  f1_ceafe   f1_conll  f1_muc manipulation  \\\n",
       "0            NaN     dev    81.22     74.32  76.086667   72.72       men_10   \n",
       "1            NaN     dev    86.12     74.07  79.036667   76.92       men_20   \n",
       "2            NaN     dev    82.43     61.97  78.470000   91.01       men_30   \n",
       "3            NaN     dev    73.37     57.82  69.783333   78.16       men_40   \n",
       "4            NaN     dev    59.02     53.33  54.116667   50.00       men_60   \n",
       "5            NaN     dev    53.96     29.37  38.146667   31.11       men_70   \n",
       "6            NaN     dev    92.63     90.82  92.726667   94.73  no-external   \n",
       "7            NaN     dev    89.14     78.39  86.073333   90.69  no-internal   \n",
       "8            NaN     dev    86.81     72.96  83.126667   89.61      no-name   \n",
       "9            NaN     dev    93.55     90.29  92.390000   93.33    nonmen_10   \n",
       "10           NaN     dev    88.77     80.43  87.380000   92.94    nonmen_20   \n",
       "11           NaN     dev    81.35     61.66  75.446667   83.33    nonmen_40   \n",
       "12           NaN     dev    84.53     67.30  80.556667   89.84    nonmen_50   \n",
       "13           NaN     dev    94.50     86.86  92.336667   95.65    nonmen_60   \n",
       "14           NaN     dev    83.76     67.09  78.090000   83.42    nonmen_70   \n",
       "15           NaN     dev    90.84     83.10  89.460000   94.44         orig   \n",
       "\n",
       "    mention_p  mention_r system  \n",
       "0         100        100  human  \n",
       "1         100        100  human  \n",
       "2         100        100  human  \n",
       "3         100        100  human  \n",
       "4         100        100  human  \n",
       "5         100        100  human  \n",
       "6         100        100  human  \n",
       "7         100        100  human  \n",
       "8         100        100  human  \n",
       "9         100        100  human  \n",
       "10        100        100  human  \n",
       "11        100        100  human  \n",
       "12        100        100  human  \n",
       "13        100        100  human  \n",
       "14        100        100  human  \n",
       "15        100        100  human  "
      ]
     },
     "execution_count": 187,
     "metadata": {},
     "output_type": "execute_result"
    }
   ],
   "source": [
    "results"
   ]
  },
  {
   "cell_type": "markdown",
   "metadata": {},
   "source": [
    "# Compare workers"
   ]
  },
  {
   "cell_type": "code",
   "execution_count": 72,
   "metadata": {},
   "outputs": [
    {
     "name": "stdout",
     "output_type": "stream",
     "text": [
      "File: output/mturk/cltl-2019-01-23-evaluate/workers/A2ZSJQ8UYSJ8LX.log\n",
      "File: output/mturk/cltl-2019-01-23-evaluate/workers/A37IPL6DILIK8T.log\n",
      "File: output/mturk/cltl-2019-01-23-evaluate/workers/A3V5LQ8PYCTKQB.log\n",
      "File: output/mturk/cltl-2019-01-23-evaluate/workers/A19NP6Q2D7YHSV.log\n",
      "File: output/mturk/cltl-2019-01-23-evaluate/workers/A1WF8OS5DR3JRB.log\n",
      "File: output/mturk/cltl-2019-01-23-evaluate/workers/A1I8TJRTQ5NI2I.log\n"
     ]
    }
   ],
   "source": [
    "from glob import glob\n",
    "workers_data = []\n",
    "for path in glob('output/mturk/cltl-2019-01-23-evaluate/workers/*.log'):\n",
    "    workers_data.append({\n",
    "        'workerId': os.path.basename(path).replace('.log', ''),\n",
    "        **extract_results_from_log_file(path)\n",
    "    })"
   ]
  },
  {
   "cell_type": "code",
   "execution_count": 73,
   "metadata": {},
   "outputs": [],
   "source": [
    "workers = pd.DataFrame(workers_data)"
   ]
  },
  {
   "cell_type": "code",
   "execution_count": 143,
   "metadata": {},
   "outputs": [],
   "source": [
    "event_durations_data = []\n",
    "for _, row in anns.iterrows():\n",
    "    event_start_timestamps = [0] + [int(evt.split(':')[0]) for evt in row['events'].split(';')]\n",
    "    event_durations = [end-start for start, end in zip(event_start_timestamps[:-1], event_start_timestamps[1:])]\n",
    "    event_durations_data.extend({'workerId': row['workerId'], \n",
    "                                 'conll_file': row['conll_file'],\n",
    "                                 'event_duration_sec': d / 1000} \n",
    "                                for d in event_durations if d > 0)"
   ]
  },
  {
   "cell_type": "code",
   "execution_count": 144,
   "metadata": {},
   "outputs": [],
   "source": [
    "event_durations = pd.DataFrame(event_durations_data)"
   ]
  },
  {
   "cell_type": "code",
   "execution_count": 146,
   "metadata": {},
   "outputs": [
    {
     "data": {
      "image/png": "[encoded data removed]",
      "text/plain": [
       "<Figure size 432x288 with 1 Axes>"
      ]
     },
     "metadata": {},
     "output_type": "display_data"
    }
   ],
   "source": [
    "_ = sns.boxplot(event_durations.event_duration_sec)"
   ]
  },
  {
   "cell_type": "markdown",
   "metadata": {},
   "source": [
    "We cut off some extreme cases because during the session, sometimes we stopped for discussion or pizza. "
   ]
  },
  {
   "cell_type": "code",
   "execution_count": 184,
   "metadata": {},
   "outputs": [
    {
     "name": "stdout",
     "output_type": "stream",
     "text": [
      "Threshold = 93.6 sec\n"
     ]
    }
   ],
   "source": [
    "threshold = event_durations.event_duration_sec.quantile(0.99)\n",
    "print('Threshold = %.1f sec' %threshold)"
   ]
  },
  {
   "cell_type": "code",
   "execution_count": 155,
   "metadata": {},
   "outputs": [],
   "source": [
    "event_durations_filtered = event_durations[event_durations.event_duration_sec <= threshold]"
   ]
  },
  {
   "cell_type": "code",
   "execution_count": 159,
   "metadata": {},
   "outputs": [],
   "source": [
    "doc_completion_time = event_durations_filtered.groupby(['workerId', 'conll_file']).sum()\n",
    "doc_completion_time['doc_completion_min'] = doc_completion_time['event_duration_sec'] / 60\n",
    "doc_completion_time = doc_completion_time.drop(columns='event_duration_sec')"
   ]
  },
  {
   "cell_type": "code",
   "execution_count": 162,
   "metadata": {},
   "outputs": [
    {
     "data": {
      "image/png": "[encoded data removed]",
      "text/plain": [
       "<Figure size 432x288 with 1 Axes>"
      ]
     },
     "metadata": {},
     "output_type": "display_data"
    }
   ],
   "source": [
    "_ = sns.distplot(doc_completion_time)"
   ]
  },
  {
   "cell_type": "code",
   "execution_count": 160,
   "metadata": {},
   "outputs": [
    {
     "data": {
      "text/html": [
       "<div>\n",
       "<style scoped>\n",
       "    .dataframe tbody tr th:only-of-type {\n",
       "        vertical-align: middle;\n",
       "    }\n",
       "\n",
       "    .dataframe tbody tr th {\n",
       "        vertical-align: top;\n",
       "    }\n",
       "\n",
       "    .dataframe thead th {\n",
       "        text-align: right;\n",
       "    }\n",
       "</style>\n",
       "<table border=\"1\" class=\"dataframe\">\n",
       "  <thead>\n",
       "    <tr style=\"text-align: right;\">\n",
       "      <th></th>\n",
       "      <th>doc_completion_min</th>\n",
       "    </tr>\n",
       "  </thead>\n",
       "  <tbody>\n",
       "    <tr>\n",
       "      <th>count</th>\n",
       "      <td>42.000000</td>\n",
       "    </tr>\n",
       "    <tr>\n",
       "      <th>mean</th>\n",
       "      <td>11.176073</td>\n",
       "    </tr>\n",
       "    <tr>\n",
       "      <th>std</th>\n",
       "      <td>10.929216</td>\n",
       "    </tr>\n",
       "    <tr>\n",
       "      <th>min</th>\n",
       "      <td>0.744317</td>\n",
       "    </tr>\n",
       "    <tr>\n",
       "      <th>25%</th>\n",
       "      <td>3.243383</td>\n",
       "    </tr>\n",
       "    <tr>\n",
       "      <th>50%</th>\n",
       "      <td>8.170033</td>\n",
       "    </tr>\n",
       "    <tr>\n",
       "      <th>75%</th>\n",
       "      <td>15.522025</td>\n",
       "    </tr>\n",
       "    <tr>\n",
       "      <th>max</th>\n",
       "      <td>44.760850</td>\n",
       "    </tr>\n",
       "  </tbody>\n",
       "</table>\n",
       "</div>"
      ],
      "text/plain": [
       "       doc_completion_min\n",
       "count           42.000000\n",
       "mean            11.176073\n",
       "std             10.929216\n",
       "min              0.744317\n",
       "25%              3.243383\n",
       "50%              8.170033\n",
       "75%             15.522025\n",
       "max             44.760850"
      ]
     },
     "execution_count": 160,
     "metadata": {},
     "output_type": "execute_result"
    }
   ],
   "source": [
    "doc_completion_time.describe()"
   ]
  },
  {
   "cell_type": "code",
   "execution_count": 176,
   "metadata": {},
   "outputs": [],
   "source": [
    "time_per_worker = doc_completion_time.groupby('workerId').mean()\n",
    "time_per_worker['docs_per_hour'] = 60 / time_per_worker['doc_completion_min']"
   ]
  },
  {
   "cell_type": "code",
   "execution_count": 180,
   "metadata": {},
   "outputs": [],
   "source": [
    "counts = anns.groupby('workerId').size()\n",
    "workload = counts * 100.0 / counts.sum()\n",
    "workload.name = 'workload_pct'"
   ]
  },
  {
   "cell_type": "code",
   "execution_count": 181,
   "metadata": {},
   "outputs": [],
   "source": [
    "workers_with_workload = workers.set_index('workerId').join(workload).join(time_per_worker).reset_index()"
   ]
  },
  {
   "cell_type": "code",
   "execution_count": 182,
   "metadata": {},
   "outputs": [],
   "source": [
    "results_long_form = pd.melt(workers_with_workload[['workerId', 'f1_conll', 'workload_pct', 'docs_per_hour']], \n",
    "                            id_vars=\"workerId\", var_name=\"measurement\", value_name=\"value\")"
   ]
  },
  {
   "cell_type": "code",
   "execution_count": 183,
   "metadata": {},
   "outputs": [
    {
     "data": {
      "image/png": "[encoded data removed]",
      "text/plain": [
       "<Figure size 432x288 with 1 Axes>"
      ]
     },
     "metadata": {},
     "output_type": "display_data"
    }
   ],
   "source": [
    "ax = sns.barplot(x='workerId', y='value', hue='measurement', data=results_long_form)\n",
    "_ = ax.set_xticklabels(ax.get_xticklabels(), rotation=60)"
   ]
  },
  {
   "cell_type": "markdown",
   "metadata": {},
   "source": [
    "# Look at abnormal points in the data"
   ]
  },
  {
   "cell_type": "markdown",
   "metadata": {},
   "source": [
    "The performance of CLTL annotators is abnormally low at `nonmen_40` and high at `nonmen_60`. Similarly, `men_20` and `men_30` is done better than `men_10`. let's see if something was wrong?"
   ]
  },
  {
   "cell_type": "code",
   "execution_count": 52,
   "metadata": {},
   "outputs": [
    {
     "data": {
      "text/plain": [
       "transformation\n",
       "men_10         2\n",
       "men_20         1\n",
       "men_30         1\n",
       "men_40         1\n",
       "men_60         1\n",
       "men_70         1\n",
       "no-external    2\n",
       "no-internal    3\n",
       "no-name        2\n",
       "nonmen_10      2\n",
       "nonmen_20      3\n",
       "nonmen_40      1\n",
       "nonmen_50      3\n",
       "nonmen_60      1\n",
       "nonmen_70      6\n",
       "dtype: int64"
      ]
     },
     "execution_count": 52,
     "metadata": {},
     "output_type": "execute_result"
    }
   ],
   "source": [
    "anns.groupby('transformation').size()"
   ]
  },
  {
   "cell_type": "code",
   "execution_count": 42,
   "metadata": {},
   "outputs": [
    {
     "data": {
      "text/html": [
       "<div>\n",
       "<style scoped>\n",
       "    .dataframe tbody tr th:only-of-type {\n",
       "        vertical-align: middle;\n",
       "    }\n",
       "\n",
       "    .dataframe tbody tr th {\n",
       "        vertical-align: top;\n",
       "    }\n",
       "\n",
       "    .dataframe thead th {\n",
       "        text-align: right;\n",
       "    }\n",
       "</style>\n",
       "<table border=\"1\" class=\"dataframe\">\n",
       "  <thead>\n",
       "    <tr style=\"text-align: right;\">\n",
       "      <th></th>\n",
       "      <th>blanks</th>\n",
       "      <th>chains</th>\n",
       "      <th>conll_file</th>\n",
       "      <th>doc</th>\n",
       "      <th>events</th>\n",
       "      <th>improvement</th>\n",
       "      <th>problems</th>\n",
       "      <th>sent_begin</th>\n",
       "      <th>sent_end</th>\n",
       "      <th>submit</th>\n",
       "      <th>workerId</th>\n",
       "      <th>transformation</th>\n",
       "    </tr>\n",
       "  </thead>\n",
       "  <tbody>\n",
       "    <tr>\n",
       "      <th>2</th>\n",
       "      <td>NaN</td>\n",
       "      <td>mention_0_0=mention_3_3=mention_16_16=mention_...</td>\n",
       "      <td>output/conll-2012-transformed.v2/nonmen_40/dev...</td>\n",
       "      <td>(bc/msnbc/00/msnbc_0000); part 019</td>\n",
       "      <td>652140:start_grouping;652140:add_singleton(men...</td>\n",
       "      <td>NaN</td>\n",
       "      <td>NaN</td>\n",
       "      <td>0</td>\n",
       "      <td>13</td>\n",
       "      <td>NaN</td>\n",
       "      <td>A2ZSJQ8UYSJ8LX</td>\n",
       "      <td>nonmen_40</td>\n",
       "    </tr>\n",
       "  </tbody>\n",
       "</table>\n",
       "</div>"
      ],
      "text/plain": [
       "  blanks                                             chains  \\\n",
       "2    NaN  mention_0_0=mention_3_3=mention_16_16=mention_...   \n",
       "\n",
       "                                          conll_file  \\\n",
       "2  output/conll-2012-transformed.v2/nonmen_40/dev...   \n",
       "\n",
       "                                  doc  \\\n",
       "2  (bc/msnbc/00/msnbc_0000); part 019   \n",
       "\n",
       "                                              events  improvement problems  \\\n",
       "2  652140:start_grouping;652140:add_singleton(men...          NaN      NaN   \n",
       "\n",
       "   sent_begin  sent_end  submit        workerId transformation  \n",
       "2           0        13     NaN  A2ZSJQ8UYSJ8LX      nonmen_40  "
      ]
     },
     "execution_count": 42,
     "metadata": {},
     "output_type": "execute_result"
    }
   ],
   "source": [
    "anns[anns.transformation == 'nonmen_40']"
   ]
  },
  {
   "cell_type": "code",
   "execution_count": 43,
   "metadata": {},
   "outputs": [
    {
     "data": {
      "text/html": [
       "<div>\n",
       "<style scoped>\n",
       "    .dataframe tbody tr th:only-of-type {\n",
       "        vertical-align: middle;\n",
       "    }\n",
       "\n",
       "    .dataframe tbody tr th {\n",
       "        vertical-align: top;\n",
       "    }\n",
       "\n",
       "    .dataframe thead th {\n",
       "        text-align: right;\n",
       "    }\n",
       "</style>\n",
       "<table border=\"1\" class=\"dataframe\">\n",
       "  <thead>\n",
       "    <tr style=\"text-align: right;\">\n",
       "      <th></th>\n",
       "      <th>blanks</th>\n",
       "      <th>chains</th>\n",
       "      <th>conll_file</th>\n",
       "      <th>doc</th>\n",
       "      <th>events</th>\n",
       "      <th>improvement</th>\n",
       "      <th>problems</th>\n",
       "      <th>sent_begin</th>\n",
       "      <th>sent_end</th>\n",
       "      <th>submit</th>\n",
       "      <th>workerId</th>\n",
       "      <th>transformation</th>\n",
       "    </tr>\n",
       "  </thead>\n",
       "  <tbody>\n",
       "    <tr>\n",
       "      <th>24</th>\n",
       "      <td>blank_token_34=_when_or,blank_token_35=_someth...</td>\n",
       "      <td>mention_0_7=mention_44_44=mention_47_47=mentio...</td>\n",
       "      <td>output/conll-2012-transformed.v2/nonmen_60/dev...</td>\n",
       "      <td>(nw/wsj/24/wsj_2423); part 000</td>\n",
       "      <td>372795:start_grouping;372795:add_singleton(men...</td>\n",
       "      <td>NaN</td>\n",
       "      <td>Only worked because it was short</td>\n",
       "      <td>0</td>\n",
       "      <td>4</td>\n",
       "      <td>NaN</td>\n",
       "      <td>A37IPL6DILIK8T</td>\n",
       "      <td>nonmen_60</td>\n",
       "    </tr>\n",
       "  </tbody>\n",
       "</table>\n",
       "</div>"
      ],
      "text/plain": [
       "                                               blanks  \\\n",
       "24  blank_token_34=_when_or,blank_token_35=_someth...   \n",
       "\n",
       "                                               chains  \\\n",
       "24  mention_0_7=mention_44_44=mention_47_47=mentio...   \n",
       "\n",
       "                                           conll_file  \\\n",
       "24  output/conll-2012-transformed.v2/nonmen_60/dev...   \n",
       "\n",
       "                               doc  \\\n",
       "24  (nw/wsj/24/wsj_2423); part 000   \n",
       "\n",
       "                                               events  improvement  \\\n",
       "24  372795:start_grouping;372795:add_singleton(men...          NaN   \n",
       "\n",
       "                            problems  sent_begin  sent_end  submit  \\\n",
       "24  Only worked because it was short           0         4     NaN   \n",
       "\n",
       "          workerId transformation  \n",
       "24  A37IPL6DILIK8T      nonmen_60  "
      ]
     },
     "execution_count": 43,
     "metadata": {},
     "output_type": "execute_result"
    }
   ],
   "source": [
    "anns[anns.transformation == 'nonmen_60']"
   ]
  },
  {
   "cell_type": "markdown",
   "metadata": {},
   "source": [
    "# Evaluate individual assignment\n",
    "\n",
    "(don't know what to do with this yet)"
   ]
  },
  {
   "cell_type": "code",
   "execution_count": 63,
   "metadata": {},
   "outputs": [],
   "source": [
    "def evaluate_assignment(ann_row):\n",
    "    _, ann_doc = extract_conll(ann_row)\n",
    "    path_gold = ann_row['conll_file']\n",
    "    base_name = os.path.basename(path_gold) + '_' + ann_row['workerId'] + '_'\n",
    "    _, path_ann = tempfile.mkstemp(suffix='.ann_conll', prefix=base_name)\n",
    "    with open(path_ann, 'w') as f:\n",
    "        corpora.Corpus(\"ann\", [ann_doc]).write_to_file(f)\n",
    "    eval_output = subprocess.check_output([scorer, 'all', path_gold, path_ann])\n",
    "    return extract_results_from_log_file(StringIO(eval_output.decode('utf-8')))"
   ]
  },
  {
   "cell_type": "code",
   "execution_count": 64,
   "metadata": {},
   "outputs": [
    {
     "data": {
      "text/plain": [
       "{'mention_r': '100',\n",
       " 'mention_p': '100',\n",
       " 'f1_muc': '72.72',\n",
       " 'f1_bcub': '84.74',\n",
       " 'f1_ceafe': '75.15',\n",
       " 'f1_conll': 77.53666666666666}"
      ]
     },
     "execution_count": 64,
     "metadata": {},
     "output_type": "execute_result"
    }
   ],
   "source": [
    "evaluate_assignment(anns.iloc[0])"
   ]
  }
 ],
 "metadata": {
  "kernelspec": {
   "display_name": "Python 3",
   "language": "python",
   "name": "python3"
  },
  "language_info": {
   "codemirror_mode": {
    "name": "ipython",
    "version": 3
   },
   "file_extension": ".py",
   "mimetype": "text/x-python",
   "name": "python",
   "nbconvert_exporter": "python",
   "pygments_lexer": "ipython3",
   "version": "3.6.2"
  }
 },
 "nbformat": 4,
 "nbformat_minor": 2
}
