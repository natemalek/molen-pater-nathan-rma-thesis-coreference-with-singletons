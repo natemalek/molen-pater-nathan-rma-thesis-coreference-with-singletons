{
 "cells": [
  {
   "cell_type": "code",
   "execution_count": 37,
   "metadata": {},
   "outputs": [],
   "source": [
    "%matplotlib inline\n",
    "import os\n",
    "from glob import glob\n",
    "import re\n",
    "import pandas as pd\n",
    "import numpy as np\n",
    "from pyhocon import ConfigFactory\n",
    "import pyperclip\n",
    "from matplotlib import pyplot as plt"
   ]
  },
  {
   "cell_type": "code",
   "execution_count": 2,
   "metadata": {},
   "outputs": [],
   "source": [
    "input_dir = '../output/conll-2012-transformed'\n",
    "os.environ['mturk_input_dir'] = input_dir\n",
    "os.environ['experiment_name'] = ''"
   ]
  },
  {
   "cell_type": "code",
   "execution_count": 3,
   "metadata": {},
   "outputs": [],
   "source": [
    "suffix = '.m_gold_conll'"
   ]
  },
  {
   "cell_type": "code",
   "execution_count": 4,
   "metadata": {},
   "outputs": [],
   "source": [
    "def paths2df(paths, experiment_name=None):\n",
    "    data = [\n",
    "        {\n",
    "            'experiment': experiment_name,\n",
    "            'path': path,\n",
    "            'genre': re.findall(r'/(\\w{2})_', path)[0],\n",
    "            'transformation': re.findall(r'/([\\w-]+)/(?:dev|train|test)', path)[0],\n",
    "            'base_doc': re.findall(r'/(\\w+)\\.m.*conll$', path)[0],\n",
    "        } \n",
    "        for path in paths\n",
    "    ]\n",
    "    return pd.DataFrame(data)"
   ]
  },
  {
   "cell_type": "code",
   "execution_count": 5,
   "metadata": {},
   "outputs": [],
   "source": [
    "def copy_conf_string_clipboard(df):\n",
    "    paths = df['path']\n",
    "    paths = [re.sub(re.escape(input_dir), '${input_dir}\"', p) for p in paths]\n",
    "    paths = [re.sub(re.escape(suffix), '\"${suffix}', p) for p in paths]\n",
    "    conf_str = '\\n'.join('    %s,' %p for p in paths)\n",
    "    pyperclip.copy(conf_str)"
   ]
  },
  {
   "cell_type": "code",
   "execution_count": 66,
   "metadata": {},
   "outputs": [],
   "source": [
    "def check_assignments_one_annotator(*dfs):\n",
    "    ''' \n",
    "    Check that the data frames contain each underlying document only once\n",
    "    or otherwise in an acceptable way. If a document first appear with \n",
    "    80% mentions removed and later with 20%, an annotator wouldn't have knowledge\n",
    "    of anything other than what is shown so it's ok (the generation algorithm make sure\n",
    "    that the masked mentions in the 20% case are a strict subset of those in 80%).\n",
    "    '''\n",
    "    df = pd.concat(dfs)\n",
    "    def check_group(g):\n",
    "        if len(g) <= 1:\n",
    "            return True\n",
    "        transformations = list(g['transformation'])\n",
    "        if all(t.startswith('men_') or t == 'orig' for t in transformations):\n",
    "            percentages = [0 if t == 'orig' else int(t.replace('men_', '')) \n",
    "                           for t in transformations]\n",
    "            return all(p1 > p2 for p1, p2 in zip(percentages, percentages[1:]))\n",
    "        if all(t.startswith('nonmen_') or t == 'orig' for t in transformations):\n",
    "            percentages = [0 if t == 'orig' else int(t.replace('nonmen_', '')) \n",
    "                           for t in transformations]\n",
    "            return all(p1 > p2 for p1, p2 in zip(percentages, percentages[1:]))\n",
    "        return False\n",
    "    df_check = df.groupby('base_doc').apply(check_group)\n",
    "    if not all(df_check):\n",
    "        print('Found problematic assignment:')\n",
    "        print(df_check[df_check == False])\n",
    "        assert False\n",
    "    print('No problem was found')"
   ]
  },
  {
   "cell_type": "markdown",
   "metadata": {},
   "source": [
    "## All available documents"
   ]
  },
  {
   "cell_type": "code",
   "execution_count": 7,
   "metadata": {},
   "outputs": [],
   "source": [
    "full_paths = sorted(glob(os.path.join(input_dir, '*', 'dev', '*' + suffix)) +\n",
    "                    glob(os.path.join(input_dir, '*', 'test', '*' + suffix)))"
   ]
  },
  {
   "cell_type": "code",
   "execution_count": 8,
   "metadata": {},
   "outputs": [],
   "source": [
    "paths_df = paths2df(full_paths)"
   ]
  },
  {
   "cell_type": "code",
   "execution_count": 9,
   "metadata": {},
   "outputs": [
    {
     "data": {
      "text/html": [
       "<div>\n",
       "<style scoped>\n",
       "    .dataframe tbody tr th:only-of-type {\n",
       "        vertical-align: middle;\n",
       "    }\n",
       "\n",
       "    .dataframe tbody tr th {\n",
       "        vertical-align: top;\n",
       "    }\n",
       "\n",
       "    .dataframe thead th {\n",
       "        text-align: right;\n",
       "    }\n",
       "</style>\n",
       "<table border=\"1\" class=\"dataframe\">\n",
       "  <thead>\n",
       "    <tr style=\"text-align: right;\">\n",
       "      <th></th>\n",
       "      <th>base_doc</th>\n",
       "      <th>experiment</th>\n",
       "      <th>genre</th>\n",
       "      <th>path</th>\n",
       "      <th>transformation</th>\n",
       "    </tr>\n",
       "  </thead>\n",
       "  <tbody>\n",
       "    <tr>\n",
       "      <th>0</th>\n",
       "      <td>bc_cctv_00_cctv_0000___part_000</td>\n",
       "      <td>None</td>\n",
       "      <td>bc</td>\n",
       "      <td>../output/conll-2012-transformed/men_100/dev/b...</td>\n",
       "      <td>men_100</td>\n",
       "    </tr>\n",
       "    <tr>\n",
       "      <th>1</th>\n",
       "      <td>bc_cctv_00_cctv_0000___part_001</td>\n",
       "      <td>None</td>\n",
       "      <td>bc</td>\n",
       "      <td>../output/conll-2012-transformed/men_100/dev/b...</td>\n",
       "      <td>men_100</td>\n",
       "    </tr>\n",
       "    <tr>\n",
       "      <th>2</th>\n",
       "      <td>bc_cctv_00_cctv_0000___part_002</td>\n",
       "      <td>None</td>\n",
       "      <td>bc</td>\n",
       "      <td>../output/conll-2012-transformed/men_100/dev/b...</td>\n",
       "      <td>men_100</td>\n",
       "    </tr>\n",
       "  </tbody>\n",
       "</table>\n",
       "</div>"
      ],
      "text/plain": [
       "                          base_doc experiment genre  \\\n",
       "0  bc_cctv_00_cctv_0000___part_000       None    bc   \n",
       "1  bc_cctv_00_cctv_0000___part_001       None    bc   \n",
       "2  bc_cctv_00_cctv_0000___part_002       None    bc   \n",
       "\n",
       "                                                path transformation  \n",
       "0  ../output/conll-2012-transformed/men_100/dev/b...        men_100  \n",
       "1  ../output/conll-2012-transformed/men_100/dev/b...        men_100  \n",
       "2  ../output/conll-2012-transformed/men_100/dev/b...        men_100  "
      ]
     },
     "execution_count": 9,
     "metadata": {},
     "output_type": "execute_result"
    }
   ],
   "source": [
    "paths_df.head(3)"
   ]
  },
  {
   "cell_type": "code",
   "execution_count": 10,
   "metadata": {},
   "outputs": [
    {
     "data": {
      "text/html": [
       "<div>\n",
       "<style scoped>\n",
       "    .dataframe tbody tr th:only-of-type {\n",
       "        vertical-align: middle;\n",
       "    }\n",
       "\n",
       "    .dataframe tbody tr th {\n",
       "        vertical-align: top;\n",
       "    }\n",
       "\n",
       "    .dataframe thead th {\n",
       "        text-align: right;\n",
       "    }\n",
       "</style>\n",
       "<table border=\"1\" class=\"dataframe\">\n",
       "  <thead>\n",
       "    <tr style=\"text-align: right;\">\n",
       "      <th></th>\n",
       "      <th>path</th>\n",
       "    </tr>\n",
       "    <tr>\n",
       "      <th>transformation</th>\n",
       "      <th></th>\n",
       "    </tr>\n",
       "  </thead>\n",
       "  <tbody>\n",
       "    <tr>\n",
       "      <th>men_100</th>\n",
       "      <td>687</td>\n",
       "    </tr>\n",
       "    <tr>\n",
       "      <th>men_20</th>\n",
       "      <td>688</td>\n",
       "    </tr>\n",
       "    <tr>\n",
       "      <th>men_40</th>\n",
       "      <td>687</td>\n",
       "    </tr>\n",
       "    <tr>\n",
       "      <th>men_60</th>\n",
       "      <td>687</td>\n",
       "    </tr>\n",
       "    <tr>\n",
       "      <th>men_80</th>\n",
       "      <td>687</td>\n",
       "    </tr>\n",
       "    <tr>\n",
       "      <th>no-external</th>\n",
       "      <td>688</td>\n",
       "    </tr>\n",
       "    <tr>\n",
       "      <th>no-internal</th>\n",
       "      <td>688</td>\n",
       "    </tr>\n",
       "    <tr>\n",
       "      <th>no-name</th>\n",
       "      <td>688</td>\n",
       "    </tr>\n",
       "    <tr>\n",
       "      <th>nonmen_100</th>\n",
       "      <td>687</td>\n",
       "    </tr>\n",
       "    <tr>\n",
       "      <th>nonmen_20</th>\n",
       "      <td>688</td>\n",
       "    </tr>\n",
       "    <tr>\n",
       "      <th>nonmen_40</th>\n",
       "      <td>687</td>\n",
       "    </tr>\n",
       "    <tr>\n",
       "      <th>nonmen_60</th>\n",
       "      <td>686</td>\n",
       "    </tr>\n",
       "    <tr>\n",
       "      <th>nonmen_80</th>\n",
       "      <td>686</td>\n",
       "    </tr>\n",
       "    <tr>\n",
       "      <th>orig</th>\n",
       "      <td>688</td>\n",
       "    </tr>\n",
       "  </tbody>\n",
       "</table>\n",
       "</div>"
      ],
      "text/plain": [
       "                path\n",
       "transformation      \n",
       "men_100          687\n",
       "men_20           688\n",
       "men_40           687\n",
       "men_60           687\n",
       "men_80           687\n",
       "no-external      688\n",
       "no-internal      688\n",
       "no-name          688\n",
       "nonmen_100       687\n",
       "nonmen_20        688\n",
       "nonmen_40        687\n",
       "nonmen_60        686\n",
       "nonmen_80        686\n",
       "orig             688"
      ]
     },
     "execution_count": 10,
     "metadata": {},
     "output_type": "execute_result"
    }
   ],
   "source": [
    "paths_df.groupby('transformation').agg({'path': 'count'})"
   ]
  },
  {
   "cell_type": "code",
   "execution_count": 36,
   "metadata": {},
   "outputs": [
    {
     "data": {
      "image/png": "[encoded data removed]",
      "text/plain": [
       "<Figure size 432x288 with 1 Axes>"
      ]
     },
     "metadata": {
      "needs_background": "light"
     },
     "output_type": "display_data"
    }
   ],
   "source": [
    "_ = paths_df.groupby('genre').agg({'path': 'count'}).plot.bar()"
   ]
  },
  {
   "cell_type": "markdown",
   "metadata": {},
   "source": [
    "## CLTL pilot on 23 Jan 2019"
   ]
  },
  {
   "cell_type": "code",
   "execution_count": 12,
   "metadata": {},
   "outputs": [],
   "source": [
    "conf_cltl_unmasked = ConfigFactory.parse_file('../mturk/configs/cltl-2019-01-23-unmasked.conf')\n",
    "conf_cltl_masked = ConfigFactory.parse_file('../mturk/configs/cltl-2019-01-23-masked.conf')"
   ]
  },
  {
   "cell_type": "code",
   "execution_count": 13,
   "metadata": {},
   "outputs": [],
   "source": [
    "cltl_pilot = paths2df(conf_cltl_unmasked.get_list('input_paths') + conf_cltl_masked.get_list('input_paths'))"
   ]
  },
  {
   "cell_type": "code",
   "execution_count": 14,
   "metadata": {
    "scrolled": true
   },
   "outputs": [
    {
     "data": {
      "text/html": [
       "<div>\n",
       "<style scoped>\n",
       "    .dataframe tbody tr th:only-of-type {\n",
       "        vertical-align: middle;\n",
       "    }\n",
       "\n",
       "    .dataframe tbody tr th {\n",
       "        vertical-align: top;\n",
       "    }\n",
       "\n",
       "    .dataframe thead th {\n",
       "        text-align: right;\n",
       "    }\n",
       "</style>\n",
       "<table border=\"1\" class=\"dataframe\">\n",
       "  <thead>\n",
       "    <tr style=\"text-align: right;\">\n",
       "      <th></th>\n",
       "      <th>base_doc</th>\n",
       "      <th>experiment</th>\n",
       "      <th>genre</th>\n",
       "      <th>path</th>\n",
       "      <th>transformation</th>\n",
       "    </tr>\n",
       "  </thead>\n",
       "  <tbody>\n",
       "    <tr>\n",
       "      <th>0</th>\n",
       "      <td>bc_msnbc_00_msnbc_0000___part_004</td>\n",
       "      <td>None</td>\n",
       "      <td>bc</td>\n",
       "      <td>../output/conll-2012-transformed/orig/dev/bc_m...</td>\n",
       "      <td>orig</td>\n",
       "    </tr>\n",
       "    <tr>\n",
       "      <th>1</th>\n",
       "      <td>bc_cctv_00_cctv_0000___part_011</td>\n",
       "      <td>None</td>\n",
       "      <td>bc</td>\n",
       "      <td>../output/conll-2012-transformed/orig/dev/bc_c...</td>\n",
       "      <td>orig</td>\n",
       "    </tr>\n",
       "    <tr>\n",
       "      <th>2</th>\n",
       "      <td>bn_voa_00_voa_0090___part_000</td>\n",
       "      <td>None</td>\n",
       "      <td>bn</td>\n",
       "      <td>../output/conll-2012-transformed/orig/dev/bn_v...</td>\n",
       "      <td>orig</td>\n",
       "    </tr>\n",
       "  </tbody>\n",
       "</table>\n",
       "</div>"
      ],
      "text/plain": [
       "                            base_doc experiment genre  \\\n",
       "0  bc_msnbc_00_msnbc_0000___part_004       None    bc   \n",
       "1    bc_cctv_00_cctv_0000___part_011       None    bc   \n",
       "2      bn_voa_00_voa_0090___part_000       None    bn   \n",
       "\n",
       "                                                path transformation  \n",
       "0  ../output/conll-2012-transformed/orig/dev/bc_m...           orig  \n",
       "1  ../output/conll-2012-transformed/orig/dev/bc_c...           orig  \n",
       "2  ../output/conll-2012-transformed/orig/dev/bn_v...           orig  "
      ]
     },
     "execution_count": 14,
     "metadata": {},
     "output_type": "execute_result"
    }
   ],
   "source": [
    "cltl_pilot.head(3)"
   ]
  },
  {
   "cell_type": "code",
   "execution_count": 15,
   "metadata": {
    "scrolled": true
   },
   "outputs": [
    {
     "data": {
      "image/png": "[encoded data removed]",
      "text/plain": [
       "<Figure size 432x288 with 1 Axes>"
      ]
     },
     "metadata": {
      "needs_background": "light"
     },
     "output_type": "display_data"
    }
   ],
   "source": [
    "_ = cltl_pilot.groupby('genre')['path'].count().plot.bar()"
   ]
  },
  {
   "cell_type": "code",
   "execution_count": 16,
   "metadata": {},
   "outputs": [
    {
     "data": {
      "image/png": "[encoded data removed]",
      "text/plain": [
       "<Figure size 432x288 with 1 Axes>"
      ]
     },
     "metadata": {
      "needs_background": "light"
     },
     "output_type": "display_data"
    }
   ],
   "source": [
    "_ = cltl_pilot.groupby('transformation')['path'].count().plot.bar()"
   ]
  },
  {
   "cell_type": "code",
   "execution_count": 17,
   "metadata": {},
   "outputs": [
    {
     "data": {
      "text/plain": [
       "114"
      ]
     },
     "execution_count": 17,
     "metadata": {},
     "output_type": "execute_result"
    }
   ],
   "source": [
    "len(cltl_pilot.base_doc.unique())"
   ]
  },
  {
   "cell_type": "code",
   "execution_count": 18,
   "metadata": {},
   "outputs": [],
   "source": [
    "cltl_docs = set(cltl_pilot.base_doc.values)"
   ]
  },
  {
   "cell_type": "markdown",
   "metadata": {},
   "source": [
    "## Student1's documents\n",
    "\n",
    "Student1 is exposed to CLTL pilot documents (both masked and unmasked) so we need to sample other documents for her. The estimation of 11 min per document (measured during CLTL pilot), she would be able to finish more documents than what's available, so we just picked one version per base document."
   ]
  },
  {
   "cell_type": "code",
   "execution_count": 19,
   "metadata": {},
   "outputs": [],
   "source": [
    "student1_conf = ConfigFactory.parse_file('../mturk/configs/student1-2019-03-14.conf')"
   ]
  },
  {
   "cell_type": "code",
   "execution_count": 20,
   "metadata": {},
   "outputs": [],
   "source": [
    "student1_paths = paths2df(student1_conf.get_list('input_paths'), 'student1')"
   ]
  },
  {
   "cell_type": "code",
   "execution_count": 21,
   "metadata": {},
   "outputs": [],
   "source": [
    "check_assignments_one_annotator(student1_paths)"
   ]
  },
  {
   "cell_type": "code",
   "execution_count": 22,
   "metadata": {},
   "outputs": [
    {
     "name": "stdout",
     "output_type": "stream",
     "text": [
      "Number of documents: 333\n"
     ]
    }
   ],
   "source": [
    "print(\"Number of documents: %d\" % len(student1_paths))"
   ]
  },
  {
   "cell_type": "code",
   "execution_count": 76,
   "metadata": {},
   "outputs": [],
   "source": [
    "def compare_genre_distribution(df):\n",
    "    fig, axes = plt.subplots(ncols=2, figsize=(8,4))\n",
    "    df.groupby('genre')['path'].count().plot.bar(ax=axes[0])\n",
    "    axes[0].title.set_text('Student')\n",
    "    paths_df.groupby('genre').agg({'path': 'count'}).plot.bar(ax=axes[1])\n",
    "    axes[1].title.set_text('Reference')"
   ]
  },
  {
   "cell_type": "code",
   "execution_count": 77,
   "metadata": {},
   "outputs": [
    {
     "data": {
      "image/png": "[encoded data removed]",
      "text/plain": [
       "<Figure size 576x288 with 2 Axes>"
      ]
     },
     "metadata": {
      "needs_background": "light"
     },
     "output_type": "display_data"
    }
   ],
   "source": [
    "compare_genre_distribution(student1_paths)"
   ]
  },
  {
   "cell_type": "code",
   "execution_count": 78,
   "metadata": {},
   "outputs": [
    {
     "data": {
      "image/png": "[encoded data removed]",
      "text/plain": [
       "<Figure size 432x288 with 1 Axes>"
      ]
     },
     "metadata": {
      "needs_background": "light"
     },
     "output_type": "display_data"
    }
   ],
   "source": [
    "_ = student1_paths.groupby('transformation')['path'].count().plot.bar()"
   ]
  },
  {
   "cell_type": "code",
   "execution_count": 79,
   "metadata": {},
   "outputs": [],
   "source": [
    "student1_docs = set(student1_paths.base_doc.values)"
   ]
  },
  {
   "cell_type": "markdown",
   "metadata": {},
   "source": [
    "# Student2's documents"
   ]
  },
  {
   "cell_type": "markdown",
   "metadata": {},
   "source": [
    "Student 2 will work on some of the same documents as student 1 and can also work on the documents that CLTL members have seen."
   ]
  },
  {
   "cell_type": "code",
   "execution_count": 80,
   "metadata": {},
   "outputs": [],
   "source": [
    "student2_practice_conf = ConfigFactory.parse_file('../mturk/configs/student2-practice.conf')"
   ]
  },
  {
   "cell_type": "code",
   "execution_count": 81,
   "metadata": {},
   "outputs": [],
   "source": [
    "student2_practice_paths = paths2df(student2_practice_conf.get_list('input_paths'))"
   ]
  },
  {
   "cell_type": "code",
   "execution_count": 82,
   "metadata": {},
   "outputs": [],
   "source": [
    "student2_conf = ConfigFactory.parse_file('../mturk/configs/student2-2019-03-29.conf')"
   ]
  },
  {
   "cell_type": "code",
   "execution_count": 83,
   "metadata": {},
   "outputs": [],
   "source": [
    "student2_paths = paths2df(student2_conf.get_list('input_paths'), 'student2')"
   ]
  },
  {
   "cell_type": "code",
   "execution_count": 84,
   "metadata": {},
   "outputs": [
    {
     "name": "stdout",
     "output_type": "stream",
     "text": [
      "No problem was found\n"
     ]
    }
   ],
   "source": [
    "check_assignments_one_annotator(student2_practice_paths, student2_paths)"
   ]
  },
  {
   "cell_type": "code",
   "execution_count": 85,
   "metadata": {},
   "outputs": [
    {
     "data": {
      "text/plain": [
       "460"
      ]
     },
     "execution_count": 85,
     "metadata": {},
     "output_type": "execute_result"
    }
   ],
   "source": [
    "len(student2_paths)"
   ]
  },
  {
   "cell_type": "code",
   "execution_count": 86,
   "metadata": {},
   "outputs": [
    {
     "data": {
      "text/html": [
       "<div>\n",
       "<style scoped>\n",
       "    .dataframe tbody tr th:only-of-type {\n",
       "        vertical-align: middle;\n",
       "    }\n",
       "\n",
       "    .dataframe tbody tr th {\n",
       "        vertical-align: top;\n",
       "    }\n",
       "\n",
       "    .dataframe thead th {\n",
       "        text-align: right;\n",
       "    }\n",
       "</style>\n",
       "<table border=\"1\" class=\"dataframe\">\n",
       "  <thead>\n",
       "    <tr style=\"text-align: right;\">\n",
       "      <th></th>\n",
       "      <th>base_doc</th>\n",
       "      <th>experiment</th>\n",
       "      <th>genre</th>\n",
       "      <th>path</th>\n",
       "      <th>transformation</th>\n",
       "    </tr>\n",
       "  </thead>\n",
       "  <tbody>\n",
       "    <tr>\n",
       "      <th>457</th>\n",
       "      <td>nw_wsj_23_wsj_2369___part_000</td>\n",
       "      <td>student2</td>\n",
       "      <td>nw</td>\n",
       "      <td>../output/conll-2012-transformed/men_20/test/n...</td>\n",
       "      <td>men_20</td>\n",
       "    </tr>\n",
       "    <tr>\n",
       "      <th>458</th>\n",
       "      <td>nw_wsj_23_wsj_2370___part_000</td>\n",
       "      <td>student2</td>\n",
       "      <td>nw</td>\n",
       "      <td>../output/conll-2012-transformed/men_80/test/n...</td>\n",
       "      <td>men_80</td>\n",
       "    </tr>\n",
       "    <tr>\n",
       "      <th>459</th>\n",
       "      <td>nw_wsj_23_wsj_2371___part_000</td>\n",
       "      <td>student2</td>\n",
       "      <td>nw</td>\n",
       "      <td>../output/conll-2012-transformed/nonmen_100/te...</td>\n",
       "      <td>nonmen_100</td>\n",
       "    </tr>\n",
       "  </tbody>\n",
       "</table>\n",
       "</div>"
      ],
      "text/plain": [
       "                          base_doc experiment genre  \\\n",
       "457  nw_wsj_23_wsj_2369___part_000   student2    nw   \n",
       "458  nw_wsj_23_wsj_2370___part_000   student2    nw   \n",
       "459  nw_wsj_23_wsj_2371___part_000   student2    nw   \n",
       "\n",
       "                                                  path transformation  \n",
       "457  ../output/conll-2012-transformed/men_20/test/n...         men_20  \n",
       "458  ../output/conll-2012-transformed/men_80/test/n...         men_80  \n",
       "459  ../output/conll-2012-transformed/nonmen_100/te...     nonmen_100  "
      ]
     },
     "execution_count": 86,
     "metadata": {},
     "output_type": "execute_result"
    }
   ],
   "source": [
    "student2_paths.tail(3)"
   ]
  },
  {
   "cell_type": "code",
   "execution_count": 87,
   "metadata": {},
   "outputs": [
    {
     "data": {
      "image/png": "[encoded data removed]",
      "text/plain": [
       "<Figure size 576x288 with 2 Axes>"
      ]
     },
     "metadata": {
      "needs_background": "light"
     },
     "output_type": "display_data"
    }
   ],
   "source": [
    "compare_genre_distribution(student2_paths)"
   ]
  },
  {
   "cell_type": "code",
   "execution_count": 88,
   "metadata": {},
   "outputs": [
    {
     "data": {
      "image/png": "[encoded data removed]",
      "text/plain": [
       "<Figure size 432x288 with 1 Axes>"
      ]
     },
     "metadata": {
      "needs_background": "light"
     },
     "output_type": "display_data"
    }
   ],
   "source": [
    "_ = student2_paths.groupby('transformation')['path'].count().plot.bar()"
   ]
  },
  {
   "cell_type": "markdown",
   "metadata": {},
   "source": [
    "# Student3's documents"
   ]
  },
  {
   "cell_type": "markdown",
   "metadata": {},
   "source": [
    "This student will work on the same documents that student 1 and 2 have worked on, so that each document is annotated by 2 workers."
   ]
  },
  {
   "cell_type": "code",
   "execution_count": 45,
   "metadata": {},
   "outputs": [],
   "source": [
    "student3_conf = ConfigFactory.parse_file('../mturk/configs/student3-2019-03-29.conf')"
   ]
  },
  {
   "cell_type": "code",
   "execution_count": 46,
   "metadata": {},
   "outputs": [],
   "source": [
    "student3_paths = paths2df(student3_conf.get_list('input_paths'), 'student3')"
   ]
  },
  {
   "cell_type": "code",
   "execution_count": 47,
   "metadata": {},
   "outputs": [],
   "source": [
    "check_assignments_one_annotator(student3_paths)"
   ]
  },
  {
   "cell_type": "code",
   "execution_count": 48,
   "metadata": {},
   "outputs": [
    {
     "data": {
      "text/plain": [
       "319"
      ]
     },
     "execution_count": 48,
     "metadata": {},
     "output_type": "execute_result"
    }
   ],
   "source": [
    "len(student3_paths)"
   ]
  },
  {
   "cell_type": "code",
   "execution_count": 49,
   "metadata": {},
   "outputs": [
    {
     "data": {
      "text/html": [
       "<div>\n",
       "<style scoped>\n",
       "    .dataframe tbody tr th:only-of-type {\n",
       "        vertical-align: middle;\n",
       "    }\n",
       "\n",
       "    .dataframe tbody tr th {\n",
       "        vertical-align: top;\n",
       "    }\n",
       "\n",
       "    .dataframe thead th {\n",
       "        text-align: right;\n",
       "    }\n",
       "</style>\n",
       "<table border=\"1\" class=\"dataframe\">\n",
       "  <thead>\n",
       "    <tr style=\"text-align: right;\">\n",
       "      <th></th>\n",
       "      <th>base_doc</th>\n",
       "      <th>experiment</th>\n",
       "      <th>genre</th>\n",
       "      <th>path</th>\n",
       "      <th>transformation</th>\n",
       "    </tr>\n",
       "  </thead>\n",
       "  <tbody>\n",
       "    <tr>\n",
       "      <th>0</th>\n",
       "      <td>mz_sinorama_10_ectb_1070___part_000</td>\n",
       "      <td>student3</td>\n",
       "      <td>mz</td>\n",
       "      <td>../output/conll-2012-transformed/nonmen_20/dev...</td>\n",
       "      <td>nonmen_20</td>\n",
       "    </tr>\n",
       "    <tr>\n",
       "      <th>1</th>\n",
       "      <td>mz_sinorama_10_ectb_1070___part_001</td>\n",
       "      <td>student3</td>\n",
       "      <td>mz</td>\n",
       "      <td>../output/conll-2012-transformed/no-external/d...</td>\n",
       "      <td>no-external</td>\n",
       "    </tr>\n",
       "    <tr>\n",
       "      <th>2</th>\n",
       "      <td>mz_sinorama_10_ectb_1070___part_002</td>\n",
       "      <td>student3</td>\n",
       "      <td>mz</td>\n",
       "      <td>../output/conll-2012-transformed/no-internal/d...</td>\n",
       "      <td>no-internal</td>\n",
       "    </tr>\n",
       "  </tbody>\n",
       "</table>\n",
       "</div>"
      ],
      "text/plain": [
       "                              base_doc experiment genre  \\\n",
       "0  mz_sinorama_10_ectb_1070___part_000   student3    mz   \n",
       "1  mz_sinorama_10_ectb_1070___part_001   student3    mz   \n",
       "2  mz_sinorama_10_ectb_1070___part_002   student3    mz   \n",
       "\n",
       "                                                path transformation  \n",
       "0  ../output/conll-2012-transformed/nonmen_20/dev...      nonmen_20  \n",
       "1  ../output/conll-2012-transformed/no-external/d...    no-external  \n",
       "2  ../output/conll-2012-transformed/no-internal/d...    no-internal  "
      ]
     },
     "execution_count": 49,
     "metadata": {},
     "output_type": "execute_result"
    }
   ],
   "source": [
    "student3_paths.head(3)"
   ]
  },
  {
   "cell_type": "code",
   "execution_count": 50,
   "metadata": {},
   "outputs": [
    {
     "data": {
      "image/png": "[encoded data removed]",
      "text/plain": [
       "<Figure size 576x288 with 2 Axes>"
      ]
     },
     "metadata": {
      "needs_background": "light"
     },
     "output_type": "display_data"
    }
   ],
   "source": [
    "compare_genre_distribution(student3_paths)"
   ]
  },
  {
   "cell_type": "code",
   "execution_count": 296,
   "metadata": {},
   "outputs": [
    {
     "data": {
      "image/png": "[encoded data removed]",
      "text/plain": [
       "<Figure size 432x288 with 1 Axes>"
      ]
     },
     "metadata": {},
     "output_type": "display_data"
    }
   ],
   "source": [
    "_ = student3_paths.groupby('transformation')['path'].count().plot.bar()"
   ]
  },
  {
   "cell_type": "markdown",
   "metadata": {},
   "source": [
    "# First author's documents"
   ]
  },
  {
   "cell_type": "code",
   "execution_count": 297,
   "metadata": {},
   "outputs": [],
   "source": [
    "author1_conf = ConfigFactory.parse_file('../mturk/configs/author1.conf')"
   ]
  },
  {
   "cell_type": "code",
   "execution_count": 298,
   "metadata": {},
   "outputs": [],
   "source": [
    "author1_paths = paths2df(author1_conf.get_list('input_paths'), 'author1')"
   ]
  },
  {
   "cell_type": "code",
   "execution_count": 299,
   "metadata": {},
   "outputs": [],
   "source": [
    "check_assignments_one_annotator(author1_paths)"
   ]
  },
  {
   "cell_type": "code",
   "execution_count": 300,
   "metadata": {},
   "outputs": [
    {
     "data": {
      "text/plain": [
       "100"
      ]
     },
     "execution_count": 300,
     "metadata": {},
     "output_type": "execute_result"
    }
   ],
   "source": [
    "len(author1_paths)"
   ]
  },
  {
   "cell_type": "code",
   "execution_count": 301,
   "metadata": {},
   "outputs": [
    {
     "data": {
      "text/html": [
       "<div>\n",
       "<style scoped>\n",
       "    .dataframe tbody tr th:only-of-type {\n",
       "        vertical-align: middle;\n",
       "    }\n",
       "\n",
       "    .dataframe tbody tr th {\n",
       "        vertical-align: top;\n",
       "    }\n",
       "\n",
       "    .dataframe thead th {\n",
       "        text-align: right;\n",
       "    }\n",
       "</style>\n",
       "<table border=\"1\" class=\"dataframe\">\n",
       "  <thead>\n",
       "    <tr style=\"text-align: right;\">\n",
       "      <th></th>\n",
       "      <th>base_doc</th>\n",
       "      <th>experiment</th>\n",
       "      <th>genre</th>\n",
       "      <th>path</th>\n",
       "      <th>transformation</th>\n",
       "    </tr>\n",
       "  </thead>\n",
       "  <tbody>\n",
       "    <tr>\n",
       "      <th>0</th>\n",
       "      <td>mz_sinorama_10_ectb_1020___part_001</td>\n",
       "      <td>author1</td>\n",
       "      <td>mz</td>\n",
       "      <td>../output/conll-2012-transformed/nonmen_100/de...</td>\n",
       "      <td>nonmen_100</td>\n",
       "    </tr>\n",
       "    <tr>\n",
       "      <th>1</th>\n",
       "      <td>nw_xinhua_02_chtb_0219___part_000</td>\n",
       "      <td>author1</td>\n",
       "      <td>nw</td>\n",
       "      <td>../output/conll-2012-transformed/nonmen_100/te...</td>\n",
       "      <td>nonmen_100</td>\n",
       "    </tr>\n",
       "    <tr>\n",
       "      <th>2</th>\n",
       "      <td>tc_ch_00_ch_0020___part_001</td>\n",
       "      <td>author1</td>\n",
       "      <td>tc</td>\n",
       "      <td>../output/conll-2012-transformed/nonmen_80/dev...</td>\n",
       "      <td>nonmen_80</td>\n",
       "    </tr>\n",
       "  </tbody>\n",
       "</table>\n",
       "</div>"
      ],
      "text/plain": [
       "                              base_doc experiment genre  \\\n",
       "0  mz_sinorama_10_ectb_1020___part_001    author1    mz   \n",
       "1    nw_xinhua_02_chtb_0219___part_000    author1    nw   \n",
       "2          tc_ch_00_ch_0020___part_001    author1    tc   \n",
       "\n",
       "                                                path transformation  \n",
       "0  ../output/conll-2012-transformed/nonmen_100/de...     nonmen_100  \n",
       "1  ../output/conll-2012-transformed/nonmen_100/te...     nonmen_100  \n",
       "2  ../output/conll-2012-transformed/nonmen_80/dev...      nonmen_80  "
      ]
     },
     "execution_count": 301,
     "metadata": {},
     "output_type": "execute_result"
    }
   ],
   "source": [
    "author1_paths.head(3)"
   ]
  },
  {
   "cell_type": "code",
   "execution_count": 302,
   "metadata": {},
   "outputs": [
    {
     "data": {
      "image/png": "[encoded data removed]",
      "text/plain": [
       "<Figure size 432x288 with 1 Axes>"
      ]
     },
     "metadata": {},
     "output_type": "display_data"
    }
   ],
   "source": [
    "_ = author1_paths.groupby('genre')['path'].count().plot.bar()"
   ]
  },
  {
   "cell_type": "code",
   "execution_count": 303,
   "metadata": {},
   "outputs": [
    {
     "data": {
      "image/png": "[encoded data removed]",
      "text/plain": [
       "<Figure size 432x288 with 1 Axes>"
      ]
     },
     "metadata": {},
     "output_type": "display_data"
    }
   ],
   "source": [
    "_ = author1_paths.groupby('transformation')['path'].count().plot.bar()"
   ]
  },
  {
   "cell_type": "markdown",
   "metadata": {},
   "source": [
    "# Overview of all assignments"
   ]
  },
  {
   "cell_type": "code",
   "execution_count": 304,
   "metadata": {},
   "outputs": [],
   "source": [
    "all_assigments = pd.concat([student1_paths, student2_paths, student3_paths, author1_paths])"
   ]
  },
  {
   "cell_type": "code",
   "execution_count": 305,
   "metadata": {},
   "outputs": [
    {
     "data": {
      "image/png": "[encoded data removed]",
      "text/plain": [
       "<Figure size 432x288 with 1 Axes>"
      ]
     },
     "metadata": {},
     "output_type": "display_data"
    }
   ],
   "source": [
    "_ = all_assigments.groupby('genre')['path'].count().plot.bar()"
   ]
  },
  {
   "cell_type": "code",
   "execution_count": 306,
   "metadata": {},
   "outputs": [
    {
     "data": {
      "image/png": "[encoded data removed]",
      "text/plain": [
       "<Figure size 432x288 with 1 Axes>"
      ]
     },
     "metadata": {},
     "output_type": "display_data"
    }
   ],
   "source": [
    "_ = all_assigments.groupby('transformation')['path'].count().plot.bar()"
   ]
  },
  {
   "cell_type": "code",
   "execution_count": 307,
   "metadata": {},
   "outputs": [
    {
     "data": {
      "text/html": [
       "<div>\n",
       "<style scoped>\n",
       "    .dataframe tbody tr th:only-of-type {\n",
       "        vertical-align: middle;\n",
       "    }\n",
       "\n",
       "    .dataframe tbody tr th {\n",
       "        vertical-align: top;\n",
       "    }\n",
       "\n",
       "    .dataframe thead th {\n",
       "        text-align: right;\n",
       "    }\n",
       "</style>\n",
       "<table border=\"1\" class=\"dataframe\">\n",
       "  <thead>\n",
       "    <tr style=\"text-align: right;\">\n",
       "      <th></th>\n",
       "      <th>experiment</th>\n",
       "    </tr>\n",
       "  </thead>\n",
       "  <tbody>\n",
       "    <tr>\n",
       "      <th>count</th>\n",
       "      <td>962.000000</td>\n",
       "    </tr>\n",
       "    <tr>\n",
       "      <th>mean</th>\n",
       "      <td>1.475052</td>\n",
       "    </tr>\n",
       "    <tr>\n",
       "      <th>std</th>\n",
       "      <td>0.505846</td>\n",
       "    </tr>\n",
       "    <tr>\n",
       "      <th>min</th>\n",
       "      <td>1.000000</td>\n",
       "    </tr>\n",
       "    <tr>\n",
       "      <th>25%</th>\n",
       "      <td>1.000000</td>\n",
       "    </tr>\n",
       "    <tr>\n",
       "      <th>50%</th>\n",
       "      <td>1.000000</td>\n",
       "    </tr>\n",
       "    <tr>\n",
       "      <th>75%</th>\n",
       "      <td>2.000000</td>\n",
       "    </tr>\n",
       "    <tr>\n",
       "      <th>max</th>\n",
       "      <td>3.000000</td>\n",
       "    </tr>\n",
       "  </tbody>\n",
       "</table>\n",
       "</div>"
      ],
      "text/plain": [
       "       experiment\n",
       "count  962.000000\n",
       "mean     1.475052\n",
       "std      0.505846\n",
       "min      1.000000\n",
       "25%      1.000000\n",
       "50%      1.000000\n",
       "75%      2.000000\n",
       "max      3.000000"
      ]
     },
     "execution_count": 307,
     "metadata": {},
     "output_type": "execute_result"
    }
   ],
   "source": [
    "all_assigments.groupby('path').agg({'experiment': 'count'}).describe()"
   ]
  },
  {
   "cell_type": "markdown",
   "metadata": {},
   "source": [
    "# back up: saved for next student"
   ]
  },
  {
   "cell_type": "code",
   "execution_count": 60,
   "metadata": {},
   "outputs": [],
   "source": [
    "assigned_docs = set(student2_paths.base_doc)"
   ]
  },
  {
   "cell_type": "code",
   "execution_count": 90,
   "metadata": {},
   "outputs": [],
   "source": [
    "candidate_pool = paths_df[~paths_df.base_doc.isin(assigned_docs) &\n",
    "                          paths_df.transformation.isin(['men_100', 'nonmen_100', 'no-name', 'orig'])]"
   ]
  },
  {
   "cell_type": "code",
   "execution_count": 91,
   "metadata": {},
   "outputs": [
    {
     "data": {
      "text/plain": [
       "239"
      ]
     },
     "execution_count": 91,
     "metadata": {},
     "output_type": "execute_result"
    }
   ],
   "source": [
    "sampled_paths = candidate_pool.groupby('base_doc').apply(lambda x: x.sample(n=1)).sample(frac=1)\n",
    "len(sampled_paths)"
   ]
  },
  {
   "cell_type": "code",
   "execution_count": 71,
   "metadata": {},
   "outputs": [
    {
     "data": {
      "text/html": [
       "<div>\n",
       "<style scoped>\n",
       "    .dataframe tbody tr th:only-of-type {\n",
       "        vertical-align: middle;\n",
       "    }\n",
       "\n",
       "    .dataframe tbody tr th {\n",
       "        vertical-align: top;\n",
       "    }\n",
       "\n",
       "    .dataframe thead th {\n",
       "        text-align: right;\n",
       "    }\n",
       "</style>\n",
       "<table border=\"1\" class=\"dataframe\">\n",
       "  <thead>\n",
       "    <tr style=\"text-align: right;\">\n",
       "      <th></th>\n",
       "      <th></th>\n",
       "      <th>base_doc</th>\n",
       "      <th>experiment</th>\n",
       "      <th>genre</th>\n",
       "      <th>path</th>\n",
       "      <th>transformation</th>\n",
       "    </tr>\n",
       "    <tr>\n",
       "      <th>base_doc</th>\n",
       "      <th></th>\n",
       "      <th></th>\n",
       "      <th></th>\n",
       "      <th></th>\n",
       "      <th></th>\n",
       "      <th></th>\n",
       "    </tr>\n",
       "  </thead>\n",
       "  <tbody>\n",
       "    <tr>\n",
       "      <th>wb_c2e_00_c2e_0009___part_000</th>\n",
       "      <th>670</th>\n",
       "      <td>wb_c2e_00_c2e_0009___part_000</td>\n",
       "      <td>None</td>\n",
       "      <td>wb</td>\n",
       "      <td>../output/conll-2012-transformed/men_100/test/...</td>\n",
       "      <td>men_100</td>\n",
       "    </tr>\n",
       "    <tr>\n",
       "      <th>mz_sinorama_10_ectb_1020___part_001</th>\n",
       "      <th>5657</th>\n",
       "      <td>mz_sinorama_10_ectb_1020___part_001</td>\n",
       "      <td>None</td>\n",
       "      <td>mz</td>\n",
       "      <td>../output/conll-2012-transformed/nonmen_100/de...</td>\n",
       "      <td>nonmen_100</td>\n",
       "    </tr>\n",
       "    <tr>\n",
       "      <th>nw_xinhua_00_chtb_0019___part_000</th>\n",
       "      <th>9525</th>\n",
       "      <td>nw_xinhua_00_chtb_0019___part_000</td>\n",
       "      <td>None</td>\n",
       "      <td>nw</td>\n",
       "      <td>../output/conll-2012-transformed/orig/test/nw_...</td>\n",
       "      <td>orig</td>\n",
       "    </tr>\n",
       "    <tr>\n",
       "      <th>nw_xinhua_00_chtb_0049___part_000</th>\n",
       "      <th>594</th>\n",
       "      <td>nw_xinhua_00_chtb_0049___part_000</td>\n",
       "      <td>None</td>\n",
       "      <td>nw</td>\n",
       "      <td>../output/conll-2012-transformed/men_100/test/...</td>\n",
       "      <td>men_100</td>\n",
       "    </tr>\n",
       "    <tr>\n",
       "      <th>wb_a2e_00_a2e_0019___part_000</th>\n",
       "      <th>9602</th>\n",
       "      <td>wb_a2e_00_a2e_0019___part_000</td>\n",
       "      <td>None</td>\n",
       "      <td>wb</td>\n",
       "      <td>../output/conll-2012-transformed/orig/test/wb_...</td>\n",
       "      <td>orig</td>\n",
       "    </tr>\n",
       "    <tr>\n",
       "      <th>nw_wsj_24_wsj_2452___part_000</th>\n",
       "      <th>9177</th>\n",
       "      <td>nw_wsj_24_wsj_2452___part_000</td>\n",
       "      <td>None</td>\n",
       "      <td>nw</td>\n",
       "      <td>../output/conll-2012-transformed/orig/dev/nw_w...</td>\n",
       "      <td>orig</td>\n",
       "    </tr>\n",
       "    <tr>\n",
       "      <th>mz_sinorama_10_ectb_1070___part_003</th>\n",
       "      <th>183</th>\n",
       "      <td>mz_sinorama_10_ectb_1070___part_003</td>\n",
       "      <td>None</td>\n",
       "      <td>mz</td>\n",
       "      <td>../output/conll-2012-transformed/men_100/dev/m...</td>\n",
       "      <td>men_100</td>\n",
       "    </tr>\n",
       "    <tr>\n",
       "      <th>nw_xinhua_01_chtb_0160___part_000</th>\n",
       "      <th>9194</th>\n",
       "      <td>nw_xinhua_01_chtb_0160___part_000</td>\n",
       "      <td>None</td>\n",
       "      <td>nw</td>\n",
       "      <td>../output/conll-2012-transformed/orig/dev/nw_x...</td>\n",
       "      <td>orig</td>\n",
       "    </tr>\n",
       "    <tr>\n",
       "      <th>nw_wsj_23_wsj_2381___part_000</th>\n",
       "      <th>6078</th>\n",
       "      <td>nw_wsj_23_wsj_2381___part_000</td>\n",
       "      <td>None</td>\n",
       "      <td>nw</td>\n",
       "      <td>../output/conll-2012-transformed/nonmen_100/te...</td>\n",
       "      <td>nonmen_100</td>\n",
       "    </tr>\n",
       "    <tr>\n",
       "      <th>wb_eng_00_eng_0010___part_004</th>\n",
       "      <th>5838</th>\n",
       "      <td>wb_eng_00_eng_0010___part_004</td>\n",
       "      <td>None</td>\n",
       "      <td>wb</td>\n",
       "      <td>../output/conll-2012-transformed/nonmen_100/de...</td>\n",
       "      <td>nonmen_100</td>\n",
       "    </tr>\n",
       "    <tr>\n",
       "      <th>bn_cnn_02_cnn_0200___part_000</th>\n",
       "      <th>4896</th>\n",
       "      <td>bn_cnn_02_cnn_0200___part_000</td>\n",
       "      <td>None</td>\n",
       "      <td>bn</td>\n",
       "      <td>../output/conll-2012-transformed/no-name/dev/b...</td>\n",
       "      <td>no-name</td>\n",
       "    </tr>\n",
       "    <tr>\n",
       "      <th>wb_eng_00_eng_0009___part_004</th>\n",
       "      <th>6184</th>\n",
       "      <td>wb_eng_00_eng_0009___part_004</td>\n",
       "      <td>None</td>\n",
       "      <td>wb</td>\n",
       "      <td>../output/conll-2012-transformed/nonmen_100/te...</td>\n",
       "      <td>nonmen_100</td>\n",
       "    </tr>\n",
       "    <tr>\n",
       "      <th>nw_wsj_24_wsj_2412___part_000</th>\n",
       "      <th>5713</th>\n",
       "      <td>nw_wsj_24_wsj_2412___part_000</td>\n",
       "      <td>None</td>\n",
       "      <td>nw</td>\n",
       "      <td>../output/conll-2012-transformed/nonmen_100/de...</td>\n",
       "      <td>nonmen_100</td>\n",
       "    </tr>\n",
       "    <tr>\n",
       "      <th>nw_wsj_24_wsj_2407___part_000</th>\n",
       "      <th>5708</th>\n",
       "      <td>nw_wsj_24_wsj_2407___part_000</td>\n",
       "      <td>None</td>\n",
       "      <td>nw</td>\n",
       "      <td>../output/conll-2012-transformed/nonmen_100/de...</td>\n",
       "      <td>nonmen_100</td>\n",
       "    </tr>\n",
       "    <tr>\n",
       "      <th>tc_ch_00_ch_0040___part_001</th>\n",
       "      <th>5811</th>\n",
       "      <td>tc_ch_00_ch_0040___part_001</td>\n",
       "      <td>None</td>\n",
       "      <td>tc</td>\n",
       "      <td>../output/conll-2012-transformed/nonmen_100/de...</td>\n",
       "      <td>nonmen_100</td>\n",
       "    </tr>\n",
       "    <tr>\n",
       "      <th>nw_wsj_23_wsj_2399___part_000</th>\n",
       "      <th>6088</th>\n",
       "      <td>nw_wsj_23_wsj_2399___part_000</td>\n",
       "      <td>None</td>\n",
       "      <td>nw</td>\n",
       "      <td>../output/conll-2012-transformed/nonmen_100/te...</td>\n",
       "      <td>nonmen_100</td>\n",
       "    </tr>\n",
       "    <tr>\n",
       "      <th>nw_wsj_24_wsj_2409___part_000</th>\n",
       "      <th>210</th>\n",
       "      <td>nw_wsj_24_wsj_2409___part_000</td>\n",
       "      <td>None</td>\n",
       "      <td>nw</td>\n",
       "      <td>../output/conll-2012-transformed/men_100/dev/n...</td>\n",
       "      <td>men_100</td>\n",
       "    </tr>\n",
       "    <tr>\n",
       "      <th>nw_xinhua_00_chtb_0059___part_000</th>\n",
       "      <th>6094</th>\n",
       "      <td>nw_xinhua_00_chtb_0059___part_000</td>\n",
       "      <td>None</td>\n",
       "      <td>nw</td>\n",
       "      <td>../output/conll-2012-transformed/nonmen_100/te...</td>\n",
       "      <td>nonmen_100</td>\n",
       "    </tr>\n",
       "    <tr>\n",
       "      <th>nw_wsj_00_wsj_0037___part_000</th>\n",
       "      <th>190</th>\n",
       "      <td>nw_wsj_00_wsj_0037___part_000</td>\n",
       "      <td>None</td>\n",
       "      <td>nw</td>\n",
       "      <td>../output/conll-2012-transformed/men_100/dev/n...</td>\n",
       "      <td>men_100</td>\n",
       "    </tr>\n",
       "    <tr>\n",
       "      <th>nw_wsj_23_wsj_2389___part_000</th>\n",
       "      <th>9518</th>\n",
       "      <td>nw_wsj_23_wsj_2389___part_000</td>\n",
       "      <td>None</td>\n",
       "      <td>nw</td>\n",
       "      <td>../output/conll-2012-transformed/orig/test/nw_...</td>\n",
       "      <td>orig</td>\n",
       "    </tr>\n",
       "    <tr>\n",
       "      <th>nw_xinhua_01_chtb_0120___part_000</th>\n",
       "      <th>5068</th>\n",
       "      <td>nw_xinhua_01_chtb_0120___part_000</td>\n",
       "      <td>None</td>\n",
       "      <td>nw</td>\n",
       "      <td>../output/conll-2012-transformed/no-name/dev/n...</td>\n",
       "      <td>no-name</td>\n",
       "    </tr>\n",
       "    <tr>\n",
       "      <th>tc_ch_00_ch_0029___part_001</th>\n",
       "      <th>9590</th>\n",
       "      <td>tc_ch_00_ch_0029___part_001</td>\n",
       "      <td>None</td>\n",
       "      <td>tc</td>\n",
       "      <td>../output/conll-2012-transformed/orig/test/tc_...</td>\n",
       "      <td>orig</td>\n",
       "    </tr>\n",
       "    <tr>\n",
       "      <th>pt_nt_58_nt_5810___part_000</th>\n",
       "      <th>298</th>\n",
       "      <td>pt_nt_58_nt_5810___part_000</td>\n",
       "      <td>None</td>\n",
       "      <td>pt</td>\n",
       "      <td>../output/conll-2012-transformed/men_100/dev/p...</td>\n",
       "      <td>men_100</td>\n",
       "    </tr>\n",
       "    <tr>\n",
       "      <th>pt_nt_40_nt_4020___part_001</th>\n",
       "      <th>5092</th>\n",
       "      <td>pt_nt_40_nt_4020___part_001</td>\n",
       "      <td>None</td>\n",
       "      <td>pt</td>\n",
       "      <td>../output/conll-2012-transformed/no-name/dev/p...</td>\n",
       "      <td>no-name</td>\n",
       "    </tr>\n",
       "    <tr>\n",
       "      <th>pt_nt_66_nt_6609___part_000</th>\n",
       "      <th>5458</th>\n",
       "      <td>pt_nt_66_nt_6609___part_000</td>\n",
       "      <td>None</td>\n",
       "      <td>pt</td>\n",
       "      <td>../output/conll-2012-transformed/no-name/test/...</td>\n",
       "      <td>no-name</td>\n",
       "    </tr>\n",
       "    <tr>\n",
       "      <th>tc_ch_00_ch_0030___part_000</th>\n",
       "      <th>9241</th>\n",
       "      <td>tc_ch_00_ch_0030___part_000</td>\n",
       "      <td>None</td>\n",
       "      <td>tc</td>\n",
       "      <td>../output/conll-2012-transformed/orig/dev/tc_c...</td>\n",
       "      <td>orig</td>\n",
       "    </tr>\n",
       "    <tr>\n",
       "      <th>tc_ch_00_ch_0010___part_002</th>\n",
       "      <th>5115</th>\n",
       "      <td>tc_ch_00_ch_0010___part_002</td>\n",
       "      <td>None</td>\n",
       "      <td>tc</td>\n",
       "      <td>../output/conll-2012-transformed/no-name/dev/t...</td>\n",
       "      <td>no-name</td>\n",
       "    </tr>\n",
       "    <tr>\n",
       "      <th>nw_xinhua_01_chtb_0190___part_000</th>\n",
       "      <th>5763</th>\n",
       "      <td>nw_xinhua_01_chtb_0190___part_000</td>\n",
       "      <td>None</td>\n",
       "      <td>nw</td>\n",
       "      <td>../output/conll-2012-transformed/nonmen_100/de...</td>\n",
       "      <td>nonmen_100</td>\n",
       "    </tr>\n",
       "    <tr>\n",
       "      <th>nw_xinhua_01_chtb_0129___part_000</th>\n",
       "      <th>5414</th>\n",
       "      <td>nw_xinhua_01_chtb_0129___part_000</td>\n",
       "      <td>None</td>\n",
       "      <td>nw</td>\n",
       "      <td>../output/conll-2012-transformed/no-name/test/...</td>\n",
       "      <td>no-name</td>\n",
       "    </tr>\n",
       "    <tr>\n",
       "      <th>nw_wsj_23_wsj_2395___part_000</th>\n",
       "      <th>588</th>\n",
       "      <td>nw_wsj_23_wsj_2395___part_000</td>\n",
       "      <td>None</td>\n",
       "      <td>nw</td>\n",
       "      <td>../output/conll-2012-transformed/men_100/test/...</td>\n",
       "      <td>men_100</td>\n",
       "    </tr>\n",
       "    <tr>\n",
       "      <th>...</th>\n",
       "      <th>...</th>\n",
       "      <td>...</td>\n",
       "      <td>...</td>\n",
       "      <td>...</td>\n",
       "      <td>...</td>\n",
       "      <td>...</td>\n",
       "    </tr>\n",
       "    <tr>\n",
       "      <th>nw_xinhua_01_chtb_0169___part_000</th>\n",
       "      <th>5418</th>\n",
       "      <td>nw_xinhua_01_chtb_0169___part_000</td>\n",
       "      <td>None</td>\n",
       "      <td>nw</td>\n",
       "      <td>../output/conll-2012-transformed/no-name/test/...</td>\n",
       "      <td>no-name</td>\n",
       "    </tr>\n",
       "    <tr>\n",
       "      <th>nw_xinhua_01_chtb_0179___part_000</th>\n",
       "      <th>607</th>\n",
       "      <td>nw_xinhua_01_chtb_0179___part_000</td>\n",
       "      <td>None</td>\n",
       "      <td>nw</td>\n",
       "      <td>../output/conll-2012-transformed/men_100/test/...</td>\n",
       "      <td>men_100</td>\n",
       "    </tr>\n",
       "    <tr>\n",
       "      <th>tc_ch_00_ch_0039___part_001</th>\n",
       "      <th>9593</th>\n",
       "      <td>tc_ch_00_ch_0039___part_001</td>\n",
       "      <td>None</td>\n",
       "      <td>tc</td>\n",
       "      <td>../output/conll-2012-transformed/orig/test/tc_...</td>\n",
       "      <td>orig</td>\n",
       "    </tr>\n",
       "    <tr>\n",
       "      <th>nw_xinhua_02_chtb_0230___part_000</th>\n",
       "      <th>5767</th>\n",
       "      <td>nw_xinhua_02_chtb_0230___part_000</td>\n",
       "      <td>None</td>\n",
       "      <td>nw</td>\n",
       "      <td>../output/conll-2012-transformed/nonmen_100/de...</td>\n",
       "      <td>nonmen_100</td>\n",
       "    </tr>\n",
       "    <tr>\n",
       "      <th>pt_nt_41_nt_4110___part_002</th>\n",
       "      <th>9217</th>\n",
       "      <td>pt_nt_41_nt_4110___part_002</td>\n",
       "      <td>None</td>\n",
       "      <td>pt</td>\n",
       "      <td>../output/conll-2012-transformed/orig/dev/pt_n...</td>\n",
       "      <td>orig</td>\n",
       "    </tr>\n",
       "    <tr>\n",
       "      <th>pt_nt_44_nt_4419___part_001</th>\n",
       "      <th>9574</th>\n",
       "      <td>pt_nt_44_nt_4419___part_001</td>\n",
       "      <td>None</td>\n",
       "      <td>pt</td>\n",
       "      <td>../output/conll-2012-transformed/orig/test/pt_...</td>\n",
       "      <td>orig</td>\n",
       "    </tr>\n",
       "    <tr>\n",
       "      <th>tc_ch_00_ch_0029___part_002</th>\n",
       "      <th>6156</th>\n",
       "      <td>tc_ch_00_ch_0029___part_002</td>\n",
       "      <td>None</td>\n",
       "      <td>tc</td>\n",
       "      <td>../output/conll-2012-transformed/nonmen_100/te...</td>\n",
       "      <td>nonmen_100</td>\n",
       "    </tr>\n",
       "    <tr>\n",
       "      <th>nw_wsj_23_wsj_2383___part_000</th>\n",
       "      <th>6080</th>\n",
       "      <td>nw_wsj_23_wsj_2383___part_000</td>\n",
       "      <td>None</td>\n",
       "      <td>nw</td>\n",
       "      <td>../output/conll-2012-transformed/nonmen_100/te...</td>\n",
       "      <td>nonmen_100</td>\n",
       "    </tr>\n",
       "    <tr>\n",
       "      <th>wb_a2e_00_a2e_0009___part_001</th>\n",
       "      <th>6164</th>\n",
       "      <td>wb_a2e_00_a2e_0009___part_001</td>\n",
       "      <td>None</td>\n",
       "      <td>wb</td>\n",
       "      <td>../output/conll-2012-transformed/nonmen_100/te...</td>\n",
       "      <td>nonmen_100</td>\n",
       "    </tr>\n",
       "    <tr>\n",
       "      <th>nw_xinhua_00_chtb_0030___part_000</th>\n",
       "      <th>247</th>\n",
       "      <td>nw_xinhua_00_chtb_0030___part_000</td>\n",
       "      <td>None</td>\n",
       "      <td>nw</td>\n",
       "      <td>../output/conll-2012-transformed/men_100/dev/n...</td>\n",
       "      <td>men_100</td>\n",
       "    </tr>\n",
       "    <tr>\n",
       "      <th>wb_eng_00_eng_0009___part_001</th>\n",
       "      <th>9616</th>\n",
       "      <td>wb_eng_00_eng_0009___part_001</td>\n",
       "      <td>None</td>\n",
       "      <td>wb</td>\n",
       "      <td>../output/conll-2012-transformed/orig/test/wb_...</td>\n",
       "      <td>orig</td>\n",
       "    </tr>\n",
       "    <tr>\n",
       "      <th>nw_wsj_24_wsj_2429___part_000</th>\n",
       "      <th>5725</th>\n",
       "      <td>nw_wsj_24_wsj_2429___part_000</td>\n",
       "      <td>None</td>\n",
       "      <td>nw</td>\n",
       "      <td>../output/conll-2012-transformed/nonmen_100/de...</td>\n",
       "      <td>nonmen_100</td>\n",
       "    </tr>\n",
       "    <tr>\n",
       "      <th>nw_wsj_23_wsj_2394___part_000</th>\n",
       "      <th>587</th>\n",
       "      <td>nw_wsj_23_wsj_2394___part_000</td>\n",
       "      <td>None</td>\n",
       "      <td>nw</td>\n",
       "      <td>../output/conll-2012-transformed/men_100/test/...</td>\n",
       "      <td>men_100</td>\n",
       "    </tr>\n",
       "    <tr>\n",
       "      <th>nw_xinhua_00_chtb_0039___part_000</th>\n",
       "      <th>9527</th>\n",
       "      <td>nw_xinhua_00_chtb_0039___part_000</td>\n",
       "      <td>None</td>\n",
       "      <td>nw</td>\n",
       "      <td>../output/conll-2012-transformed/orig/test/nw_...</td>\n",
       "      <td>orig</td>\n",
       "    </tr>\n",
       "    <tr>\n",
       "      <th>wb_eng_00_eng_0010___part_002</th>\n",
       "      <th>336</th>\n",
       "      <td>wb_eng_00_eng_0010___part_002</td>\n",
       "      <td>None</td>\n",
       "      <td>wb</td>\n",
       "      <td>../output/conll-2012-transformed/men_100/dev/w...</td>\n",
       "      <td>men_100</td>\n",
       "    </tr>\n",
       "    <tr>\n",
       "      <th>mz_sinorama_10_ectb_1070___part_008</th>\n",
       "      <th>5000</th>\n",
       "      <td>mz_sinorama_10_ectb_1070___part_008</td>\n",
       "      <td>None</td>\n",
       "      <td>mz</td>\n",
       "      <td>../output/conll-2012-transformed/no-name/dev/m...</td>\n",
       "      <td>no-name</td>\n",
       "    </tr>\n",
       "    <tr>\n",
       "      <th>nw_xinhua_00_chtb_0080___part_000</th>\n",
       "      <th>5752</th>\n",
       "      <td>nw_xinhua_00_chtb_0080___part_000</td>\n",
       "      <td>None</td>\n",
       "      <td>nw</td>\n",
       "      <td>../output/conll-2012-transformed/nonmen_100/de...</td>\n",
       "      <td>nonmen_100</td>\n",
       "    </tr>\n",
       "    <tr>\n",
       "      <th>wb_c2e_00_c2e_0050___part_000</th>\n",
       "      <th>5827</th>\n",
       "      <td>wb_c2e_00_c2e_0050___part_000</td>\n",
       "      <td>None</td>\n",
       "      <td>wb</td>\n",
       "      <td>../output/conll-2012-transformed/nonmen_100/de...</td>\n",
       "      <td>nonmen_100</td>\n",
       "    </tr>\n",
       "    <tr>\n",
       "      <th>tc_ch_00_ch_0009___part_003</th>\n",
       "      <th>651</th>\n",
       "      <td>tc_ch_00_ch_0009___part_003</td>\n",
       "      <td>None</td>\n",
       "      <td>tc</td>\n",
       "      <td>../output/conll-2012-transformed/men_100/test/...</td>\n",
       "      <td>men_100</td>\n",
       "    </tr>\n",
       "    <tr>\n",
       "      <th>mz_sinorama_10_ectb_1050___part_004</th>\n",
       "      <th>4984</th>\n",
       "      <td>mz_sinorama_10_ectb_1050___part_004</td>\n",
       "      <td>None</td>\n",
       "      <td>mz</td>\n",
       "      <td>../output/conll-2012-transformed/no-name/dev/m...</td>\n",
       "      <td>no-name</td>\n",
       "    </tr>\n",
       "    <tr>\n",
       "      <th>nw_xinhua_02_chtb_0250___part_000</th>\n",
       "      <th>269</th>\n",
       "      <td>nw_xinhua_02_chtb_0250___part_000</td>\n",
       "      <td>None</td>\n",
       "      <td>nw</td>\n",
       "      <td>../output/conll-2012-transformed/men_100/dev/n...</td>\n",
       "      <td>men_100</td>\n",
       "    </tr>\n",
       "    <tr>\n",
       "      <th>nw_xinhua_02_chtb_0210___part_000</th>\n",
       "      <th>9199</th>\n",
       "      <td>nw_xinhua_02_chtb_0210___part_000</td>\n",
       "      <td>None</td>\n",
       "      <td>nw</td>\n",
       "      <td>../output/conll-2012-transformed/orig/dev/nw_x...</td>\n",
       "      <td>orig</td>\n",
       "    </tr>\n",
       "    <tr>\n",
       "      <th>nw_wsj_24_wsj_2428___part_000</th>\n",
       "      <th>9158</th>\n",
       "      <td>nw_wsj_24_wsj_2428___part_000</td>\n",
       "      <td>None</td>\n",
       "      <td>nw</td>\n",
       "      <td>../output/conll-2012-transformed/orig/dev/nw_w...</td>\n",
       "      <td>orig</td>\n",
       "    </tr>\n",
       "    <tr>\n",
       "      <th>nw_xinhua_00_chtb_0099___part_000</th>\n",
       "      <th>5411</th>\n",
       "      <td>nw_xinhua_00_chtb_0099___part_000</td>\n",
       "      <td>None</td>\n",
       "      <td>nw</td>\n",
       "      <td>../output/conll-2012-transformed/no-name/test/...</td>\n",
       "      <td>no-name</td>\n",
       "    </tr>\n",
       "    <tr>\n",
       "      <th>pt_nt_42_nt_4220___part_001</th>\n",
       "      <th>9221</th>\n",
       "      <td>pt_nt_42_nt_4220___part_001</td>\n",
       "      <td>None</td>\n",
       "      <td>pt</td>\n",
       "      <td>../output/conll-2012-transformed/orig/dev/pt_n...</td>\n",
       "      <td>orig</td>\n",
       "    </tr>\n",
       "    <tr>\n",
       "      <th>wb_eng_00_eng_0000___part_005</th>\n",
       "      <th>5833</th>\n",
       "      <td>wb_eng_00_eng_0000___part_005</td>\n",
       "      <td>None</td>\n",
       "      <td>wb</td>\n",
       "      <td>../output/conll-2012-transformed/nonmen_100/de...</td>\n",
       "      <td>nonmen_100</td>\n",
       "    </tr>\n",
       "    <tr>\n",
       "      <th>nw_xinhua_01_chtb_0199___part_000</th>\n",
       "      <th>609</th>\n",
       "      <td>nw_xinhua_01_chtb_0199___part_000</td>\n",
       "      <td>None</td>\n",
       "      <td>nw</td>\n",
       "      <td>../output/conll-2012-transformed/men_100/test/...</td>\n",
       "      <td>men_100</td>\n",
       "    </tr>\n",
       "    <tr>\n",
       "      <th>tc_ch_00_ch_0010___part_001</th>\n",
       "      <th>5114</th>\n",
       "      <td>tc_ch_00_ch_0010___part_001</td>\n",
       "      <td>None</td>\n",
       "      <td>tc</td>\n",
       "      <td>../output/conll-2012-transformed/no-name/dev/t...</td>\n",
       "      <td>no-name</td>\n",
       "    </tr>\n",
       "    <tr>\n",
       "      <th>nw_wsj_00_wsj_0089___part_000</th>\n",
       "      <th>5692</th>\n",
       "      <td>nw_wsj_00_wsj_0089___part_000</td>\n",
       "      <td>None</td>\n",
       "      <td>nw</td>\n",
       "      <td>../output/conll-2012-transformed/nonmen_100/de...</td>\n",
       "      <td>nonmen_100</td>\n",
       "    </tr>\n",
       "    <tr>\n",
       "      <th>nw_xinhua_01_chtb_0180___part_000</th>\n",
       "      <th>9196</th>\n",
       "      <td>nw_xinhua_01_chtb_0180___part_000</td>\n",
       "      <td>None</td>\n",
       "      <td>nw</td>\n",
       "      <td>../output/conll-2012-transformed/orig/dev/nw_x...</td>\n",
       "      <td>orig</td>\n",
       "    </tr>\n",
       "  </tbody>\n",
       "</table>\n",
       "<p>239 rows × 5 columns</p>\n",
       "</div>"
      ],
      "text/plain": [
       "                                                                     base_doc  \\\n",
       "base_doc                                                                        \n",
       "wb_c2e_00_c2e_0009___part_000       670         wb_c2e_00_c2e_0009___part_000   \n",
       "mz_sinorama_10_ectb_1020___part_001 5657  mz_sinorama_10_ectb_1020___part_001   \n",
       "nw_xinhua_00_chtb_0019___part_000   9525    nw_xinhua_00_chtb_0019___part_000   \n",
       "nw_xinhua_00_chtb_0049___part_000   594     nw_xinhua_00_chtb_0049___part_000   \n",
       "wb_a2e_00_a2e_0019___part_000       9602        wb_a2e_00_a2e_0019___part_000   \n",
       "nw_wsj_24_wsj_2452___part_000       9177        nw_wsj_24_wsj_2452___part_000   \n",
       "mz_sinorama_10_ectb_1070___part_003 183   mz_sinorama_10_ectb_1070___part_003   \n",
       "nw_xinhua_01_chtb_0160___part_000   9194    nw_xinhua_01_chtb_0160___part_000   \n",
       "nw_wsj_23_wsj_2381___part_000       6078        nw_wsj_23_wsj_2381___part_000   \n",
       "wb_eng_00_eng_0010___part_004       5838        wb_eng_00_eng_0010___part_004   \n",
       "bn_cnn_02_cnn_0200___part_000       4896        bn_cnn_02_cnn_0200___part_000   \n",
       "wb_eng_00_eng_0009___part_004       6184        wb_eng_00_eng_0009___part_004   \n",
       "nw_wsj_24_wsj_2412___part_000       5713        nw_wsj_24_wsj_2412___part_000   \n",
       "nw_wsj_24_wsj_2407___part_000       5708        nw_wsj_24_wsj_2407___part_000   \n",
       "tc_ch_00_ch_0040___part_001         5811          tc_ch_00_ch_0040___part_001   \n",
       "nw_wsj_23_wsj_2399___part_000       6088        nw_wsj_23_wsj_2399___part_000   \n",
       "nw_wsj_24_wsj_2409___part_000       210         nw_wsj_24_wsj_2409___part_000   \n",
       "nw_xinhua_00_chtb_0059___part_000   6094    nw_xinhua_00_chtb_0059___part_000   \n",
       "nw_wsj_00_wsj_0037___part_000       190         nw_wsj_00_wsj_0037___part_000   \n",
       "nw_wsj_23_wsj_2389___part_000       9518        nw_wsj_23_wsj_2389___part_000   \n",
       "nw_xinhua_01_chtb_0120___part_000   5068    nw_xinhua_01_chtb_0120___part_000   \n",
       "tc_ch_00_ch_0029___part_001         9590          tc_ch_00_ch_0029___part_001   \n",
       "pt_nt_58_nt_5810___part_000         298           pt_nt_58_nt_5810___part_000   \n",
       "pt_nt_40_nt_4020___part_001         5092          pt_nt_40_nt_4020___part_001   \n",
       "pt_nt_66_nt_6609___part_000         5458          pt_nt_66_nt_6609___part_000   \n",
       "tc_ch_00_ch_0030___part_000         9241          tc_ch_00_ch_0030___part_000   \n",
       "tc_ch_00_ch_0010___part_002         5115          tc_ch_00_ch_0010___part_002   \n",
       "nw_xinhua_01_chtb_0190___part_000   5763    nw_xinhua_01_chtb_0190___part_000   \n",
       "nw_xinhua_01_chtb_0129___part_000   5414    nw_xinhua_01_chtb_0129___part_000   \n",
       "nw_wsj_23_wsj_2395___part_000       588         nw_wsj_23_wsj_2395___part_000   \n",
       "...                                                                       ...   \n",
       "nw_xinhua_01_chtb_0169___part_000   5418    nw_xinhua_01_chtb_0169___part_000   \n",
       "nw_xinhua_01_chtb_0179___part_000   607     nw_xinhua_01_chtb_0179___part_000   \n",
       "tc_ch_00_ch_0039___part_001         9593          tc_ch_00_ch_0039___part_001   \n",
       "nw_xinhua_02_chtb_0230___part_000   5767    nw_xinhua_02_chtb_0230___part_000   \n",
       "pt_nt_41_nt_4110___part_002         9217          pt_nt_41_nt_4110___part_002   \n",
       "pt_nt_44_nt_4419___part_001         9574          pt_nt_44_nt_4419___part_001   \n",
       "tc_ch_00_ch_0029___part_002         6156          tc_ch_00_ch_0029___part_002   \n",
       "nw_wsj_23_wsj_2383___part_000       6080        nw_wsj_23_wsj_2383___part_000   \n",
       "wb_a2e_00_a2e_0009___part_001       6164        wb_a2e_00_a2e_0009___part_001   \n",
       "nw_xinhua_00_chtb_0030___part_000   247     nw_xinhua_00_chtb_0030___part_000   \n",
       "wb_eng_00_eng_0009___part_001       9616        wb_eng_00_eng_0009___part_001   \n",
       "nw_wsj_24_wsj_2429___part_000       5725        nw_wsj_24_wsj_2429___part_000   \n",
       "nw_wsj_23_wsj_2394___part_000       587         nw_wsj_23_wsj_2394___part_000   \n",
       "nw_xinhua_00_chtb_0039___part_000   9527    nw_xinhua_00_chtb_0039___part_000   \n",
       "wb_eng_00_eng_0010___part_002       336         wb_eng_00_eng_0010___part_002   \n",
       "mz_sinorama_10_ectb_1070___part_008 5000  mz_sinorama_10_ectb_1070___part_008   \n",
       "nw_xinhua_00_chtb_0080___part_000   5752    nw_xinhua_00_chtb_0080___part_000   \n",
       "wb_c2e_00_c2e_0050___part_000       5827        wb_c2e_00_c2e_0050___part_000   \n",
       "tc_ch_00_ch_0009___part_003         651           tc_ch_00_ch_0009___part_003   \n",
       "mz_sinorama_10_ectb_1050___part_004 4984  mz_sinorama_10_ectb_1050___part_004   \n",
       "nw_xinhua_02_chtb_0250___part_000   269     nw_xinhua_02_chtb_0250___part_000   \n",
       "nw_xinhua_02_chtb_0210___part_000   9199    nw_xinhua_02_chtb_0210___part_000   \n",
       "nw_wsj_24_wsj_2428___part_000       9158        nw_wsj_24_wsj_2428___part_000   \n",
       "nw_xinhua_00_chtb_0099___part_000   5411    nw_xinhua_00_chtb_0099___part_000   \n",
       "pt_nt_42_nt_4220___part_001         9221          pt_nt_42_nt_4220___part_001   \n",
       "wb_eng_00_eng_0000___part_005       5833        wb_eng_00_eng_0000___part_005   \n",
       "nw_xinhua_01_chtb_0199___part_000   609     nw_xinhua_01_chtb_0199___part_000   \n",
       "tc_ch_00_ch_0010___part_001         5114          tc_ch_00_ch_0010___part_001   \n",
       "nw_wsj_00_wsj_0089___part_000       5692        nw_wsj_00_wsj_0089___part_000   \n",
       "nw_xinhua_01_chtb_0180___part_000   9196    nw_xinhua_01_chtb_0180___part_000   \n",
       "\n",
       "                                         experiment genre  \\\n",
       "base_doc                                                    \n",
       "wb_c2e_00_c2e_0009___part_000       670        None    wb   \n",
       "mz_sinorama_10_ectb_1020___part_001 5657       None    mz   \n",
       "nw_xinhua_00_chtb_0019___part_000   9525       None    nw   \n",
       "nw_xinhua_00_chtb_0049___part_000   594        None    nw   \n",
       "wb_a2e_00_a2e_0019___part_000       9602       None    wb   \n",
       "nw_wsj_24_wsj_2452___part_000       9177       None    nw   \n",
       "mz_sinorama_10_ectb_1070___part_003 183        None    mz   \n",
       "nw_xinhua_01_chtb_0160___part_000   9194       None    nw   \n",
       "nw_wsj_23_wsj_2381___part_000       6078       None    nw   \n",
       "wb_eng_00_eng_0010___part_004       5838       None    wb   \n",
       "bn_cnn_02_cnn_0200___part_000       4896       None    bn   \n",
       "wb_eng_00_eng_0009___part_004       6184       None    wb   \n",
       "nw_wsj_24_wsj_2412___part_000       5713       None    nw   \n",
       "nw_wsj_24_wsj_2407___part_000       5708       None    nw   \n",
       "tc_ch_00_ch_0040___part_001         5811       None    tc   \n",
       "nw_wsj_23_wsj_2399___part_000       6088       None    nw   \n",
       "nw_wsj_24_wsj_2409___part_000       210        None    nw   \n",
       "nw_xinhua_00_chtb_0059___part_000   6094       None    nw   \n",
       "nw_wsj_00_wsj_0037___part_000       190        None    nw   \n",
       "nw_wsj_23_wsj_2389___part_000       9518       None    nw   \n",
       "nw_xinhua_01_chtb_0120___part_000   5068       None    nw   \n",
       "tc_ch_00_ch_0029___part_001         9590       None    tc   \n",
       "pt_nt_58_nt_5810___part_000         298        None    pt   \n",
       "pt_nt_40_nt_4020___part_001         5092       None    pt   \n",
       "pt_nt_66_nt_6609___part_000         5458       None    pt   \n",
       "tc_ch_00_ch_0030___part_000         9241       None    tc   \n",
       "tc_ch_00_ch_0010___part_002         5115       None    tc   \n",
       "nw_xinhua_01_chtb_0190___part_000   5763       None    nw   \n",
       "nw_xinhua_01_chtb_0129___part_000   5414       None    nw   \n",
       "nw_wsj_23_wsj_2395___part_000       588        None    nw   \n",
       "...                                             ...   ...   \n",
       "nw_xinhua_01_chtb_0169___part_000   5418       None    nw   \n",
       "nw_xinhua_01_chtb_0179___part_000   607        None    nw   \n",
       "tc_ch_00_ch_0039___part_001         9593       None    tc   \n",
       "nw_xinhua_02_chtb_0230___part_000   5767       None    nw   \n",
       "pt_nt_41_nt_4110___part_002         9217       None    pt   \n",
       "pt_nt_44_nt_4419___part_001         9574       None    pt   \n",
       "tc_ch_00_ch_0029___part_002         6156       None    tc   \n",
       "nw_wsj_23_wsj_2383___part_000       6080       None    nw   \n",
       "wb_a2e_00_a2e_0009___part_001       6164       None    wb   \n",
       "nw_xinhua_00_chtb_0030___part_000   247        None    nw   \n",
       "wb_eng_00_eng_0009___part_001       9616       None    wb   \n",
       "nw_wsj_24_wsj_2429___part_000       5725       None    nw   \n",
       "nw_wsj_23_wsj_2394___part_000       587        None    nw   \n",
       "nw_xinhua_00_chtb_0039___part_000   9527       None    nw   \n",
       "wb_eng_00_eng_0010___part_002       336        None    wb   \n",
       "mz_sinorama_10_ectb_1070___part_008 5000       None    mz   \n",
       "nw_xinhua_00_chtb_0080___part_000   5752       None    nw   \n",
       "wb_c2e_00_c2e_0050___part_000       5827       None    wb   \n",
       "tc_ch_00_ch_0009___part_003         651        None    tc   \n",
       "mz_sinorama_10_ectb_1050___part_004 4984       None    mz   \n",
       "nw_xinhua_02_chtb_0250___part_000   269        None    nw   \n",
       "nw_xinhua_02_chtb_0210___part_000   9199       None    nw   \n",
       "nw_wsj_24_wsj_2428___part_000       9158       None    nw   \n",
       "nw_xinhua_00_chtb_0099___part_000   5411       None    nw   \n",
       "pt_nt_42_nt_4220___part_001         9221       None    pt   \n",
       "wb_eng_00_eng_0000___part_005       5833       None    wb   \n",
       "nw_xinhua_01_chtb_0199___part_000   609        None    nw   \n",
       "tc_ch_00_ch_0010___part_001         5114       None    tc   \n",
       "nw_wsj_00_wsj_0089___part_000       5692       None    nw   \n",
       "nw_xinhua_01_chtb_0180___part_000   9196       None    nw   \n",
       "\n",
       "                                                                                       path  \\\n",
       "base_doc                                                                                      \n",
       "wb_c2e_00_c2e_0009___part_000       670   ../output/conll-2012-transformed/men_100/test/...   \n",
       "mz_sinorama_10_ectb_1020___part_001 5657  ../output/conll-2012-transformed/nonmen_100/de...   \n",
       "nw_xinhua_00_chtb_0019___part_000   9525  ../output/conll-2012-transformed/orig/test/nw_...   \n",
       "nw_xinhua_00_chtb_0049___part_000   594   ../output/conll-2012-transformed/men_100/test/...   \n",
       "wb_a2e_00_a2e_0019___part_000       9602  ../output/conll-2012-transformed/orig/test/wb_...   \n",
       "nw_wsj_24_wsj_2452___part_000       9177  ../output/conll-2012-transformed/orig/dev/nw_w...   \n",
       "mz_sinorama_10_ectb_1070___part_003 183   ../output/conll-2012-transformed/men_100/dev/m...   \n",
       "nw_xinhua_01_chtb_0160___part_000   9194  ../output/conll-2012-transformed/orig/dev/nw_x...   \n",
       "nw_wsj_23_wsj_2381___part_000       6078  ../output/conll-2012-transformed/nonmen_100/te...   \n",
       "wb_eng_00_eng_0010___part_004       5838  ../output/conll-2012-transformed/nonmen_100/de...   \n",
       "bn_cnn_02_cnn_0200___part_000       4896  ../output/conll-2012-transformed/no-name/dev/b...   \n",
       "wb_eng_00_eng_0009___part_004       6184  ../output/conll-2012-transformed/nonmen_100/te...   \n",
       "nw_wsj_24_wsj_2412___part_000       5713  ../output/conll-2012-transformed/nonmen_100/de...   \n",
       "nw_wsj_24_wsj_2407___part_000       5708  ../output/conll-2012-transformed/nonmen_100/de...   \n",
       "tc_ch_00_ch_0040___part_001         5811  ../output/conll-2012-transformed/nonmen_100/de...   \n",
       "nw_wsj_23_wsj_2399___part_000       6088  ../output/conll-2012-transformed/nonmen_100/te...   \n",
       "nw_wsj_24_wsj_2409___part_000       210   ../output/conll-2012-transformed/men_100/dev/n...   \n",
       "nw_xinhua_00_chtb_0059___part_000   6094  ../output/conll-2012-transformed/nonmen_100/te...   \n",
       "nw_wsj_00_wsj_0037___part_000       190   ../output/conll-2012-transformed/men_100/dev/n...   \n",
       "nw_wsj_23_wsj_2389___part_000       9518  ../output/conll-2012-transformed/orig/test/nw_...   \n",
       "nw_xinhua_01_chtb_0120___part_000   5068  ../output/conll-2012-transformed/no-name/dev/n...   \n",
       "tc_ch_00_ch_0029___part_001         9590  ../output/conll-2012-transformed/orig/test/tc_...   \n",
       "pt_nt_58_nt_5810___part_000         298   ../output/conll-2012-transformed/men_100/dev/p...   \n",
       "pt_nt_40_nt_4020___part_001         5092  ../output/conll-2012-transformed/no-name/dev/p...   \n",
       "pt_nt_66_nt_6609___part_000         5458  ../output/conll-2012-transformed/no-name/test/...   \n",
       "tc_ch_00_ch_0030___part_000         9241  ../output/conll-2012-transformed/orig/dev/tc_c...   \n",
       "tc_ch_00_ch_0010___part_002         5115  ../output/conll-2012-transformed/no-name/dev/t...   \n",
       "nw_xinhua_01_chtb_0190___part_000   5763  ../output/conll-2012-transformed/nonmen_100/de...   \n",
       "nw_xinhua_01_chtb_0129___part_000   5414  ../output/conll-2012-transformed/no-name/test/...   \n",
       "nw_wsj_23_wsj_2395___part_000       588   ../output/conll-2012-transformed/men_100/test/...   \n",
       "...                                                                                     ...   \n",
       "nw_xinhua_01_chtb_0169___part_000   5418  ../output/conll-2012-transformed/no-name/test/...   \n",
       "nw_xinhua_01_chtb_0179___part_000   607   ../output/conll-2012-transformed/men_100/test/...   \n",
       "tc_ch_00_ch_0039___part_001         9593  ../output/conll-2012-transformed/orig/test/tc_...   \n",
       "nw_xinhua_02_chtb_0230___part_000   5767  ../output/conll-2012-transformed/nonmen_100/de...   \n",
       "pt_nt_41_nt_4110___part_002         9217  ../output/conll-2012-transformed/orig/dev/pt_n...   \n",
       "pt_nt_44_nt_4419___part_001         9574  ../output/conll-2012-transformed/orig/test/pt_...   \n",
       "tc_ch_00_ch_0029___part_002         6156  ../output/conll-2012-transformed/nonmen_100/te...   \n",
       "nw_wsj_23_wsj_2383___part_000       6080  ../output/conll-2012-transformed/nonmen_100/te...   \n",
       "wb_a2e_00_a2e_0009___part_001       6164  ../output/conll-2012-transformed/nonmen_100/te...   \n",
       "nw_xinhua_00_chtb_0030___part_000   247   ../output/conll-2012-transformed/men_100/dev/n...   \n",
       "wb_eng_00_eng_0009___part_001       9616  ../output/conll-2012-transformed/orig/test/wb_...   \n",
       "nw_wsj_24_wsj_2429___part_000       5725  ../output/conll-2012-transformed/nonmen_100/de...   \n",
       "nw_wsj_23_wsj_2394___part_000       587   ../output/conll-2012-transformed/men_100/test/...   \n",
       "nw_xinhua_00_chtb_0039___part_000   9527  ../output/conll-2012-transformed/orig/test/nw_...   \n",
       "wb_eng_00_eng_0010___part_002       336   ../output/conll-2012-transformed/men_100/dev/w...   \n",
       "mz_sinorama_10_ectb_1070___part_008 5000  ../output/conll-2012-transformed/no-name/dev/m...   \n",
       "nw_xinhua_00_chtb_0080___part_000   5752  ../output/conll-2012-transformed/nonmen_100/de...   \n",
       "wb_c2e_00_c2e_0050___part_000       5827  ../output/conll-2012-transformed/nonmen_100/de...   \n",
       "tc_ch_00_ch_0009___part_003         651   ../output/conll-2012-transformed/men_100/test/...   \n",
       "mz_sinorama_10_ectb_1050___part_004 4984  ../output/conll-2012-transformed/no-name/dev/m...   \n",
       "nw_xinhua_02_chtb_0250___part_000   269   ../output/conll-2012-transformed/men_100/dev/n...   \n",
       "nw_xinhua_02_chtb_0210___part_000   9199  ../output/conll-2012-transformed/orig/dev/nw_x...   \n",
       "nw_wsj_24_wsj_2428___part_000       9158  ../output/conll-2012-transformed/orig/dev/nw_w...   \n",
       "nw_xinhua_00_chtb_0099___part_000   5411  ../output/conll-2012-transformed/no-name/test/...   \n",
       "pt_nt_42_nt_4220___part_001         9221  ../output/conll-2012-transformed/orig/dev/pt_n...   \n",
       "wb_eng_00_eng_0000___part_005       5833  ../output/conll-2012-transformed/nonmen_100/de...   \n",
       "nw_xinhua_01_chtb_0199___part_000   609   ../output/conll-2012-transformed/men_100/test/...   \n",
       "tc_ch_00_ch_0010___part_001         5114  ../output/conll-2012-transformed/no-name/dev/t...   \n",
       "nw_wsj_00_wsj_0089___part_000       5692  ../output/conll-2012-transformed/nonmen_100/de...   \n",
       "nw_xinhua_01_chtb_0180___part_000   9196  ../output/conll-2012-transformed/orig/dev/nw_x...   \n",
       "\n",
       "                                         transformation  \n",
       "base_doc                                                 \n",
       "wb_c2e_00_c2e_0009___part_000       670         men_100  \n",
       "mz_sinorama_10_ectb_1020___part_001 5657     nonmen_100  \n",
       "nw_xinhua_00_chtb_0019___part_000   9525           orig  \n",
       "nw_xinhua_00_chtb_0049___part_000   594         men_100  \n",
       "wb_a2e_00_a2e_0019___part_000       9602           orig  \n",
       "nw_wsj_24_wsj_2452___part_000       9177           orig  \n",
       "mz_sinorama_10_ectb_1070___part_003 183         men_100  \n",
       "nw_xinhua_01_chtb_0160___part_000   9194           orig  \n",
       "nw_wsj_23_wsj_2381___part_000       6078     nonmen_100  \n",
       "wb_eng_00_eng_0010___part_004       5838     nonmen_100  \n",
       "bn_cnn_02_cnn_0200___part_000       4896        no-name  \n",
       "wb_eng_00_eng_0009___part_004       6184     nonmen_100  \n",
       "nw_wsj_24_wsj_2412___part_000       5713     nonmen_100  \n",
       "nw_wsj_24_wsj_2407___part_000       5708     nonmen_100  \n",
       "tc_ch_00_ch_0040___part_001         5811     nonmen_100  \n",
       "nw_wsj_23_wsj_2399___part_000       6088     nonmen_100  \n",
       "nw_wsj_24_wsj_2409___part_000       210         men_100  \n",
       "nw_xinhua_00_chtb_0059___part_000   6094     nonmen_100  \n",
       "nw_wsj_00_wsj_0037___part_000       190         men_100  \n",
       "nw_wsj_23_wsj_2389___part_000       9518           orig  \n",
       "nw_xinhua_01_chtb_0120___part_000   5068        no-name  \n",
       "tc_ch_00_ch_0029___part_001         9590           orig  \n",
       "pt_nt_58_nt_5810___part_000         298         men_100  \n",
       "pt_nt_40_nt_4020___part_001         5092        no-name  \n",
       "pt_nt_66_nt_6609___part_000         5458        no-name  \n",
       "tc_ch_00_ch_0030___part_000         9241           orig  \n",
       "tc_ch_00_ch_0010___part_002         5115        no-name  \n",
       "nw_xinhua_01_chtb_0190___part_000   5763     nonmen_100  \n",
       "nw_xinhua_01_chtb_0129___part_000   5414        no-name  \n",
       "nw_wsj_23_wsj_2395___part_000       588         men_100  \n",
       "...                                                 ...  \n",
       "nw_xinhua_01_chtb_0169___part_000   5418        no-name  \n",
       "nw_xinhua_01_chtb_0179___part_000   607         men_100  \n",
       "tc_ch_00_ch_0039___part_001         9593           orig  \n",
       "nw_xinhua_02_chtb_0230___part_000   5767     nonmen_100  \n",
       "pt_nt_41_nt_4110___part_002         9217           orig  \n",
       "pt_nt_44_nt_4419___part_001         9574           orig  \n",
       "tc_ch_00_ch_0029___part_002         6156     nonmen_100  \n",
       "nw_wsj_23_wsj_2383___part_000       6080     nonmen_100  \n",
       "wb_a2e_00_a2e_0009___part_001       6164     nonmen_100  \n",
       "nw_xinhua_00_chtb_0030___part_000   247         men_100  \n",
       "wb_eng_00_eng_0009___part_001       9616           orig  \n",
       "nw_wsj_24_wsj_2429___part_000       5725     nonmen_100  \n",
       "nw_wsj_23_wsj_2394___part_000       587         men_100  \n",
       "nw_xinhua_00_chtb_0039___part_000   9527           orig  \n",
       "wb_eng_00_eng_0010___part_002       336         men_100  \n",
       "mz_sinorama_10_ectb_1070___part_008 5000        no-name  \n",
       "nw_xinhua_00_chtb_0080___part_000   5752     nonmen_100  \n",
       "wb_c2e_00_c2e_0050___part_000       5827     nonmen_100  \n",
       "tc_ch_00_ch_0009___part_003         651         men_100  \n",
       "mz_sinorama_10_ectb_1050___part_004 4984        no-name  \n",
       "nw_xinhua_02_chtb_0250___part_000   269         men_100  \n",
       "nw_xinhua_02_chtb_0210___part_000   9199           orig  \n",
       "nw_wsj_24_wsj_2428___part_000       9158           orig  \n",
       "nw_xinhua_00_chtb_0099___part_000   5411        no-name  \n",
       "pt_nt_42_nt_4220___part_001         9221           orig  \n",
       "wb_eng_00_eng_0000___part_005       5833     nonmen_100  \n",
       "nw_xinhua_01_chtb_0199___part_000   609         men_100  \n",
       "tc_ch_00_ch_0010___part_001         5114        no-name  \n",
       "nw_wsj_00_wsj_0089___part_000       5692     nonmen_100  \n",
       "nw_xinhua_01_chtb_0180___part_000   9196           orig  \n",
       "\n",
       "[239 rows x 5 columns]"
      ]
     },
     "execution_count": 71,
     "metadata": {},
     "output_type": "execute_result"
    }
   ],
   "source": [
    "sampled_paths"
   ]
  },
  {
   "cell_type": "code",
   "execution_count": 72,
   "metadata": {},
   "outputs": [
    {
     "data": {
      "text/html": [
       "<div>\n",
       "<style scoped>\n",
       "    .dataframe tbody tr th:only-of-type {\n",
       "        vertical-align: middle;\n",
       "    }\n",
       "\n",
       "    .dataframe tbody tr th {\n",
       "        vertical-align: top;\n",
       "    }\n",
       "\n",
       "    .dataframe thead th {\n",
       "        text-align: right;\n",
       "    }\n",
       "</style>\n",
       "<table border=\"1\" class=\"dataframe\">\n",
       "  <thead>\n",
       "    <tr style=\"text-align: right;\">\n",
       "      <th></th>\n",
       "      <th></th>\n",
       "      <th>base_doc</th>\n",
       "      <th>experiment</th>\n",
       "      <th>genre</th>\n",
       "      <th>path</th>\n",
       "      <th>transformation</th>\n",
       "    </tr>\n",
       "    <tr>\n",
       "      <th>base_doc</th>\n",
       "      <th></th>\n",
       "      <th></th>\n",
       "      <th></th>\n",
       "      <th></th>\n",
       "      <th></th>\n",
       "      <th></th>\n",
       "    </tr>\n",
       "  </thead>\n",
       "  <tbody>\n",
       "    <tr>\n",
       "      <th>wb_c2e_00_c2e_0009___part_000</th>\n",
       "      <th>670</th>\n",
       "      <td>wb_c2e_00_c2e_0009___part_000</td>\n",
       "      <td>None</td>\n",
       "      <td>wb</td>\n",
       "      <td>../output/conll-2012-transformed/men_100/test/...</td>\n",
       "      <td>men_100</td>\n",
       "    </tr>\n",
       "    <tr>\n",
       "      <th>mz_sinorama_10_ectb_1020___part_001</th>\n",
       "      <th>5657</th>\n",
       "      <td>mz_sinorama_10_ectb_1020___part_001</td>\n",
       "      <td>None</td>\n",
       "      <td>mz</td>\n",
       "      <td>../output/conll-2012-transformed/nonmen_100/de...</td>\n",
       "      <td>nonmen_100</td>\n",
       "    </tr>\n",
       "    <tr>\n",
       "      <th>nw_xinhua_00_chtb_0019___part_000</th>\n",
       "      <th>9525</th>\n",
       "      <td>nw_xinhua_00_chtb_0019___part_000</td>\n",
       "      <td>None</td>\n",
       "      <td>nw</td>\n",
       "      <td>../output/conll-2012-transformed/orig/test/nw_...</td>\n",
       "      <td>orig</td>\n",
       "    </tr>\n",
       "  </tbody>\n",
       "</table>\n",
       "</div>"
      ],
      "text/plain": [
       "                                                                     base_doc  \\\n",
       "base_doc                                                                        \n",
       "wb_c2e_00_c2e_0009___part_000       670         wb_c2e_00_c2e_0009___part_000   \n",
       "mz_sinorama_10_ectb_1020___part_001 5657  mz_sinorama_10_ectb_1020___part_001   \n",
       "nw_xinhua_00_chtb_0019___part_000   9525    nw_xinhua_00_chtb_0019___part_000   \n",
       "\n",
       "                                         experiment genre  \\\n",
       "base_doc                                                    \n",
       "wb_c2e_00_c2e_0009___part_000       670        None    wb   \n",
       "mz_sinorama_10_ectb_1020___part_001 5657       None    mz   \n",
       "nw_xinhua_00_chtb_0019___part_000   9525       None    nw   \n",
       "\n",
       "                                                                                       path  \\\n",
       "base_doc                                                                                      \n",
       "wb_c2e_00_c2e_0009___part_000       670   ../output/conll-2012-transformed/men_100/test/...   \n",
       "mz_sinorama_10_ectb_1020___part_001 5657  ../output/conll-2012-transformed/nonmen_100/de...   \n",
       "nw_xinhua_00_chtb_0019___part_000   9525  ../output/conll-2012-transformed/orig/test/nw_...   \n",
       "\n",
       "                                         transformation  \n",
       "base_doc                                                 \n",
       "wb_c2e_00_c2e_0009___part_000       670         men_100  \n",
       "mz_sinorama_10_ectb_1020___part_001 5657     nonmen_100  \n",
       "nw_xinhua_00_chtb_0019___part_000   9525           orig  "
      ]
     },
     "execution_count": 72,
     "metadata": {},
     "output_type": "execute_result"
    }
   ],
   "source": [
    "sampled_paths.head(3)"
   ]
  },
  {
   "cell_type": "code",
   "execution_count": 73,
   "metadata": {},
   "outputs": [
    {
     "name": "stdout",
     "output_type": "stream",
     "text": [
      "No problem was found\n"
     ]
    }
   ],
   "source": [
    "check_assignments_one_annotator(student2_paths, sampled_paths)"
   ]
  },
  {
   "cell_type": "code",
   "execution_count": 74,
   "metadata": {},
   "outputs": [
    {
     "data": {
      "image/png": "[encoded data removed]",
      "text/plain": [
       "<Figure size 576x288 with 2 Axes>"
      ]
     },
     "metadata": {
      "needs_background": "light"
     },
     "output_type": "display_data"
    }
   ],
   "source": [
    "compare_genre_distribution(pd.concat([student2_paths, sampled_paths]))"
   ]
  },
  {
   "cell_type": "code",
   "execution_count": 89,
   "metadata": {},
   "outputs": [],
   "source": [
    "copy_conf_string_clipboard(sampled_paths)"
   ]
  },
  {
   "cell_type": "code",
   "execution_count": null,
   "metadata": {},
   "outputs": [],
   "source": []
  },
  {
   "cell_type": "code",
   "execution_count": null,
   "metadata": {},
   "outputs": [],
   "source": []
  },
  {
   "cell_type": "code",
   "execution_count": null,
   "metadata": {},
   "outputs": [],
   "source": []
  },
  {
   "cell_type": "code",
   "execution_count": null,
   "metadata": {},
   "outputs": [],
   "source": []
  },
  {
   "cell_type": "code",
   "execution_count": null,
   "metadata": {},
   "outputs": [],
   "source": []
  }
 ],
 "metadata": {
  "kernelspec": {
   "display_name": "conda-env-EvEn-py",
   "language": "python",
   "name": "conda-env-even-py"
  },
  "language_info": {
   "codemirror_mode": {
    "name": "ipython",
    "version": 3
   },
   "file_extension": ".py",
   "mimetype": "text/x-python",
   "name": "python",
   "nbconvert_exporter": "python",
   "pygments_lexer": "ipython3",
   "version": "3.6.9"
  }
 },
 "nbformat": 4,
 "nbformat_minor": 2
}
