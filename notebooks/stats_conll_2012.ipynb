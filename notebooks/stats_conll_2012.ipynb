{
 "cells": [
  {
   "cell_type": "markdown",
   "metadata": {},
   "source": [
    "## Counting files and words"
   ]
  },
  {
   "cell_type": "code",
   "execution_count": 4,
   "metadata": {},
   "outputs": [
    {
     "name": "stdout",
     "output_type": "stream",
     "text": [
      "../data/conll-2012-flat/dev/bc_cctv_0000.v4_gold_conll\r\n",
      "../data/conll-2012-flat/dev/bc_cnn_0000.v4_gold_conll\r\n",
      "../data/conll-2012-flat/dev/bc_msnbc_0000.v4_gold_conll\r\n",
      "../data/conll-2012-flat/dev/bc_phoenix_0000.v4_gold_conll\r\n",
      "../data/conll-2012-flat/dev/bn_abc_0010.v4_gold_conll\r\n",
      "../data/conll-2012-flat/dev/bn_abc_0020.v4_gold_conll\r\n",
      "../data/conll-2012-flat/dev/bn_abc_0030.v4_gold_conll\r\n",
      "../data/conll-2012-flat/dev/bn_abc_0040.v4_gold_conll\r\n",
      "../data/conll-2012-flat/dev/bn_abc_0050.v4_gold_conll\r\n",
      "../data/conll-2012-flat/dev/bn_abc_0060.v4_gold_conll\r\n"
     ]
    }
   ],
   "source": [
    "!ls ../data/conll-2012-flat/*/*gold_conll | head"
   ]
  },
  {
   "cell_type": "markdown",
   "metadata": {},
   "source": [
    "Number of documents:"
   ]
  },
  {
   "cell_type": "code",
   "execution_count": 3,
   "metadata": {},
   "outputs": [
    {
     "name": "stdout",
     "output_type": "stream",
     "text": [
      "    2385\r\n"
     ]
    }
   ],
   "source": [
    "!ls ../data/conll-2012-flat/*/*gold_conll | wc -l"
   ]
  },
  {
   "cell_type": "markdown",
   "metadata": {},
   "source": [
    "Number of tokens:"
   ]
  },
  {
   "cell_type": "code",
   "execution_count": 1,
   "metadata": {},
   "outputs": [
    {
     "name": "stdout",
     "output_type": "stream",
     "text": [
      " 1913004\r\n"
     ]
    }
   ],
   "source": [
    "!cat ../data/conll-2012-flat/*/*gold_conll | wc -l"
   ]
  },
  {
   "cell_type": "markdown",
   "metadata": {},
   "source": [
    "## Discover the genres"
   ]
  },
  {
   "cell_type": "code",
   "execution_count": 47,
   "metadata": {},
   "outputs": [
    {
     "name": "stdout",
     "output_type": "stream",
     "text": [
      "Found 7 genres: bc tc wb bn nw mz pt\n"
     ]
    }
   ],
   "source": [
    "import os \n",
    "from glob import glob\n",
    "import re\n",
    "\n",
    "paths = glob('../data/conll-2012-flat/test/*_conll')\n",
    "fnames = [os.path.basename(path) for path in paths]\n",
    "genres = set(re.match(r'([a-z]+)_', fname).group(1) for fname in fnames)\n",
    "print('Found %d genres: %s' %(len(genres), ' '.join(genres)))"
   ]
  },
  {
   "cell_type": "markdown",
   "metadata": {},
   "source": [
    "## Measure performance of Stanford Sieve on different genres"
   ]
  },
  {
   "cell_type": "code",
   "execution_count": 40,
   "metadata": {},
   "outputs": [],
   "source": [
    "%%sh\n",
    "rm -rf ../output/stats_conll_2012\n",
    "mkdir ../output/stats_conll_2012"
   ]
  },
  {
   "cell_type": "code",
   "execution_count": 45,
   "metadata": {},
   "outputs": [
    {
     "name": "stdout",
     "output_type": "stream",
     "text": [
      "=== Genre: bc ===\n",
      "INFO: Final conll score ((muc+bcub+ceafe)/3) = 55\n",
      "=== Genre: tc ===\n",
      "INFO: Final conll score ((muc+bcub+ceafe)/3) = 61.96\n",
      "=== Genre: wb ===\n",
      "INFO: Final conll score ((muc+bcub+ceafe)/3) = 57.64\n",
      "=== Genre: bn ===\n",
      "INFO: Final conll score ((muc+bcub+ceafe)/3) = 56.37\n",
      "=== Genre: nw ===\n",
      "INFO: Final conll score ((muc+bcub+ceafe)/3) = 54.62\n",
      "=== Genre: mz ===\n",
      "INFO: Final conll score ((muc+bcub+ceafe)/3) = 57.69\n",
      "=== Genre: pt ===\n",
      "INFO: Final conll score ((muc+bcub+ceafe)/3) = 66.65\n",
      "CPU times: user 13 ms, sys: 10.4 ms, total: 23.4 ms\n",
      "Wall time: 6min 36s\n"
     ]
    }
   ],
   "source": [
    "%%time\n",
    "%%sh\n",
    "\n",
    "cd ../CoreNLP\n",
    "\n",
    "JARS=`echo *.jar target/*.jar lib/*.jar | tr ' ' ':'`\n",
    "\n",
    "run_sieve() {\n",
    "    java -Xmx6g -cp $JARS edu.stanford.nlp.dcoref.SieveCoreferenceSystem \\\n",
    "            -props sieve-english-conll.properties \\\n",
    "            -dcoref.use_conll_auto false \\\n",
    "            -dcoref.conll2011 ../output/conll-2012-by_genre/$1/orig/test.m_gold_conll \\\n",
    "            -dcoref.conll.output ../output/stats_conll_2012/$1-test.m_gold_conll \\\n",
    "            -dcoref.conll.scorer ../data/conll-2012/scorer/v8.01/scorer.pl\n",
    "}\n",
    "\n",
    "for genre in bc tc wb bn nw mz pt\n",
    "do\n",
    "    echo \"=== Genre: $genre ===\"\n",
    "    run_sieve $genre 2>&1 | grep \"Final conll score\"\n",
    "done"
   ]
  },
  {
   "cell_type": "markdown",
   "metadata": {},
   "source": [
    "## Measure performance of Stanford Neural nets on different genres"
   ]
  },
  {
   "cell_type": "code",
   "execution_count": 46,
   "metadata": {},
   "outputs": [
    {
     "name": "stdout",
     "output_type": "stream",
     "text": [
      "=== Genre: bc ===\n",
      "[main] INFO CoreNLP - Final conll score ((muc+bcub+ceafe)/3) = 64.02\n",
      "=== Genre: tc ===\n",
      "[main] INFO CoreNLP - Final conll score ((muc+bcub+ceafe)/3) = 71.36\n",
      "=== Genre: wb ===\n",
      "[main] INFO CoreNLP - Final conll score ((muc+bcub+ceafe)/3) = 66.11\n",
      "=== Genre: bn ===\n",
      "[main] INFO CoreNLP - Final conll score ((muc+bcub+ceafe)/3) = 66.78\n",
      "=== Genre: nw ===\n",
      "[main] INFO CoreNLP - Final conll score ((muc+bcub+ceafe)/3) = 65.05\n",
      "=== Genre: mz ===\n",
      "[main] INFO CoreNLP - Final conll score ((muc+bcub+ceafe)/3) = 75.19\n",
      "=== Genre: pt ===\n",
      "[main] INFO CoreNLP - Final conll score ((muc+bcub+ceafe)/3) = 78.02\n",
      "CPU times: user 306 ms, sys: 152 ms, total: 458 ms\n",
      "Wall time: 2h 43s\n"
     ]
    }
   ],
   "source": [
    "%%time\n",
    "%%sh\n",
    "\n",
    "cd ../CoreNLP\n",
    "\n",
    "JARS=target/stanford-corenlp-3.7.0.jar:stanford-corenlp-models-current.jar:stanford-english-corenlp-models-current.jar:`echo lib/*.jar | tr ' ' ':'`\n",
    "\n",
    "run_deep_coref() {\n",
    "    OUT_DIR=../output/stats_conll_2012/$1-test-deep-coref\n",
    "    mkdir $OUT_DIR\n",
    "    java -Xmx6g -cp $JARS edu.stanford.nlp.coref.CorefSystem \\\n",
    "        -coref.algorithm neural \\\n",
    "        -coref.conll true -coref.suffix _gold_conll \\\n",
    "        -coref.inputPath ../output/conll-2012-by_genre/$1/orig/test.m_gold_conll \\\n",
    "        -coref.conllOutputPath $OUT_DIR \\\n",
    "        -coref.scorer ../reference-coreference-scorers/v8.01/scorer.pl\n",
    "}\n",
    "\n",
    "for genre in bc tc wb bn nw mz pt\n",
    "do\n",
    "    echo \"=== Genre: $genre ===\"\n",
    "    run_deep_coref $genre 2>&1 | grep \"Final conll score\"\n",
    "done"
   ]
  },
  {
   "cell_type": "code",
   "execution_count": null,
   "metadata": {},
   "outputs": [],
   "source": []
  }
 ],
 "metadata": {
  "kernelspec": {
   "display_name": "Python 3",
   "language": "python",
   "name": "python3"
  },
  "language_info": {
   "codemirror_mode": {
    "name": "ipython",
    "version": 3
   },
   "file_extension": ".py",
   "mimetype": "text/x-python",
   "name": "python",
   "nbconvert_exporter": "python",
   "pygments_lexer": "ipython3",
   "version": "3.6.2"
  }
 },
 "nbformat": 4,
 "nbformat_minor": 2
}
